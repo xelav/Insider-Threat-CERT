{
  "nbformat": 4,
  "nbformat_minor": 0,
  "metadata": {
    "kernelspec": {
      "display_name": "Torch3.6",
      "language": "python",
      "name": "torch3.6"
    },
    "language_info": {
      "codemirror_mode": {
        "name": "ipython",
        "version": 3
      },
      "file_extension": ".py",
      "mimetype": "text/x-python",
      "name": "python",
      "nbconvert_exporter": "python",
      "pygments_lexer": "ipython3",
      "version": "3.6.7"
    },
    "colab": {
      "name": "classifiers-benchmark.ipynb",
      "provenance": [],
      "machine_shape": "hm"
    },
    "accelerator": "GPU"
  },
  "cells": [
    {
      "cell_type": "code",
      "metadata": {
        "id": "xwRWFVh716SZ",
        "colab_type": "code",
        "colab": {
          "base_uri": "https://localhost:8080/",
          "height": 139
        },
        "outputId": "4f6cd554-fde5-420c-a051-ae5a10eab332"
      },
      "source": [
        "from google.colab import drive\n",
        "drive.mount('/content/drive')\n",
        "\n",
        "root_dir = '/content/drive/My Drive/'\n",
        "\n",
        "%cd \"{root_dir}\""
      ],
      "execution_count": 1,
      "outputs": [
        {
          "output_type": "stream",
          "text": [
            "Go to this URL in a browser: https://accounts.google.com/o/oauth2/auth?client_id=947318989803-6bn6qk8qdgf4n4g3pfee6491hc0brc4i.apps.googleusercontent.com&redirect_uri=urn%3aietf%3awg%3aoauth%3a2.0%3aoob&response_type=code&scope=email%20https%3a%2f%2fwww.googleapis.com%2fauth%2fdocs.test%20https%3a%2f%2fwww.googleapis.com%2fauth%2fdrive%20https%3a%2f%2fwww.googleapis.com%2fauth%2fdrive.photos.readonly%20https%3a%2f%2fwww.googleapis.com%2fauth%2fpeopleapi.readonly\n",
            "\n",
            "Enter your authorization code:\n",
            "··········\n",
            "Mounted at /content/drive\n",
            "/content/drive/My Drive\n"
          ],
          "name": "stdout"
        }
      ]
    },
    {
      "cell_type": "code",
      "metadata": {
        "id": "dXmOdz9G3iLa",
        "colab_type": "code",
        "colab": {
          "base_uri": "https://localhost:8080/",
          "height": 119
        },
        "outputId": "558d4937-6f6f-40db-e7a9-1b495cf312ef"
      },
      "source": [
        "!git clone https://github.com/xelav/Insider-Threat-CERT /root/repo\n",
        "\n",
        "import sys\n",
        "sys.path.append(\"/root/repo\")"
      ],
      "execution_count": 2,
      "outputs": [
        {
          "output_type": "stream",
          "text": [
            "Cloning into '/root/repo'...\n",
            "remote: Enumerating objects: 96, done.\u001b[K\n",
            "remote: Counting objects:   1% (1/96)\u001b[K\rremote: Counting objects:   2% (2/96)\u001b[K\rremote: Counting objects:   3% (3/96)\u001b[K\rremote: Counting objects:   4% (4/96)\u001b[K\rremote: Counting objects:   5% (5/96)\u001b[K\rremote: Counting objects:   6% (6/96)\u001b[K\rremote: Counting objects:   7% (7/96)\u001b[K\rremote: Counting objects:   8% (8/96)\u001b[K\rremote: Counting objects:   9% (9/96)\u001b[K\rremote: Counting objects:  10% (10/96)\u001b[K\rremote: Counting objects:  11% (11/96)\u001b[K\rremote: Counting objects:  12% (12/96)\u001b[K\rremote: Counting objects:  13% (13/96)\u001b[K\rremote: Counting objects:  14% (14/96)\u001b[K\rremote: Counting objects:  15% (15/96)\u001b[K\rremote: Counting objects:  16% (16/96)\u001b[K\rremote: Counting objects:  17% (17/96)\u001b[K\rremote: Counting objects:  18% (18/96)\u001b[K\rremote: Counting objects:  19% (19/96)\u001b[K\rremote: Counting objects:  20% (20/96)\u001b[K\rremote: Counting objects:  21% (21/96)\u001b[K\rremote: Counting objects:  22% (22/96)\u001b[K\rremote: Counting objects:  23% (23/96)\u001b[K\rremote: Counting objects:  25% (24/96)\u001b[K\rremote: Counting objects:  26% (25/96)\u001b[K\rremote: Counting objects:  27% (26/96)\u001b[K\rremote: Counting objects:  28% (27/96)\u001b[K\rremote: Counting objects:  29% (28/96)\u001b[K\rremote: Counting objects:  30% (29/96)\u001b[K\rremote: Counting objects:  31% (30/96)\u001b[K\rremote: Counting objects:  32% (31/96)\u001b[K\rremote: Counting objects:  33% (32/96)\u001b[K\rremote: Counting objects:  34% (33/96)\u001b[K\rremote: Counting objects:  35% (34/96)\u001b[K\rremote: Counting objects:  36% (35/96)\u001b[K\rremote: Counting objects:  37% (36/96)\u001b[K\rremote: Counting objects:  38% (37/96)\u001b[K\rremote: Counting objects:  39% (38/96)\u001b[K\rremote: Counting objects:  40% (39/96)\u001b[K\rremote: Counting objects:  41% (40/96)\u001b[K\rremote: Counting objects:  42% (41/96)\u001b[K\rremote: Counting objects:  43% (42/96)\u001b[K\rremote: Counting objects:  44% (43/96)\u001b[K\rremote: Counting objects:  45% (44/96)\u001b[K\rremote: Counting objects:  46% (45/96)\u001b[K\rremote: Counting objects:  47% (46/96)\u001b[K\rremote: Counting objects:  48% (47/96)\u001b[K\rremote: Counting objects:  50% (48/96)\u001b[K\rremote: Counting objects:  51% (49/96)\u001b[K\rremote: Counting objects:  52% (50/96)\u001b[K\rremote: Counting objects:  53% (51/96)\u001b[K\rremote: Counting objects:  54% (52/96)\u001b[K\rremote: Counting objects:  55% (53/96)\u001b[K\rremote: Counting objects:  56% (54/96)\u001b[K\rremote: Counting objects:  57% (55/96)\u001b[K\rremote: Counting objects:  58% (56/96)\u001b[K\rremote: Counting objects:  59% (57/96)\u001b[K\rremote: Counting objects:  60% (58/96)\u001b[K\rremote: Counting objects:  61% (59/96)\u001b[K\rremote: Counting objects:  62% (60/96)\u001b[K\rremote: Counting objects:  63% (61/96)\u001b[K\rremote: Counting objects:  64% (62/96)\u001b[K\rremote: Counting objects:  65% (63/96)\u001b[K\rremote: Counting objects:  66% (64/96)\u001b[K\rremote: Counting objects:  67% (65/96)\u001b[K\rremote: Counting objects:  68% (66/96)\u001b[K\rremote: Counting objects:  69% (67/96)\u001b[K\rremote: Counting objects:  70% (68/96)\u001b[K\rremote: Counting objects:  71% (69/96)\u001b[K\rremote: Counting objects:  72% (70/96)\u001b[K\rremote: Counting objects:  73% (71/96)\u001b[K\rremote: Counting objects:  75% (72/96)\u001b[K\rremote: Counting objects:  76% (73/96)\u001b[K\rremote: Counting objects:  77% (74/96)\u001b[K\rremote: Counting objects:  78% (75/96)\u001b[K\rremote: Counting objects:  79% (76/96)\u001b[K\rremote: Counting objects:  80% (77/96)\u001b[K\rremote: Counting objects:  81% (78/96)\u001b[K\rremote: Counting objects:  82% (79/96)\u001b[K\rremote: Counting objects:  83% (80/96)\u001b[K\rremote: Counting objects:  84% (81/96)\u001b[K\rremote: Counting objects:  85% (82/96)\u001b[K\rremote: Counting objects:  86% (83/96)\u001b[K\rremote: Counting objects:  87% (84/96)\u001b[K\rremote: Counting objects:  88% (85/96)\u001b[K\rremote: Counting objects:  89% (86/96)\u001b[K\rremote: Counting objects:  90% (87/96)\u001b[K\rremote: Counting objects:  91% (88/96)\u001b[K\rremote: Counting objects:  92% (89/96)\u001b[K\rremote: Counting objects:  93% (90/96)\u001b[K\rremote: Counting objects:  94% (91/96)\u001b[K\rremote: Counting objects:  95% (92/96)\u001b[K\rremote: Counting objects:  96% (93/96)\u001b[K\rremote: Counting objects:  97% (94/96)\u001b[K\rremote: Counting objects:  98% (95/96)\u001b[K\rremote: Counting objects: 100% (96/96)\u001b[K\rremote: Counting objects: 100% (96/96), done.\u001b[K\n",
            "remote: Compressing objects:   2% (1/47)\u001b[K\rremote: Compressing objects:   4% (2/47)\u001b[K\rremote: Compressing objects:   6% (3/47)\u001b[K\rremote: Compressing objects:   8% (4/47)\u001b[K\rremote: Compressing objects:  10% (5/47)\u001b[K\rremote: Compressing objects:  12% (6/47)\u001b[K\rremote: Compressing objects:  14% (7/47)\u001b[K\rremote: Compressing objects:  17% (8/47)\u001b[K\rremote: Compressing objects:  19% (9/47)\u001b[K\rremote: Compressing objects:  21% (10/47)\u001b[K\rremote: Compressing objects:  23% (11/47)\u001b[K\rremote: Compressing objects:  25% (12/47)\u001b[K\rremote: Compressing objects:  27% (13/47)\u001b[K\rremote: Compressing objects:  29% (14/47)\u001b[K\rremote: Compressing objects:  31% (15/47)\u001b[K\rremote: Compressing objects:  34% (16/47)\u001b[K\rremote: Compressing objects:  36% (17/47)\u001b[K\rremote: Compressing objects:  38% (18/47)\u001b[K\rremote: Compressing objects:  40% (19/47)\u001b[K\rremote: Compressing objects:  42% (20/47)\u001b[K\rremote: Compressing objects:  44% (21/47)\u001b[K\rremote: Compressing objects:  46% (22/47)\u001b[K\rremote: Compressing objects:  48% (23/47)\u001b[K\rremote: Compressing objects:  51% (24/47)\u001b[K\rremote: Compressing objects:  53% (25/47)\u001b[K\rremote: Compressing objects:  55% (26/47)\u001b[K\rremote: Compressing objects:  57% (27/47)\u001b[K\rremote: Compressing objects:  59% (28/47)\u001b[K\rremote: Compressing objects:  61% (29/47)\u001b[K\rremote: Compressing objects:  63% (30/47)\u001b[K\rremote: Compressing objects:  65% (31/47)\u001b[K\rremote: Compressing objects:  68% (32/47)\u001b[K\rremote: Compressing objects:  70% (33/47)\u001b[K\rremote: Compressing objects:  72% (34/47)\u001b[K\rremote: Compressing objects:  74% (35/47)\u001b[K\rremote: Compressing objects:  76% (36/47)\u001b[K\rremote: Compressing objects:  78% (37/47)\u001b[K\rremote: Compressing objects:  80% (38/47)\u001b[K\rremote: Compressing objects:  82% (39/47)\u001b[K\rremote: Compressing objects:  85% (40/47)\u001b[K\rremote: Compressing objects:  87% (41/47)\u001b[K\rremote: Compressing objects:  89% (42/47)\u001b[K\rremote: Compressing objects:  91% (43/47)\u001b[K\rremote: Compressing objects:  93% (44/47)\u001b[K\rremote: Compressing objects:  95% (45/47)\u001b[K\rremote: Compressing objects:  97% (46/47)\u001b[K\rremote: Compressing objects: 100% (47/47)\u001b[K\rremote: Compressing objects: 100% (47/47), done.\u001b[K\n",
            "Unpacking objects:   1% (1/96)   \rUnpacking objects:   2% (2/96)   \rUnpacking objects:   3% (3/96)   \rUnpacking objects:   4% (4/96)   \rUnpacking objects:   5% (5/96)   \rUnpacking objects:   6% (6/96)   \rUnpacking objects:   7% (7/96)   \rUnpacking objects:   8% (8/96)   \rUnpacking objects:   9% (9/96)   \rUnpacking objects:  10% (10/96)   \rUnpacking objects:  11% (11/96)   \rUnpacking objects:  12% (12/96)   \rUnpacking objects:  13% (13/96)   \rUnpacking objects:  14% (14/96)   \rUnpacking objects:  15% (15/96)   \rUnpacking objects:  16% (16/96)   \rUnpacking objects:  17% (17/96)   \rUnpacking objects:  18% (18/96)   \rUnpacking objects:  19% (19/96)   \rUnpacking objects:  20% (20/96)   \rUnpacking objects:  21% (21/96)   \rUnpacking objects:  22% (22/96)   \rUnpacking objects:  23% (23/96)   \rUnpacking objects:  25% (24/96)   \rUnpacking objects:  26% (25/96)   \rUnpacking objects:  27% (26/96)   \rUnpacking objects:  28% (27/96)   \rUnpacking objects:  29% (28/96)   \rUnpacking objects:  30% (29/96)   \rUnpacking objects:  31% (30/96)   \rUnpacking objects:  32% (31/96)   \rUnpacking objects:  33% (32/96)   \rUnpacking objects:  34% (33/96)   \rUnpacking objects:  35% (34/96)   \rUnpacking objects:  36% (35/96)   \rUnpacking objects:  37% (36/96)   \rUnpacking objects:  38% (37/96)   \rUnpacking objects:  39% (38/96)   \rUnpacking objects:  40% (39/96)   \rUnpacking objects:  41% (40/96)   \rUnpacking objects:  42% (41/96)   \rUnpacking objects:  43% (42/96)   \rUnpacking objects:  44% (43/96)   \rUnpacking objects:  45% (44/96)   \rUnpacking objects:  46% (45/96)   \rUnpacking objects:  47% (46/96)   \rUnpacking objects:  48% (47/96)   \rUnpacking objects:  50% (48/96)   \rremote: Total 96 (delta 60), reused 83 (delta 47), pack-reused 0\u001b[K\n",
            "Unpacking objects:  51% (49/96)   \rUnpacking objects:  52% (50/96)   \rUnpacking objects:  53% (51/96)   \rUnpacking objects:  54% (52/96)   \rUnpacking objects:  55% (53/96)   \rUnpacking objects:  56% (54/96)   \rUnpacking objects:  57% (55/96)   \rUnpacking objects:  58% (56/96)   \rUnpacking objects:  59% (57/96)   \rUnpacking objects:  60% (58/96)   \rUnpacking objects:  61% (59/96)   \rUnpacking objects:  62% (60/96)   \rUnpacking objects:  63% (61/96)   \rUnpacking objects:  64% (62/96)   \rUnpacking objects:  65% (63/96)   \rUnpacking objects:  66% (64/96)   \rUnpacking objects:  67% (65/96)   \rUnpacking objects:  68% (66/96)   \rUnpacking objects:  69% (67/96)   \rUnpacking objects:  70% (68/96)   \rUnpacking objects:  71% (69/96)   \rUnpacking objects:  72% (70/96)   \rUnpacking objects:  73% (71/96)   \rUnpacking objects:  75% (72/96)   \rUnpacking objects:  76% (73/96)   \rUnpacking objects:  77% (74/96)   \rUnpacking objects:  78% (75/96)   \rUnpacking objects:  79% (76/96)   \rUnpacking objects:  80% (77/96)   \rUnpacking objects:  81% (78/96)   \rUnpacking objects:  82% (79/96)   \rUnpacking objects:  83% (80/96)   \rUnpacking objects:  84% (81/96)   \rUnpacking objects:  85% (82/96)   \rUnpacking objects:  86% (83/96)   \rUnpacking objects:  87% (84/96)   \rUnpacking objects:  88% (85/96)   \rUnpacking objects:  89% (86/96)   \rUnpacking objects:  90% (87/96)   \rUnpacking objects:  91% (88/96)   \rUnpacking objects:  92% (89/96)   \rUnpacking objects:  93% (90/96)   \rUnpacking objects:  94% (91/96)   \rUnpacking objects:  95% (92/96)   \rUnpacking objects:  96% (93/96)   \rUnpacking objects:  97% (94/96)   \rUnpacking objects:  98% (95/96)   \rUnpacking objects: 100% (96/96)   \rUnpacking objects: 100% (96/96), done.\n"
          ],
          "name": "stdout"
        }
      ]
    },
    {
      "cell_type": "code",
      "metadata": {
        "id": "8E10GBo21zOR",
        "colab_type": "code",
        "colab": {}
      },
      "source": [
        "from pathlib import Path\n",
        "import pandas as pd\n",
        "import pickle\n",
        "import numpy as np\n",
        "import shutil\n",
        "from tqdm import tqdm\n",
        "import matplotlib.pyplot as plt\n",
        "\n",
        "import torch\n",
        "from torch.nn import functional as F\n",
        "\n",
        "from src.models import InsiderClassifier, LSTM_Encoder\n",
        "from src.params import get_params\n",
        "from src.dataset import CertDataset, create_data_loaders\n"
      ],
      "execution_count": 0,
      "outputs": []
    },
    {
      "cell_type": "code",
      "metadata": {
        "id": "B5rU3mlu1zOZ",
        "colab_type": "code",
        "colab": {}
      },
      "source": [
        "output_dir = Path(f'{root_dir}/Datasets/CERT_output')\n",
        "answers_dir = Path(f'{root_dir}/Datasets/CERT/answers')\n",
        "main_answers_file = answers_dir / \"insiders.csv\"\n",
        "\n",
        "lstm_checkpoint = output_dir / 'checkpoints/lstm/final2-nll/final_model_3040.pth'\n",
        "assert(lstm_checkpoint.is_file())"
      ],
      "execution_count": 0,
      "outputs": []
    },
    {
      "cell_type": "markdown",
      "metadata": {
        "id": "Tz_PVjvW1zOl",
        "colab_type": "text"
      },
      "source": [
        "# Подготовка LSTM-векторов"
      ]
    },
    {
      "cell_type": "code",
      "metadata": {
        "id": "f4s5p3GsE1M7",
        "colab_type": "code",
        "colab": {}
      },
      "source": [
        "actions, targets = CertDataset.prepare_dataset(output_dir / 'aggregated.pkl', main_answers_file, min_length=50, max_length=200)"
      ],
      "execution_count": 0,
      "outputs": []
    },
    {
      "cell_type": "code",
      "metadata": {
        "id": "dGN8sb_h1zOm",
        "colab_type": "code",
        "colab": {}
      },
      "source": [
        "device = 'cuda'\n",
        "batch = 256\n",
        "\n",
        "cert_dataset = CertDataset(actions, targets)\n",
        "train_loader, val_loader = create_data_loaders(cert_dataset, validation_split=0.3, random_seed=0, batch_size=batch)\n",
        "\n",
        "params = get_params()"
      ],
      "execution_count": 0,
      "outputs": []
    },
    {
      "cell_type": "code",
      "metadata": {
        "id": "z5g4KeU91zOs",
        "colab_type": "code",
        "colab": {
          "base_uri": "https://localhost:8080/",
          "height": 34
        },
        "outputId": "07056bc0-cd3a-4ec5-9a9a-061a2367f8ee"
      },
      "source": [
        "lstm_encoder = LSTM_Encoder(params['model']['lstm_encoder'])\n",
        "\n",
        "device = 'cuda'\n",
        "\n",
        "lstm_encoder.requires_grad = False\n",
        "lstm_encoder.eval()\n",
        "lstm_encoder.load_state_dict(\n",
        "    torch.load(lstm_checkpoint, map_location=torch.device(device)), strict=True\n",
        ")"
      ],
      "execution_count": 8,
      "outputs": [
        {
          "output_type": "execute_result",
          "data": {
            "text/plain": [
              "<All keys matched successfully>"
            ]
          },
          "metadata": {
            "tags": []
          },
          "execution_count": 8
        }
      ]
    },
    {
      "cell_type": "code",
      "metadata": {
        "id": "4-KTyn0N1zOz",
        "colab_type": "code",
        "colab": {}
      },
      "source": [
        "def prepare_batch(batch, device=None, non_blocking=None, num_classes=64, train=True):\n",
        "\n",
        "    actions = batch['actions']\n",
        "\n",
        "    actions = actions.to(device).to(torch.int64)\n",
        "    actions = F.one_hot(actions, num_classes=64).float()\n",
        "    \n",
        "    return actions, batch['targets']"
      ],
      "execution_count": 0,
      "outputs": []
    },
    {
      "cell_type": "code",
      "metadata": {
        "id": "dtJrb0Yj1zO4",
        "colab_type": "code",
        "colab": {}
      },
      "source": [
        "def prepare_encoded_dataset(loader, model_encoder):\n",
        "    \n",
        "    all_targets = None\n",
        "    vecs = None\n",
        "\n",
        "    for batch in tqdm(loader):\n",
        "        actions, targets = prepare_batch(batch)\n",
        "\n",
        "        result = model_encoder(actions)\n",
        "        result = result.detach().cpu().numpy()\n",
        "        targets = targets.detach().cpu().numpy()\n",
        "\n",
        "        if all_targets is not None:\n",
        "            all_targets = np.concatenate([all_targets, targets], axis=0)\n",
        "        else:\n",
        "            all_targets = targets\n",
        "\n",
        "        if vecs is not None:\n",
        "            vecs = np.concatenate([vecs, result], axis=0)\n",
        "        else:\n",
        "            vecs = result\n",
        "    \n",
        "    return vecs, all_targets"
      ],
      "execution_count": 0,
      "outputs": []
    },
    {
      "cell_type": "code",
      "metadata": {
        "id": "sehA18fo1zO9",
        "colab_type": "code",
        "colab": {
          "base_uri": "https://localhost:8080/",
          "height": 51
        },
        "outputId": "982f8266-692a-429d-feea-f5e2fcf0ca14"
      },
      "source": [
        "val_vecs, val_targets = prepare_encoded_dataset(val_loader, lstm_encoder)\n",
        "val_vecs.shape, val_targets.shape"
      ],
      "execution_count": 11,
      "outputs": [
        {
          "output_type": "stream",
          "text": [
            "100%|██████████| 130/130 [01:16<00:00,  1.70it/s]\n"
          ],
          "name": "stderr"
        },
        {
          "output_type": "execute_result",
          "data": {
            "text/plain": [
              "((33276, 200, 40), (33276,))"
            ]
          },
          "metadata": {
            "tags": []
          },
          "execution_count": 11
        }
      ]
    },
    {
      "cell_type": "code",
      "metadata": {
        "id": "bceubDx41zPB",
        "colab_type": "code",
        "colab": {
          "base_uri": "https://localhost:8080/",
          "height": 51
        },
        "outputId": "7f932d9d-2f04-459c-fd95-638730d1c539"
      },
      "source": [
        "train_vecs, train_targets = prepare_encoded_dataset(train_loader, lstm_encoder)\n",
        "train_vecs.shape, train_targets.shape"
      ],
      "execution_count": 12,
      "outputs": [
        {
          "output_type": "stream",
          "text": [
            "100%|██████████| 304/304 [04:05<00:00,  1.24it/s]\n"
          ],
          "name": "stderr"
        },
        {
          "output_type": "execute_result",
          "data": {
            "text/plain": [
              "((77644, 200, 40), (77644,))"
            ]
          },
          "metadata": {
            "tags": []
          },
          "execution_count": 12
        }
      ]
    },
    {
      "cell_type": "code",
      "metadata": {
        "id": "K3B3yuOR1zPF",
        "colab_type": "code",
        "colab": {
          "base_uri": "https://localhost:8080/",
          "height": 34
        },
        "outputId": "7e3f2b37-ee45-4432-f7a9-afe8582da0f0"
      },
      "source": [
        "train_vecs.shape, val_vecs.shape, train_targets.shape, val_targets.shape"
      ],
      "execution_count": 13,
      "outputs": [
        {
          "output_type": "execute_result",
          "data": {
            "text/plain": [
              "((77644, 200, 40), (33276, 200, 40), (77644,), (33276,))"
            ]
          },
          "metadata": {
            "tags": []
          },
          "execution_count": 13
        }
      ]
    },
    {
      "cell_type": "code",
      "metadata": {
        "id": "W56qF_RQ1zPI",
        "colab_type": "code",
        "colab": {}
      },
      "source": [
        "np.save(lstm_checkpoint.parent / 'train_vecs.npy', train_vecs)\n",
        "np.save(lstm_checkpoint.parent / 'val_vecs.npy', val_vecs)\n",
        "\n",
        "np.save(lstm_checkpoint.parent / 'train_targets.npy', train_targets)\n",
        "np.save(lstm_checkpoint.parent / 'val_targets.npy', val_targets)"
      ],
      "execution_count": 0,
      "outputs": []
    },
    {
      "cell_type": "code",
      "metadata": {
        "id": "CrExtM0u1zPN",
        "colab_type": "code",
        "colab": {}
      },
      "source": [
        "train_vecs = np.load(lstm_checkpoint.parent / 'train_vecs.npy')\n",
        "val_vecs = np.load(lstm_checkpoint.parent / 'val_vecs.npy')\n",
        "\n",
        "train_targets = np.load(lstm_checkpoint.parent / 'train_targets.npy')\n",
        "val_targets = np.load(lstm_checkpoint.parent / 'val_targets.npy')\n",
        "\n",
        "train_vecs.shape, val_vecs.shape, train_targets.shape, val_targets.shape"
      ],
      "execution_count": 0,
      "outputs": []
    },
    {
      "cell_type": "code",
      "metadata": {
        "id": "UScZLC-_1zPR",
        "colab_type": "code",
        "colab": {}
      },
      "source": [
        "train_vecs.shape, val_vecs.shape, train_targets.shape, val_targets.shape"
      ],
      "execution_count": 0,
      "outputs": []
    },
    {
      "cell_type": "markdown",
      "metadata": {
        "id": "86QQWlyA1zPV",
        "colab_type": "text"
      },
      "source": [
        "# Тестируем классификаторы"
      ]
    },
    {
      "cell_type": "code",
      "metadata": {
        "id": "lQ6wBQpB1zPW",
        "colab_type": "code",
        "colab": {}
      },
      "source": [
        "from sklearn.svm import SVC\n",
        "from sklearn.linear_model import SGDClassifier, LogisticRegression\n",
        "from sklearn.decomposition import PCA, NMF, TruncatedSVD\n",
        "from sklearn.metrics import roc_auc_score"
      ],
      "execution_count": 0,
      "outputs": []
    },
    {
      "cell_type": "code",
      "metadata": {
        "id": "ncGY1hIHFiG6",
        "colab_type": "code",
        "colab": {}
      },
      "source": [
        "train_vecs = train_vecs2.reshape(train_vecs2.shape[0], -1)\n",
        "train_targets = train_targets2\n",
        "\n",
        "train_vecs.shape, train_targets.shape"
      ],
      "execution_count": 0,
      "outputs": []
    },
    {
      "cell_type": "code",
      "metadata": {
        "id": "tiaJDIl7GhXR",
        "colab_type": "code",
        "colab": {}
      },
      "source": [
        "val_vecs = val_vecs2.reshape(val_vecs2.shape[0], -1)\n",
        "val_targets = val_targets2\n",
        "\n",
        "val_vecs.shape, val_targets.shape"
      ],
      "execution_count": 0,
      "outputs": []
    },
    {
      "cell_type": "markdown",
      "metadata": {
        "id": "mUktSKF1FVIp",
        "colab_type": "text"
      },
      "source": [
        "## Logistic Regresssion"
      ]
    },
    {
      "cell_type": "code",
      "metadata": {
        "id": "zJ9-Uc-3FYZ2",
        "colab_type": "code",
        "colab": {}
      },
      "source": [
        "linear_model = SGDClassifier(verbose=1, loss='modified_huber', max_iter=100)"
      ],
      "execution_count": 0,
      "outputs": []
    },
    {
      "cell_type": "code",
      "metadata": {
        "id": "MFcgK2JMFgSh",
        "colab_type": "code",
        "colab": {}
      },
      "source": [
        "linear_model.fit(train_vecs, train_targets)"
      ],
      "execution_count": 0,
      "outputs": []
    },
    {
      "cell_type": "code",
      "metadata": {
        "id": "3w5T0eJHGgVe",
        "colab_type": "code",
        "colab": {
          "base_uri": "https://localhost:8080/",
          "height": 34
        },
        "outputId": "1f4dc5c1-debf-45fa-9681-7376714e71f7"
      },
      "source": [
        "linear_model.predict_proba(val_vecs).sum()"
      ],
      "execution_count": 17,
      "outputs": [
        {
          "output_type": "execute_result",
          "data": {
            "text/plain": [
              "33276.0"
            ]
          },
          "metadata": {
            "tags": []
          },
          "execution_count": 17
        }
      ]
    },
    {
      "cell_type": "code",
      "metadata": {
        "id": "2SpnupIrIQim",
        "colab_type": "code",
        "colab": {}
      },
      "source": [
        "probs = linear_model.predict_proba(val_vecs)[:,1]"
      ],
      "execution_count": 0,
      "outputs": []
    },
    {
      "cell_type": "code",
      "metadata": {
        "id": "YPMBDFUBIrhY",
        "colab_type": "code",
        "colab": {
          "base_uri": "https://localhost:8080/",
          "height": 34
        },
        "outputId": "942121cc-d764-45e5-e8b6-49c3585a0301"
      },
      "source": [
        "roc_auc_score(val_targets, probs)"
      ],
      "execution_count": 27,
      "outputs": [
        {
          "output_type": "execute_result",
          "data": {
            "text/plain": [
              "0.49960789045062437"
            ]
          },
          "metadata": {
            "tags": []
          },
          "execution_count": 27
        }
      ]
    },
    {
      "cell_type": "code",
      "metadata": {
        "id": "R4F2reDwJmvf",
        "colab_type": "code",
        "colab": {
          "base_uri": "https://localhost:8080/",
          "height": 272
        },
        "outputId": "8579b28e-8e63-43e0-9a91-99794ea558a9"
      },
      "source": [
        "linear_model = LogisticRegression(verbose=1, max_iter=500)\n",
        "linear_model.fit(train_vecs, train_targets)"
      ],
      "execution_count": 32,
      "outputs": [
        {
          "output_type": "stream",
          "text": [
            "[Parallel(n_jobs=1)]: Using backend SequentialBackend with 1 concurrent workers.\n",
            "/usr/local/lib/python3.6/dist-packages/sklearn/linear_model/_logistic.py:940: ConvergenceWarning: lbfgs failed to converge (status=1):\n",
            "STOP: TOTAL NO. of ITERATIONS REACHED LIMIT.\n",
            "\n",
            "Increase the number of iterations (max_iter) or scale the data as shown in:\n",
            "    https://scikit-learn.org/stable/modules/preprocessing.html\n",
            "Please also refer to the documentation for alternative solver options:\n",
            "    https://scikit-learn.org/stable/modules/linear_model.html#logistic-regression\n",
            "  extra_warning_msg=_LOGISTIC_SOLVER_CONVERGENCE_MSG)\n",
            "[Parallel(n_jobs=1)]: Done   1 out of   1 | elapsed:  4.1min finished\n"
          ],
          "name": "stderr"
        },
        {
          "output_type": "execute_result",
          "data": {
            "text/plain": [
              "LogisticRegression(C=1.0, class_weight=None, dual=False, fit_intercept=True,\n",
              "                   intercept_scaling=1, l1_ratio=None, max_iter=500,\n",
              "                   multi_class='auto', n_jobs=None, penalty='l2',\n",
              "                   random_state=None, solver='lbfgs', tol=0.0001, verbose=1,\n",
              "                   warm_start=False)"
            ]
          },
          "metadata": {
            "tags": []
          },
          "execution_count": 32
        }
      ]
    },
    {
      "cell_type": "code",
      "metadata": {
        "id": "JaxPj4cYLwdN",
        "colab_type": "code",
        "colab": {
          "base_uri": "https://localhost:8080/",
          "height": 34
        },
        "outputId": "def4dcfb-dc2d-4e49-a293-613393bd1c21"
      },
      "source": [
        "train_probs = linear_model.predict_proba(train_vecs)[:,1]\n",
        "f'train ROC AUC: {roc_auc_score(train_targets, train_probs)}'"
      ],
      "execution_count": 36,
      "outputs": [
        {
          "output_type": "execute_result",
          "data": {
            "text/plain": [
              "'train ROC AUC: 0.6871981942065118'"
            ]
          },
          "metadata": {
            "tags": []
          },
          "execution_count": 36
        }
      ]
    },
    {
      "cell_type": "code",
      "metadata": {
        "id": "KO3ixW-7KIQ4",
        "colab_type": "code",
        "colab": {
          "base_uri": "https://localhost:8080/",
          "height": 34
        },
        "outputId": "ea0f0218-334d-499e-db84-d6d399efafe8"
      },
      "source": [
        "probs = linear_model.predict_proba(val_vecs)[:,1]\n",
        "f'val ROC AUC: {roc_auc_score(val_targets, probs)}'"
      ],
      "execution_count": 39,
      "outputs": [
        {
          "output_type": "execute_result",
          "data": {
            "text/plain": [
              "'val ROC AUC: 0.35078624639906963'"
            ]
          },
          "metadata": {
            "tags": []
          },
          "execution_count": 39
        }
      ]
    },
    {
      "cell_type": "code",
      "metadata": {
        "id": "n54aj5gfMNgw",
        "colab_type": "code",
        "colab": {
          "base_uri": "https://localhost:8080/",
          "height": 34
        },
        "outputId": "c1c0ad50-7961-4eb4-fff6-762aaa300bd9"
      },
      "source": [
        "probs.mean()"
      ],
      "execution_count": 44,
      "outputs": [
        {
          "output_type": "execute_result",
          "data": {
            "text/plain": [
              "0.004161924859565712"
            ]
          },
          "metadata": {
            "tags": []
          },
          "execution_count": 44
        }
      ]
    },
    {
      "cell_type": "code",
      "metadata": {
        "id": "Rch_-BGsMS4n",
        "colab_type": "code",
        "colab": {
          "base_uri": "https://localhost:8080/",
          "height": 34
        },
        "outputId": "855d57fa-775b-4747-ee3d-4dee1ca0a461"
      },
      "source": [
        "train_probs.mean()"
      ],
      "execution_count": 43,
      "outputs": [
        {
          "output_type": "execute_result",
          "data": {
            "text/plain": [
              "0.0040941781466248325"
            ]
          },
          "metadata": {
            "tags": []
          },
          "execution_count": 43
        }
      ]
    },
    {
      "cell_type": "markdown",
      "metadata": {
        "id": "_wv4qEBFFOgR",
        "colab_type": "text"
      },
      "source": [
        "## SVM\n",
        "\n",
        "TODO: сделать уменьшение размерности или ансамблирование"
      ]
    },
    {
      "cell_type": "code",
      "metadata": {
        "id": "vr5R1dhH1zPZ",
        "colab_type": "code",
        "colab": {}
      },
      "source": [
        "svm_model = SVC(kernel='linear', verbose=5, probability=True)"
      ],
      "execution_count": 0,
      "outputs": []
    },
    {
      "cell_type": "code",
      "metadata": {
        "id": "4ppUVb7i1zPg",
        "colab_type": "code",
        "colab": {
          "base_uri": "https://localhost:8080/",
          "height": 34
        },
        "outputId": "6d0f24b4-45a4-4715-ac51-fe71b56f154f"
      },
      "source": [
        "svm_model.fit(train_vecs, train_targets)\n",
        "print('fitted!')\n",
        "train_probs = svm_model.predict_proba(train_vecs)[:,1]\n",
        "f'train ROC AUC: {roc_auc_score(train_targets, train_probs)}'"
      ],
      "execution_count": 0,
      "outputs": [
        {
          "output_type": "stream",
          "text": [
            "[LibSVM]"
          ],
          "name": "stdout"
        }
      ]
    },
    {
      "cell_type": "code",
      "metadata": {
        "id": "jsJaeyC9XACZ",
        "colab_type": "code",
        "colab": {
          "base_uri": "https://localhost:8080/",
          "height": 34
        },
        "outputId": "233b7e82-2529-41ae-fa73-1aac017cc37a"
      },
      "source": [
        "probs = svm_model.predict_proba(val_vecs)[:,1]\n",
        "f'val ROC AUC: {roc_auc_score(val_targets, probs)}'"
      ],
      "execution_count": 22,
      "outputs": [
        {
          "output_type": "execute_result",
          "data": {
            "text/plain": [
              "'val ROC AUC: 0.1475268913970275'"
            ]
          },
          "metadata": {
            "tags": []
          },
          "execution_count": 22
        }
      ]
    },
    {
      "cell_type": "code",
      "metadata": {
        "id": "0QQ2UbdA1zPk",
        "colab_type": "code",
        "colab": {}
      },
      "source": [
        "probs = svm_model.predict_proba(val_vecs)[:,1]\n",
        "f'val ROC AUC: {roc_auc_score(val_targets, probs)}'"
      ],
      "execution_count": 0,
      "outputs": []
    },
    {
      "cell_type": "code",
      "metadata": {
        "id": "ToUoaHTF1zPq",
        "colab_type": "code",
        "colab": {
          "base_uri": "https://localhost:8080/",
          "height": 51
        },
        "outputId": "c8dde2b0-2a62-466c-e213-36caf25d71c3"
      },
      "source": [
        "probs"
      ],
      "execution_count": 20,
      "outputs": [
        {
          "output_type": "execute_result",
          "data": {
            "text/plain": [
              "array([0.00451355, 0.00442032, 0.00081057, ..., 0.00260016, 0.00431819,\n",
              "       0.00319267])"
            ]
          },
          "metadata": {
            "tags": []
          },
          "execution_count": 20
        }
      ]
    },
    {
      "cell_type": "code",
      "metadata": {
        "id": "-GAEA0HB1zPu",
        "colab_type": "code",
        "colab": {}
      },
      "source": [
        ""
      ],
      "execution_count": 0,
      "outputs": []
    },
    {
      "cell_type": "markdown",
      "metadata": {
        "id": "c0mxXzKvmnJN",
        "colab_type": "text"
      },
      "source": [
        "# Decomposition"
      ]
    },
    {
      "cell_type": "code",
      "metadata": {
        "id": "4P7x9RYsmpiS",
        "colab_type": "code",
        "colab": {}
      },
      "source": [
        "pca_model = PCA()\n",
        "\n",
        "pca_model.fit(train_vecs)\n",
        "\n",
        "plt.figure()\n",
        "plt.plot(np.cumsum(pca_model.explained_variance_ratio_))\n",
        "plt.xlabel('Number of Components')\n",
        "plt.ylabel('Variance (%)') #for each component\n",
        "plt.title('Pulsar Dataset Explained Variance')\n",
        "plt.show()"
      ],
      "execution_count": 0,
      "outputs": []
    }
  ]
}