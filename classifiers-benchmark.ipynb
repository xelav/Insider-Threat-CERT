{
  "nbformat": 4,
  "nbformat_minor": 0,
  "metadata": {
    "kernelspec": {
      "display_name": "Torch3.6",
      "language": "python",
      "name": "torch3.6"
    },
    "language_info": {
      "codemirror_mode": {
        "name": "ipython",
        "version": 3
      },
      "file_extension": ".py",
      "mimetype": "text/x-python",
      "name": "python",
      "nbconvert_exporter": "python",
      "pygments_lexer": "ipython3",
      "version": "3.6.7"
    },
    "colab": {
      "name": "classifiers-benchmark.ipynb",
      "provenance": [],
      "machine_shape": "hm"
    },
    "accelerator": "GPU"
  },
  "cells": [
    {
      "cell_type": "code",
      "metadata": {
        "id": "xwRWFVh716SZ",
        "colab_type": "code",
        "outputId": "51859b6c-5352-4878-f4df-0cf9199a9a31",
        "colab": {
          "base_uri": "https://localhost:8080/",
          "height": 139
        }
      },
      "source": [
        "from google.colab import drive\n",
        "drive.mount('/content/drive')\n",
        "\n",
        "root_dir = '/content/drive/My Drive/'\n",
        "\n",
        "%cd \"{root_dir}\""
      ],
      "execution_count": 1,
      "outputs": [
        {
          "output_type": "stream",
          "text": [
            "Go to this URL in a browser: https://accounts.google.com/o/oauth2/auth?client_id=947318989803-6bn6qk8qdgf4n4g3pfee6491hc0brc4i.apps.googleusercontent.com&redirect_uri=urn%3aietf%3awg%3aoauth%3a2.0%3aoob&response_type=code&scope=email%20https%3a%2f%2fwww.googleapis.com%2fauth%2fdocs.test%20https%3a%2f%2fwww.googleapis.com%2fauth%2fdrive%20https%3a%2f%2fwww.googleapis.com%2fauth%2fdrive.photos.readonly%20https%3a%2f%2fwww.googleapis.com%2fauth%2fpeopleapi.readonly\n",
            "\n",
            "Enter your authorization code:\n",
            "··········\n",
            "Mounted at /content/drive\n",
            "/content/drive/My Drive\n"
          ],
          "name": "stdout"
        }
      ]
    },
    {
      "cell_type": "code",
      "metadata": {
        "id": "dXmOdz9G3iLa",
        "colab_type": "code",
        "outputId": "9b504845-2430-411b-ea58-02acc80405bb",
        "colab": {
          "base_uri": "https://localhost:8080/",
          "height": 119
        }
      },
      "source": [
        "!git clone https://github.com/xelav/Insider-Threat-CERT /root/repo\n",
        "\n",
        "import sys\n",
        "sys.path.append(\"/root/repo\")"
      ],
      "execution_count": 2,
      "outputs": [
        {
          "output_type": "stream",
          "text": [
            "Cloning into '/root/repo'...\n",
            "remote: Enumerating objects: 99, done.\u001b[K\n",
            "remote: Counting objects: 100% (99/99), done.\u001b[K\n",
            "remote: Compressing objects: 100% (51/51), done.\u001b[K\n",
            "remote: Total 99 (delta 61), reused 81 (delta 46), pack-reused 0\u001b[K\n",
            "Unpacking objects: 100% (99/99), done.\n"
          ],
          "name": "stdout"
        }
      ]
    },
    {
      "cell_type": "code",
      "metadata": {
        "id": "8E10GBo21zOR",
        "colab_type": "code",
        "colab": {}
      },
      "source": [
        "from pathlib import Path\n",
        "import pandas as pd\n",
        "import pickle\n",
        "import numpy as np\n",
        "import shutil\n",
        "from tqdm import tqdm\n",
        "import matplotlib.pyplot as plt\n",
        "\n",
        "import torch\n",
        "from torch.nn import functional as F\n",
        "\n",
        "from src.models import InsiderClassifier, LSTM_Encoder\n",
        "from src.params import get_params\n",
        "from src.dataset import CertDataset, create_data_loaders\n"
      ],
      "execution_count": 0,
      "outputs": []
    },
    {
      "cell_type": "code",
      "metadata": {
        "id": "B5rU3mlu1zOZ",
        "colab_type": "code",
        "colab": {}
      },
      "source": [
        "output_dir = Path(f'{root_dir}/Datasets/CERT_output')\n",
        "answers_dir = Path(f'{root_dir}/Datasets/CERT/answers')\n",
        "main_answers_file = answers_dir / \"insiders.csv\""
      ],
      "execution_count": 0,
      "outputs": []
    },
    {
      "cell_type": "markdown",
      "metadata": {
        "id": "Tz_PVjvW1zOl",
        "colab_type": "text"
      },
      "source": [
        "# Подготовка LSTM-векторов"
      ]
    },
    {
      "cell_type": "code",
      "metadata": {
        "id": "-Q-TA9zghijj",
        "colab_type": "code",
        "colab": {}
      },
      "source": [
        "lstm_checkpoint = output_dir / 'checkpoints/lstm/final2-nll/final_model_3040.pth'\n",
        "assert(lstm_checkpoint.is_file())"
      ],
      "execution_count": 0,
      "outputs": []
    },
    {
      "cell_type": "code",
      "metadata": {
        "id": "f4s5p3GsE1M7",
        "colab_type": "code",
        "colab": {}
      },
      "source": [
        "actions, targets = CertDataset.prepare_dataset(output_dir / 'aggregated.pkl', main_answers_file, min_length=50, max_length=200)"
      ],
      "execution_count": 0,
      "outputs": []
    },
    {
      "cell_type": "code",
      "metadata": {
        "id": "dGN8sb_h1zOm",
        "colab_type": "code",
        "colab": {}
      },
      "source": [
        "device = 'cuda'\n",
        "batch = 256\n",
        "\n",
        "cert_dataset = CertDataset(actions, targets)\n",
        "train_loader, val_loader = create_data_loaders(cert_dataset, validation_split=0.3, random_seed=0, batch_size=batch)\n",
        "\n",
        "params = get_params()"
      ],
      "execution_count": 0,
      "outputs": []
    },
    {
      "cell_type": "code",
      "metadata": {
        "id": "z5g4KeU91zOs",
        "colab_type": "code",
        "outputId": "07056bc0-cd3a-4ec5-9a9a-061a2367f8ee",
        "colab": {
          "base_uri": "https://localhost:8080/",
          "height": 34
        }
      },
      "source": [
        "lstm_encoder = LSTM_Encoder(params['model']['lstm_encoder'])\n",
        "\n",
        "device = 'cuda'\n",
        "\n",
        "lstm_encoder.requires_grad = False\n",
        "lstm_encoder.eval()\n",
        "lstm_encoder.load_state_dict(\n",
        "    torch.load(lstm_checkpoint, map_location=torch.device(device)), strict=True\n",
        ")"
      ],
      "execution_count": 0,
      "outputs": [
        {
          "output_type": "execute_result",
          "data": {
            "text/plain": [
              "<All keys matched successfully>"
            ]
          },
          "metadata": {
            "tags": []
          },
          "execution_count": 8
        }
      ]
    },
    {
      "cell_type": "code",
      "metadata": {
        "id": "4-KTyn0N1zOz",
        "colab_type": "code",
        "colab": {}
      },
      "source": [
        "def prepare_batch(batch, device=None, non_blocking=None, num_classes=64, train=True):\n",
        "\n",
        "    actions = batch['actions']\n",
        "\n",
        "    actions = actions.to(device).to(torch.int64)\n",
        "    actions = F.one_hot(actions, num_classes=64).float()\n",
        "    \n",
        "    return actions, batch['targets']"
      ],
      "execution_count": 0,
      "outputs": []
    },
    {
      "cell_type": "code",
      "metadata": {
        "id": "dtJrb0Yj1zO4",
        "colab_type": "code",
        "colab": {}
      },
      "source": [
        "def prepare_encoded_dataset(loader, model_encoder):\n",
        "    \n",
        "    all_targets = None\n",
        "    vecs = None\n",
        "\n",
        "    for batch in tqdm(loader):\n",
        "        actions, targets = prepare_batch(batch)\n",
        "\n",
        "        result = model_encoder(actions)\n",
        "        result = result.detach().cpu().numpy()\n",
        "        targets = targets.detach().cpu().numpy()\n",
        "\n",
        "        if all_targets is not None:\n",
        "            all_targets = np.concatenate([all_targets, targets], axis=0)\n",
        "        else:\n",
        "            all_targets = targets\n",
        "\n",
        "        if vecs is not None:\n",
        "            vecs = np.concatenate([vecs, result], axis=0)\n",
        "        else:\n",
        "            vecs = result\n",
        "    \n",
        "    return vecs, all_targets"
      ],
      "execution_count": 0,
      "outputs": []
    },
    {
      "cell_type": "code",
      "metadata": {
        "id": "sehA18fo1zO9",
        "colab_type": "code",
        "outputId": "982f8266-692a-429d-feea-f5e2fcf0ca14",
        "colab": {
          "base_uri": "https://localhost:8080/",
          "height": 51
        }
      },
      "source": [
        "val_vecs, val_targets = prepare_encoded_dataset(val_loader, lstm_encoder)\n",
        "val_vecs.shape, val_targets.shape"
      ],
      "execution_count": 0,
      "outputs": [
        {
          "output_type": "stream",
          "text": [
            "100%|██████████| 130/130 [01:16<00:00,  1.70it/s]\n"
          ],
          "name": "stderr"
        },
        {
          "output_type": "execute_result",
          "data": {
            "text/plain": [
              "((33276, 200, 40), (33276,))"
            ]
          },
          "metadata": {
            "tags": []
          },
          "execution_count": 11
        }
      ]
    },
    {
      "cell_type": "code",
      "metadata": {
        "id": "bceubDx41zPB",
        "colab_type": "code",
        "outputId": "7f932d9d-2f04-459c-fd95-638730d1c539",
        "colab": {
          "base_uri": "https://localhost:8080/",
          "height": 51
        }
      },
      "source": [
        "train_vecs, train_targets = prepare_encoded_dataset(train_loader, lstm_encoder)\n",
        "train_vecs.shape, train_targets.shape"
      ],
      "execution_count": 0,
      "outputs": [
        {
          "output_type": "stream",
          "text": [
            "100%|██████████| 304/304 [04:05<00:00,  1.24it/s]\n"
          ],
          "name": "stderr"
        },
        {
          "output_type": "execute_result",
          "data": {
            "text/plain": [
              "((77644, 200, 40), (77644,))"
            ]
          },
          "metadata": {
            "tags": []
          },
          "execution_count": 12
        }
      ]
    },
    {
      "cell_type": "code",
      "metadata": {
        "id": "K3B3yuOR1zPF",
        "colab_type": "code",
        "outputId": "7e3f2b37-ee45-4432-f7a9-afe8582da0f0",
        "colab": {
          "base_uri": "https://localhost:8080/",
          "height": 34
        }
      },
      "source": [
        "train_vecs.shape, val_vecs.shape, train_targets.shape, val_targets.shape"
      ],
      "execution_count": 0,
      "outputs": [
        {
          "output_type": "execute_result",
          "data": {
            "text/plain": [
              "((77644, 200, 40), (33276, 200, 40), (77644,), (33276,))"
            ]
          },
          "metadata": {
            "tags": []
          },
          "execution_count": 13
        }
      ]
    },
    {
      "cell_type": "code",
      "metadata": {
        "id": "W56qF_RQ1zPI",
        "colab_type": "code",
        "colab": {}
      },
      "source": [
        "np.save(lstm_checkpoint.parent / 'train_vecs.npy', train_vecs)\n",
        "np.save(lstm_checkpoint.parent / 'val_vecs.npy', val_vecs)\n",
        "\n",
        "np.save(lstm_checkpoint.parent / 'train_targets.npy', train_targets)\n",
        "np.save(lstm_checkpoint.parent / 'val_targets.npy', val_targets)"
      ],
      "execution_count": 0,
      "outputs": []
    },
    {
      "cell_type": "markdown",
      "metadata": {
        "id": "86QQWlyA1zPV",
        "colab_type": "text"
      },
      "source": [
        "# Тестируем классификаторы"
      ]
    },
    {
      "cell_type": "code",
      "metadata": {
        "id": "vXMfwvIghn48",
        "colab_type": "code",
        "colab": {
          "base_uri": "https://localhost:8080/",
          "height": 34
        },
        "outputId": "9df4c30c-185f-4c08-cc42-e3053cbc5ce8"
      },
      "source": [
        "train_vecs = np.load(lstm_checkpoint.parent / 'train_vecs.npy')\n",
        "val_vecs = np.load(lstm_checkpoint.parent / 'val_vecs.npy')\n",
        "\n",
        "train_targets = np.load(lstm_checkpoint.parent / 'train_targets.npy')\n",
        "val_targets = np.load(lstm_checkpoint.parent / 'val_targets.npy')\n",
        "\n",
        "train_vecs = train_vecs.reshape(train_vecs.shape[0], -1)\n",
        "val_vecs = val_vecs.reshape(val_vecs.shape[0], -1)\n",
        "\n",
        "train_vecs.shape, val_vecs.shape, train_targets.shape, val_targets.shape"
      ],
      "execution_count": 6,
      "outputs": [
        {
          "output_type": "execute_result",
          "data": {
            "text/plain": [
              "((77644, 200, 40), (33276, 200, 40), (77644,), (33276,))"
            ]
          },
          "metadata": {
            "tags": []
          },
          "execution_count": 6
        }
      ]
    },
    {
      "cell_type": "code",
      "metadata": {
        "id": "lQ6wBQpB1zPW",
        "colab_type": "code",
        "colab": {}
      },
      "source": [
        "from sklearn.svm import SVC\n",
        "from sklearn.linear_model import SGDClassifier, LogisticRegression\n",
        "from sklearn.decomposition import PCA, NMF, TruncatedSVD\n",
        "from sklearn.metrics import roc_auc_score\n",
        "from sklearn.ensemble import RandomForestClassifier\n",
        "from sklearn.base import TransformerMixin\n",
        "from sklearn.pipeline import Pipeline"
      ],
      "execution_count": 0,
      "outputs": []
    },
    {
      "cell_type": "markdown",
      "metadata": {
        "id": "mUktSKF1FVIp",
        "colab_type": "text"
      },
      "source": [
        "## Logistic Regresssion"
      ]
    },
    {
      "cell_type": "code",
      "metadata": {
        "id": "zJ9-Uc-3FYZ2",
        "colab_type": "code",
        "colab": {}
      },
      "source": [
        "linear_model = SGDClassifier(verbose=1, loss='modified_huber', max_iter=100)"
      ],
      "execution_count": 0,
      "outputs": []
    },
    {
      "cell_type": "code",
      "metadata": {
        "id": "MFcgK2JMFgSh",
        "colab_type": "code",
        "colab": {}
      },
      "source": [
        "linear_model.fit(train_vecs, train_targets)"
      ],
      "execution_count": 0,
      "outputs": []
    },
    {
      "cell_type": "code",
      "metadata": {
        "id": "3w5T0eJHGgVe",
        "colab_type": "code",
        "outputId": "1f4dc5c1-debf-45fa-9681-7376714e71f7",
        "colab": {
          "base_uri": "https://localhost:8080/",
          "height": 34
        }
      },
      "source": [
        "linear_model.predict_proba(val_vecs).sum()"
      ],
      "execution_count": 0,
      "outputs": [
        {
          "output_type": "execute_result",
          "data": {
            "text/plain": [
              "33276.0"
            ]
          },
          "metadata": {
            "tags": []
          },
          "execution_count": 17
        }
      ]
    },
    {
      "cell_type": "code",
      "metadata": {
        "id": "2SpnupIrIQim",
        "colab_type": "code",
        "colab": {}
      },
      "source": [
        "probs = linear_model.predict_proba(val_vecs)[:,1]"
      ],
      "execution_count": 0,
      "outputs": []
    },
    {
      "cell_type": "code",
      "metadata": {
        "id": "YPMBDFUBIrhY",
        "colab_type": "code",
        "outputId": "942121cc-d764-45e5-e8b6-49c3585a0301",
        "colab": {
          "base_uri": "https://localhost:8080/",
          "height": 34
        }
      },
      "source": [
        "roc_auc_score(val_targets, probs)"
      ],
      "execution_count": 0,
      "outputs": [
        {
          "output_type": "execute_result",
          "data": {
            "text/plain": [
              "0.49960789045062437"
            ]
          },
          "metadata": {
            "tags": []
          },
          "execution_count": 27
        }
      ]
    },
    {
      "cell_type": "code",
      "metadata": {
        "id": "R4F2reDwJmvf",
        "colab_type": "code",
        "outputId": "8579b28e-8e63-43e0-9a91-99794ea558a9",
        "colab": {
          "base_uri": "https://localhost:8080/",
          "height": 272
        }
      },
      "source": [
        "linear_model = LogisticRegression(verbose=1, max_iter=500)\n",
        "linear_model.fit(train_vecs, train_targets)"
      ],
      "execution_count": 0,
      "outputs": [
        {
          "output_type": "stream",
          "text": [
            "[Parallel(n_jobs=1)]: Using backend SequentialBackend with 1 concurrent workers.\n",
            "/usr/local/lib/python3.6/dist-packages/sklearn/linear_model/_logistic.py:940: ConvergenceWarning: lbfgs failed to converge (status=1):\n",
            "STOP: TOTAL NO. of ITERATIONS REACHED LIMIT.\n",
            "\n",
            "Increase the number of iterations (max_iter) or scale the data as shown in:\n",
            "    https://scikit-learn.org/stable/modules/preprocessing.html\n",
            "Please also refer to the documentation for alternative solver options:\n",
            "    https://scikit-learn.org/stable/modules/linear_model.html#logistic-regression\n",
            "  extra_warning_msg=_LOGISTIC_SOLVER_CONVERGENCE_MSG)\n",
            "[Parallel(n_jobs=1)]: Done   1 out of   1 | elapsed:  4.1min finished\n"
          ],
          "name": "stderr"
        },
        {
          "output_type": "execute_result",
          "data": {
            "text/plain": [
              "LogisticRegression(C=1.0, class_weight=None, dual=False, fit_intercept=True,\n",
              "                   intercept_scaling=1, l1_ratio=None, max_iter=500,\n",
              "                   multi_class='auto', n_jobs=None, penalty='l2',\n",
              "                   random_state=None, solver='lbfgs', tol=0.0001, verbose=1,\n",
              "                   warm_start=False)"
            ]
          },
          "metadata": {
            "tags": []
          },
          "execution_count": 32
        }
      ]
    },
    {
      "cell_type": "code",
      "metadata": {
        "id": "JaxPj4cYLwdN",
        "colab_type": "code",
        "outputId": "def4dcfb-dc2d-4e49-a293-613393bd1c21",
        "colab": {
          "base_uri": "https://localhost:8080/",
          "height": 34
        }
      },
      "source": [
        "train_probs = linear_model.predict_proba(train_vecs)[:,1]\n",
        "f'train ROC AUC: {roc_auc_score(train_targets, train_probs)}'"
      ],
      "execution_count": 0,
      "outputs": [
        {
          "output_type": "execute_result",
          "data": {
            "text/plain": [
              "'train ROC AUC: 0.6871981942065118'"
            ]
          },
          "metadata": {
            "tags": []
          },
          "execution_count": 36
        }
      ]
    },
    {
      "cell_type": "code",
      "metadata": {
        "id": "KO3ixW-7KIQ4",
        "colab_type": "code",
        "outputId": "ea0f0218-334d-499e-db84-d6d399efafe8",
        "colab": {
          "base_uri": "https://localhost:8080/",
          "height": 34
        }
      },
      "source": [
        "probs = linear_model.predict_proba(val_vecs)[:,1]\n",
        "f'val ROC AUC: {roc_auc_score(val_targets, probs)}'"
      ],
      "execution_count": 0,
      "outputs": [
        {
          "output_type": "execute_result",
          "data": {
            "text/plain": [
              "'val ROC AUC: 0.35078624639906963'"
            ]
          },
          "metadata": {
            "tags": []
          },
          "execution_count": 39
        }
      ]
    },
    {
      "cell_type": "code",
      "metadata": {
        "id": "n54aj5gfMNgw",
        "colab_type": "code",
        "outputId": "c1c0ad50-7961-4eb4-fff6-762aaa300bd9",
        "colab": {
          "base_uri": "https://localhost:8080/",
          "height": 34
        }
      },
      "source": [
        "probs.mean()"
      ],
      "execution_count": 0,
      "outputs": [
        {
          "output_type": "execute_result",
          "data": {
            "text/plain": [
              "0.004161924859565712"
            ]
          },
          "metadata": {
            "tags": []
          },
          "execution_count": 44
        }
      ]
    },
    {
      "cell_type": "code",
      "metadata": {
        "id": "Rch_-BGsMS4n",
        "colab_type": "code",
        "outputId": "855d57fa-775b-4747-ee3d-4dee1ca0a461",
        "colab": {
          "base_uri": "https://localhost:8080/",
          "height": 34
        }
      },
      "source": [
        "train_probs.mean()"
      ],
      "execution_count": 0,
      "outputs": [
        {
          "output_type": "execute_result",
          "data": {
            "text/plain": [
              "0.0040941781466248325"
            ]
          },
          "metadata": {
            "tags": []
          },
          "execution_count": 43
        }
      ]
    },
    {
      "cell_type": "markdown",
      "metadata": {
        "id": "_wv4qEBFFOgR",
        "colab_type": "text"
      },
      "source": [
        "## SVM\n",
        "\n",
        "TODO: сделать уменьшение размерности или ансамблирование"
      ]
    },
    {
      "cell_type": "code",
      "metadata": {
        "id": "vr5R1dhH1zPZ",
        "colab_type": "code",
        "colab": {}
      },
      "source": [
        ""
      ],
      "execution_count": 0,
      "outputs": []
    },
    {
      "cell_type": "code",
      "metadata": {
        "id": "ZAEH4r4aiaib",
        "colab_type": "code",
        "colab": {}
      },
      "source": [
        "def checl_model(model, divide_dataset_size_by=1, shift=0, **model_kwargs):\n",
        "    model.fit(train_vecs[shift::divide_dataset_size_by], train_targets[shift::divide_dataset_size_by])\n",
        "    print('fitted!')\n",
        "    train_probs = model.predict_proba(train_vecs)[:,1]\n",
        "    print(f'train ROC AUC: {roc_auc_score(train_targets, train_probs)}')\n",
        "    probs = model.predict_proba(val_vecs)[:,1]\n",
        "    print(f'val ROC AUC: {roc_auc_score(val_targets, probs)}')"
      ],
      "execution_count": 0,
      "outputs": []
    },
    {
      "cell_type": "code",
      "metadata": {
        "id": "0NhHAaecjj9q",
        "colab_type": "code",
        "colab": {
          "base_uri": "https://localhost:8080/",
          "height": 68
        },
        "outputId": "02c05076-8d16-4166-84b7-5491da0de914"
      },
      "source": [
        "svm_model = SVC(kernel='linear', verbose=1, probability=True)\n",
        "checl_model(svm_model, divide_dataset_size_by=10)"
      ],
      "execution_count": 13,
      "outputs": [
        {
          "output_type": "stream",
          "text": [
            "[LibSVM]fitted!\n",
            "train ROC AUC: 0.5521633332393683\n",
            "val ROC AUC: 0.1491868053406013\n"
          ],
          "name": "stdout"
        }
      ]
    },
    {
      "cell_type": "code",
      "metadata": {
        "id": "-GAEA0HB1zPu",
        "colab_type": "code",
        "colab": {
          "base_uri": "https://localhost:8080/",
          "height": 68
        },
        "outputId": "3dbca434-3251-4579-823e-fba6974409e7"
      },
      "source": [
        "svm_model = SVC(kernel='poly', verbose=1, degree=3, probability=True)\n",
        "checl_model(svm_model, divide_dataset_size_by=10)"
      ],
      "execution_count": 14,
      "outputs": [
        {
          "output_type": "stream",
          "text": [
            "[LibSVM]fitted!\n",
            "train ROC AUC: 0.5476269424708271\n",
            "val ROC AUC: 0.19303978354366164\n"
          ],
          "name": "stdout"
        }
      ]
    },
    {
      "cell_type": "code",
      "metadata": {
        "id": "xygwR8LZj1K5",
        "colab_type": "code",
        "colab": {
          "base_uri": "https://localhost:8080/",
          "height": 68
        },
        "outputId": "2a6a5e4b-6c17-4446-9c20-94ea472cb745"
      },
      "source": [
        "svm_model = SVC(kernel='rbf', verbose=1, probability=True)\n",
        "checl_model(svm_model, divide_dataset_size_by=10)"
      ],
      "execution_count": 15,
      "outputs": [
        {
          "output_type": "stream",
          "text": [
            "[LibSVM]fitted!\n",
            "train ROC AUC: 0.5307831557563787\n",
            "val ROC AUC: 0.20794983568978154\n"
          ],
          "name": "stdout"
        }
      ]
    },
    {
      "cell_type": "code",
      "metadata": {
        "id": "Q5TtdEUnj1k4",
        "colab_type": "code",
        "colab": {
          "base_uri": "https://localhost:8080/",
          "height": 68
        },
        "outputId": "ead43c68-7934-45dd-ce5e-0491c6523862"
      },
      "source": [
        "svm_model = SVC(kernel='sigmoid', verbose=1, probability=True)\n",
        "checl_model(svm_model, divide_dataset_size_by=10)"
      ],
      "execution_count": 16,
      "outputs": [
        {
          "output_type": "stream",
          "text": [
            "[LibSVM]fitted!\n",
            "train ROC AUC: 0.5325750870193234\n",
            "val ROC AUC: 0.21466811115934875\n"
          ],
          "name": "stdout"
        }
      ]
    },
    {
      "cell_type": "markdown",
      "metadata": {
        "id": "c0mxXzKvmnJN",
        "colab_type": "text"
      },
      "source": [
        "# Decomposition\n",
        "\n",
        "## PCA"
      ]
    },
    {
      "cell_type": "code",
      "metadata": {
        "id": "4P7x9RYsmpiS",
        "colab_type": "code",
        "colab": {
          "base_uri": "https://localhost:8080/",
          "height": 312
        },
        "outputId": "7133c633-e0e7-4216-a015-45c1809d29a5"
      },
      "source": [
        "pca_model = PCA(n_components=100)\n",
        "\n",
        "pca_model.fit(train_vecs)\n",
        "\n",
        "plt.figure()\n",
        "plt.plot(np.cumsum(pca_model.explained_variance_ratio_))\n",
        "plt.xlabel('Number of Components')\n",
        "plt.ylabel('Variance (%)') #for each component\n",
        "plt.title('Pulsar Dataset Explained Variance')\n",
        "plt.show()\n",
        "print(f'{np.cumsum(pca_model.explained_variance_ratio_)[-1]:.6f}')"
      ],
      "execution_count": 22,
      "outputs": [
        {
          "output_type": "display_data",
          "data": {
            "image/png": "[encoded data removed]",
            "text/plain": [
              "<Figure size 432x288 with 1 Axes>"
            ]
          },
          "metadata": {
            "tags": []
          }
        },
        {
          "output_type": "stream",
          "text": [
            "0.993649\n"
          ],
          "name": "stdout"
        }
      ]
    },
    {
      "cell_type": "code",
      "metadata": {
        "id": "S15YEAmBv4Un",
        "colab_type": "code",
        "colab": {}
      },
      "source": [
        "train_vecs_pca = pca_model.transform(train_vecs)\n",
        "val_vecs_pca = pca_model.transform(val_vecs)"
      ],
      "execution_count": 0,
      "outputs": []
    },
    {
      "cell_type": "code",
      "metadata": {
        "id": "TkjlxjLBwBi0",
        "colab_type": "code",
        "colab": {}
      },
      "source": [
        "def check_model_pca(model, divide_dataset_size_by=1, shift=0, **model_kwargs):\n",
        "    model.fit(train_vecs_pca[shift::divide_dataset_size_by], train_targets[shift::divide_dataset_size_by])\n",
        "    print('fitted!')\n",
        "    train_probs = model.predict_proba(train_vecs_pca)[:,1]\n",
        "    print(f'train ROC AUC: {roc_auc_score(train_targets, train_probs)}')\n",
        "    probs = model.predict_proba(val_vecs_pca)[:,1]\n",
        "    print(f'val ROC AUC: {roc_auc_score(val_targets, probs)}')"
      ],
      "execution_count": 0,
      "outputs": []
    },
    {
      "cell_type": "code",
      "metadata": {
        "id": "PgoqAhMjwM_z",
        "colab_type": "code",
        "colab": {
          "base_uri": "https://localhost:8080/",
          "height": 68
        },
        "outputId": "158cfc29-ed7c-40a6-cc50-8d9a0743a257"
      },
      "source": [
        "svm_model = SVC(kernel='linear', verbose=1, probability=True)\n",
        "check_model_pca(svm_model, divide_dataset_size_by=2)"
      ],
      "execution_count": 32,
      "outputs": [
        {
          "output_type": "stream",
          "text": [
            "[LibSVM]fitted!\n",
            "train ROC AUC: 0.49972683502022364\n",
            "val ROC AUC: 0.6053563252264396\n"
          ],
          "name": "stdout"
        }
      ]
    },
    {
      "cell_type": "code",
      "metadata": {
        "colab_type": "code",
        "outputId": "fad64b5c-525b-45ce-a098-ba23dbf1c210",
        "id": "ewkFGacUwZIE",
        "colab": {
          "base_uri": "https://localhost:8080/",
          "height": 68
        }
      },
      "source": [
        "svm_model = SVC(kernel='poly', verbose=1, degree=3, probability=True)\n",
        "check_model_pca(svm_model, divide_dataset_size_by=2)"
      ],
      "execution_count": 33,
      "outputs": [
        {
          "output_type": "stream",
          "text": [
            "[LibSVM]fitted!\n",
            "train ROC AUC: 0.5922033386912453\n",
            "val ROC AUC: 0.16184259842543047\n"
          ],
          "name": "stdout"
        }
      ]
    },
    {
      "cell_type": "code",
      "metadata": {
        "colab_type": "code",
        "outputId": "030688eb-9d40-42ac-f910-7582b99fb0e6",
        "id": "L2fw0yPmwZIK",
        "colab": {
          "base_uri": "https://localhost:8080/",
          "height": 68
        }
      },
      "source": [
        "svm_model = SVC(kernel='rbf', verbose=1, probability=True)\n",
        "check_model_pca(svm_model, divide_dataset_size_by=2)"
      ],
      "execution_count": 34,
      "outputs": [
        {
          "output_type": "stream",
          "text": [
            "[LibSVM]fitted!\n",
            "train ROC AUC: 0.6149832011288534\n",
            "val ROC AUC: 0.1398157332349681\n"
          ],
          "name": "stdout"
        }
      ]
    },
    {
      "cell_type": "code",
      "metadata": {
        "colab_type": "code",
        "outputId": "55c5757a-95bc-4a54-a4bf-3032920665a4",
        "id": "Ec1kfAzuwZIP",
        "colab": {
          "base_uri": "https://localhost:8080/",
          "height": 34
        }
      },
      "source": [
        "svm_model = SVC(kernel='sigmoid', verbose=1, probability=True)\n",
        "check_model_pca(svm_model, divide_dataset_size_by=2)"
      ],
      "execution_count": 0,
      "outputs": [
        {
          "output_type": "stream",
          "text": [
            "[LibSVM]fitted!\n"
          ],
          "name": "stdout"
        }
      ]
    },
    {
      "cell_type": "markdown",
      "metadata": {
        "id": "iJHgQVyjwvRM",
        "colab_type": "text"
      },
      "source": [
        "## NMF"
      ]
    },
    {
      "cell_type": "code",
      "metadata": {
        "id": "amngOFBjxEHH",
        "colab_type": "code",
        "colab": {}
      },
      "source": [
        "class UniformScaler(TransformerMixin):\n",
        "    def __init__(self, min=-1, scale=2, *featurizers):\n",
        "        self.min = min\n",
        "        self.scale = scale\n",
        "\n",
        "    def fit(self, X, y=None):\n",
        "        return self\n",
        "\n",
        "   def transform(self, X):\n",
        "        return (X - self.min) / self.scale"
      ],
      "execution_count": 0,
      "outputs": []
    },
    {
      "cell_type": "code",
      "metadata": {
        "id": "dfmBXl-ew3gG",
        "colab_type": "code",
        "colab": {}
      },
      "source": [
        "nmf_model = Pipeline([\n",
        "          ('scaler', UniformScaler()),\n",
        "          ('nmf', NMF(n_components=100))\n",
        "          ])\n",
        "nmf_model.fit(train_vecs)"
      ],
      "execution_count": 0,
      "outputs": []
    },
    {
      "cell_type": "code",
      "metadata": {
        "id": "EmXssK7vxjmI",
        "colab_type": "code",
        "colab": {}
      },
      "source": [
        "train_vecs_nmf = nmf_model.transform(train_vecs)\n",
        "val_vecs_nmf = nmf_model.transform(val_vecs)"
      ],
      "execution_count": 0,
      "outputs": []
    },
    {
      "cell_type": "code",
      "metadata": {
        "id": "8bkNtMYrxwEm",
        "colab_type": "code",
        "colab": {}
      },
      "source": [
        "def check_model_nmf(model, divide_dataset_size_by=1, shift=0, **model_kwargs):\n",
        "    model.fit(train_vecs_nmf[shift::divide_dataset_size_by], train_targets[shift::divide_dataset_size_by])\n",
        "    print('fitted!')\n",
        "    train_probs = model.predict_proba(train_vecs_nmf)[:,1]\n",
        "    print(f'train ROC AUC: {roc_auc_score(train_targets, train_probs)}')\n",
        "    probs = model.predict_proba(val_vecs_nmf)[:,1]\n",
        "    print(f'val ROC AUC: {roc_auc_score(val_targets, probs)}')"
      ],
      "execution_count": 0,
      "outputs": []
    },
    {
      "cell_type": "code",
      "metadata": {
        "colab_type": "code",
        "outputId": "158cfc29-ed7c-40a6-cc50-8d9a0743a257",
        "id": "SywzYpfjyDpI",
        "colab": {
          "base_uri": "https://localhost:8080/",
          "height": 34
        }
      },
      "source": [
        "svm_model = SVC(kernel='linear', verbose=1, probability=True)\n",
        "check_model_nmf(svm_model, divide_dataset_size_by=4)"
      ],
      "execution_count": 0,
      "outputs": [
        {
          "output_type": "stream",
          "text": [
            "[LibSVM]"
          ],
          "name": "stdout"
        }
      ]
    },
    {
      "cell_type": "code",
      "metadata": {
        "colab_type": "code",
        "id": "ThmyuszYyDqu",
        "colab": {}
      },
      "source": [
        "svm_model = SVC(kernel='poly', verbose=1, degree=3, probability=True)\n",
        "check_model_nmf(svm_model, divide_dataset_size_by=4)"
      ],
      "execution_count": 0,
      "outputs": []
    },
    {
      "cell_type": "code",
      "metadata": {
        "colab_type": "code",
        "id": "OfOs-AmlyDq1",
        "colab": {}
      },
      "source": [
        "svm_model = SVC(kernel='rbf', verbose=1, probability=True)\n",
        "check_model_nmf(svm_model, divide_dataset_size_by=4)"
      ],
      "execution_count": 0,
      "outputs": []
    },
    {
      "cell_type": "code",
      "metadata": {
        "colab_type": "code",
        "id": "51RdTzYcyDq-",
        "colab": {}
      },
      "source": [
        "svm_model = SVC(kernel='sigmoid', verbose=1, probability=True)\n",
        "check_model_nmf(svm_model, divide_dataset_size_by=4)"
      ],
      "execution_count": 0,
      "outputs": []
    },
    {
      "cell_type": "markdown",
      "metadata": {
        "id": "0qKexrfyyROi",
        "colab_type": "text"
      },
      "source": [
        "# Random Forest"
      ]
    },
    {
      "cell_type": "code",
      "metadata": {
        "id": "FGAS_FnXyS8S",
        "colab_type": "code",
        "colab": {}
      },
      "source": [
        "rfc_model = RandomForestClassifier(verbose=1)\n",
        "check_model_nmf(rfc_model)"
      ],
      "execution_count": 0,
      "outputs": []
    }
  ]
}