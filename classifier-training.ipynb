{
 "cells": [
  {
   "cell_type": "code",
   "execution_count": 1,
   "metadata": {},
   "outputs": [],
   "source": [
    "import torch\n",
    "import torch.nn as nn\n",
    "import torch.nn.functional as F\n",
    "from torch import optim\n",
    "\n",
    "from pathlib import Path\n",
    "import pandas as pd\n",
    "import pickle\n",
    "import numpy as np\n",
    "import shutil\n",
    "# from tqdm import tqdm_notebook as tqdm\n",
    "\n",
    "import torch.utils.data\n",
    "from ignite.engine import Events, create_supervised_trainer, create_supervised_evaluator, Engine\n",
    "from ignite.metrics import Accuracy, Loss\n",
    "\n",
    "from src.models import InsiderClassifier, LSTM_Encoder\n",
    "from src.params import get_params\n",
    "from src.dataset import CertDataset, create_data_loaders\n",
    "from src.cnn_trainer import *\n",
    "\n",
    "%load_ext autoreload\n",
    "%autoreload 2"
   ]
  },
  {
   "cell_type": "code",
   "execution_count": 30,
   "metadata": {},
   "outputs": [],
   "source": [
    "# output_dir = Path(r'C:\\Users\\Mvideo\\Google Drive\\Datasets\\CERT_output')\n",
    "# answers_dir = Path(r\"C:/Users/Mvideo/Downloads/answers\")\n",
    "\n",
    "output_dir = Path(r'C:\\Users\\admin\\Google Drive\\Datasets\\CERT_output')\n",
    "answers_dir = Path(r\"C:\\Users\\admin\\Google Drive\\Datasets\\CERT\\answers\")\n",
    "main_answers_file = answers_dir / \"insiders.csv\"\n",
    "\n",
    "lstm_checkpoint = output_dir / 'checkpoints/lstm/final2-nll/final_model_3040.pth'\n",
    "assert(lstm_checkpoint.is_file())\n",
    "\n",
    "run_name = 'cnn/test6'\n",
    "log_dir = output_dir / 'logs' / run_name\n",
    "checkpoint_dir = output_dir / 'checkpoints' / run_name\n",
    "\n",
    "# assert(not log_dir.is_dir())\n",
    "# assert(not checkpoint_dir.is_dir())\n",
    "\n",
    "if log_dir.is_dir():\n",
    "    shutil.rmtree(log_dir)\n",
    "if checkpoint_dir.is_dir():\n",
    "    shutil.rmtree(checkpoint_dir)"
   ]
  },
  {
   "cell_type": "code",
   "execution_count": 3,
   "metadata": {},
   "outputs": [],
   "source": [
    "actions, targets = CertDataset.prepare_dataset(output_dir / 'aggregated.pkl', main_answers_file, min_length=50, max_length=200)"
   ]
  },
  {
   "cell_type": "code",
   "execution_count": 4,
   "metadata": {},
   "outputs": [],
   "source": [
    "cert_dataset = CertDataset(actions, targets)\n",
    "train_loader, val_loader = create_data_loaders(cert_dataset, validation_split=0.3, random_seed=0, batch_size=128)\n",
    "\n",
    "params = get_params()\n",
    "\n",
    "device = 'cuda'"
   ]
  },
  {
   "cell_type": "code",
   "execution_count": 5,
   "metadata": {},
   "outputs": [],
   "source": [
    "anomalous_num = targets.sum()\n",
    "overall_num = targets.shape[0]\n",
    "non_anomalous_num = overall_num - anomalous_num\n",
    "\n",
    "weight_beta = 0.1\n",
    "anomalous_weight = 1 + (non_anomalous_num - anomalous_num) / (weight_beta * non_anomalous_num)\n",
    "anomalous_weight"
   ]
  },
  {
   "cell_type": "code",
   "execution_count": 35,
   "metadata": {},
   "outputs": [
    {
     "data": {
      "text/plain": [
       "tensor([ 1, 10], device='cuda:0')"
      ]
     },
     "execution_count": 35,
     "metadata": {},
     "output_type": "execute_result"
    }
   ],
   "source": [
    "weight = torch.tensor([1, anomalous_weight]).to(device).float()"
   ]
  },
  {
   "cell_type": "code",
   "execution_count": 38,
   "metadata": {},
   "outputs": [],
   "source": [
    "model = InsiderClassifier(params['model'], lstm_checkpoint)\n",
    "# criterion = nn.BCELoss()\n",
    "criterion = nn.CrossEntropyLoss(weight=torch.tensor([1,10]).float().to(device))\n",
    "optimizer = optim.Adam(model.parameters())\n",
    "\n",
    "train_engine = create_supervised_trainer(\n",
    "                                        model, optimizer, criterion, device=device,\n",
    "                                        prepare_batch=prepare_batch,\n",
    "                                        log_dir=(output_dir / 'logs' / 'cnn' / run_name).as_posix(),\n",
    "                                        checkpoint_dir=output_dir / 'checkpoints' / 'cnn' / run_name\n",
    "                                       )\n",
    "\n",
    "val_engine = create_supervised_evaluator(\n",
    "        model, device=device,\n",
    "        prepare_batch=prepare_batch,\n",
    "        metrics={},\n",
    "        criterion=criterion,\n",
    "        log_dir=log_dir.as_posix(),\n",
    ")\n",
    "\n",
    "@train_engine.on(Events.STARTED)\n",
    "def log_training_results(trainer):\n",
    "    print('Initial validation run:')\n",
    "    val_engine.train_epoch = 0\n",
    "    val_engine.run(val_loader)\n",
    "\n",
    "@train_engine.on(Events.EPOCH_COMPLETED)\n",
    "def log_training_results(trainer):\n",
    "    print('Validation run:')\n",
    "    val_engine.train_epoch = train_engine.state.epoch\n",
    "    val_engine.run(val_loader)\n"
   ]
  },
  {
   "cell_type": "code",
   "execution_count": null,
   "metadata": {},
   "outputs": [
    {
     "name": "stdout",
     "output_type": "stream",
     "text": [
      "Initial validation run:\n"
     ]
    },
    {
     "data": {
      "application/vnd.jupyter.widget-view+json": {
       "model_id": "c9592200f37f4ea79f80d2e22364a04e",
       "version_major": 2,
       "version_minor": 0
      },
      "text/plain": [
       "HBox(children=(FloatProgress(value=0.0, max=260.0), HTML(value='')))"
      ]
     },
     "metadata": {},
     "output_type": "display_data"
    },
    {
     "name": "stdout",
     "output_type": "stream",
     "text": [
      "\n",
      "Validation Results - Avg loss: 0.585796, Accuracy: 0.996334\n"
     ]
    },
    {
     "data": {
      "application/vnd.jupyter.widget-view+json": {
       "model_id": "5485059144be46e6932113b3ffd84c8e",
       "version_major": 2,
       "version_minor": 0
      },
      "text/plain": [
       "HBox(children=(FloatProgress(value=0.0, max=607.0), HTML(value='')))"
      ]
     },
     "metadata": {},
     "output_type": "display_data"
    },
    {
     "name": "stdout",
     "output_type": "stream",
     "text": [
      "\n",
      "Validation run:\n"
     ]
    },
    {
     "data": {
      "application/vnd.jupyter.widget-view+json": {
       "model_id": "5b566ffbf4184f90a3ac5e33147f26a4",
       "version_major": 2,
       "version_minor": 0
      },
      "text/plain": [
       "HBox(children=(FloatProgress(value=0.0, max=260.0), HTML(value='')))"
      ]
     },
     "metadata": {},
     "output_type": "display_data"
    },
    {
     "name": "stdout",
     "output_type": "stream",
     "text": [
      "\n",
      "Validation Results - Avg loss: 0.115570, Accuracy: 0.996334\n"
     ]
    },
    {
     "data": {
      "application/vnd.jupyter.widget-view+json": {
       "model_id": "cf3d3100eb25407cb659bdf04ca31868",
       "version_major": 2,
       "version_minor": 0
      },
      "text/plain": [
       "HBox(children=(FloatProgress(value=0.0, max=607.0), HTML(value='')))"
      ]
     },
     "metadata": {},
     "output_type": "display_data"
    }
   ],
   "source": [
    "train_engine.run(train_loader, max_epochs=3)"
   ]
  },
  {
   "cell_type": "code",
   "execution_count": 37,
   "metadata": {},
   "outputs": [
    {
     "name": "stdout",
     "output_type": "stream",
     "text": [
      "> \u001b[1;32mc:\\anaconda3\\envs\\python3.6-torch\\lib\\site-packages\\torch\\nn\\functional.py\u001b[0m(1871)\u001b[0;36mnll_loss\u001b[1;34m()\u001b[0m\n",
      "\u001b[1;32m   1869 \u001b[1;33m                         .format(input.size(0), target.size(0)))\n",
      "\u001b[0m\u001b[1;32m   1870 \u001b[1;33m    \u001b[1;32mif\u001b[0m \u001b[0mdim\u001b[0m \u001b[1;33m==\u001b[0m \u001b[1;36m2\u001b[0m\u001b[1;33m:\u001b[0m\u001b[1;33m\u001b[0m\u001b[1;33m\u001b[0m\u001b[0m\n",
      "\u001b[0m\u001b[1;32m-> 1871 \u001b[1;33m        \u001b[0mret\u001b[0m \u001b[1;33m=\u001b[0m \u001b[0mtorch\u001b[0m\u001b[1;33m.\u001b[0m\u001b[0m_C\u001b[0m\u001b[1;33m.\u001b[0m\u001b[0m_nn\u001b[0m\u001b[1;33m.\u001b[0m\u001b[0mnll_loss\u001b[0m\u001b[1;33m(\u001b[0m\u001b[0minput\u001b[0m\u001b[1;33m,\u001b[0m \u001b[0mtarget\u001b[0m\u001b[1;33m,\u001b[0m \u001b[0mweight\u001b[0m\u001b[1;33m,\u001b[0m \u001b[0m_Reduction\u001b[0m\u001b[1;33m.\u001b[0m\u001b[0mget_enum\u001b[0m\u001b[1;33m(\u001b[0m\u001b[0mreduction\u001b[0m\u001b[1;33m)\u001b[0m\u001b[1;33m,\u001b[0m \u001b[0mignore_index\u001b[0m\u001b[1;33m)\u001b[0m\u001b[1;33m\u001b[0m\u001b[1;33m\u001b[0m\u001b[0m\n",
      "\u001b[0m\u001b[1;32m   1872 \u001b[1;33m    \u001b[1;32melif\u001b[0m \u001b[0mdim\u001b[0m \u001b[1;33m==\u001b[0m \u001b[1;36m4\u001b[0m\u001b[1;33m:\u001b[0m\u001b[1;33m\u001b[0m\u001b[1;33m\u001b[0m\u001b[0m\n",
      "\u001b[0m\u001b[1;32m   1873 \u001b[1;33m        \u001b[0mret\u001b[0m \u001b[1;33m=\u001b[0m \u001b[0mtorch\u001b[0m\u001b[1;33m.\u001b[0m\u001b[0m_C\u001b[0m\u001b[1;33m.\u001b[0m\u001b[0m_nn\u001b[0m\u001b[1;33m.\u001b[0m\u001b[0mnll_loss2d\u001b[0m\u001b[1;33m(\u001b[0m\u001b[0minput\u001b[0m\u001b[1;33m,\u001b[0m \u001b[0mtarget\u001b[0m\u001b[1;33m,\u001b[0m \u001b[0mweight\u001b[0m\u001b[1;33m,\u001b[0m \u001b[0m_Reduction\u001b[0m\u001b[1;33m.\u001b[0m\u001b[0mget_enum\u001b[0m\u001b[1;33m(\u001b[0m\u001b[0mreduction\u001b[0m\u001b[1;33m)\u001b[0m\u001b[1;33m,\u001b[0m \u001b[0mignore_index\u001b[0m\u001b[1;33m)\u001b[0m\u001b[1;33m\u001b[0m\u001b[1;33m\u001b[0m\u001b[0m\n",
      "\u001b[0m\n"
     ]
    },
    {
     "name": "stdin",
     "output_type": "stream",
     "text": [
      "ipdb>  weight\n"
     ]
    },
    {
     "name": "stdout",
     "output_type": "stream",
     "text": [
      "tensor([ 1, 10], device='cuda:0')\n"
     ]
    },
    {
     "name": "stdin",
     "output_type": "stream",
     "text": [
      "ipdb>  exit\n"
     ]
    }
   ],
   "source": [
    "%debug"
   ]
  },
  {
   "cell_type": "code",
   "execution_count": null,
   "metadata": {},
   "outputs": [],
   "source": [
    "class_weights"
   ]
  },
  {
   "cell_type": "markdown",
   "metadata": {},
   "source": [
    "# Prediction exploration"
   ]
  },
  {
   "cell_type": "code",
   "execution_count": 17,
   "metadata": {},
   "outputs": [
    {
     "data": {
      "text/plain": [
       "InsiderClassifier(\n",
       "  (lstm_encoder): LSTM_Encoder(\n",
       "    (lstm_encoder): LSTM(64, 40, num_layers=3, batch_first=True, dropout=0.5)\n",
       "    (dropout): Dropout(p=0.5)\n",
       "    (decoder): Linear(in_features=40, out_features=64, bias=True)\n",
       "    (log_softmax): LogSoftmax()\n",
       "  )\n",
       "  (sigmoid): Sigmoid()\n",
       "  (cnn_classifier): CNN_Classifier(\n",
       "    (conv1): Conv2d(1, 32, kernel_size=(5, 5), stride=(1, 1), padding=(2, 2))\n",
       "    (maxpool1): MaxPool2d(kernel_size=2, stride=2, padding=0, dilation=1, ceil_mode=False)\n",
       "    (conv2): Conv2d(32, 64, kernel_size=(5, 5), stride=(1, 1), padding=(2, 2))\n",
       "    (maxpool2): MaxPool2d(kernel_size=2, stride=2, padding=0, dilation=1, ceil_mode=False)\n",
       "    (linear): Linear(in_features=32000, out_features=2, bias=True)\n",
       "    (softmax): LogSoftmax()\n",
       "  )\n",
       ")"
      ]
     },
     "execution_count": 17,
     "metadata": {},
     "output_type": "execute_result"
    }
   ],
   "source": [
    "model.eval()"
   ]
  },
  {
   "cell_type": "code",
   "execution_count": 18,
   "metadata": {},
   "outputs": [],
   "source": [
    "it = iter(val_loader)\n",
    "for batch in it:\n",
    "    x, y = prepare_batch(batch)\n",
    "    if y.sum() > 0:\n",
    "        break"
   ]
  },
  {
   "cell_type": "code",
   "execution_count": 19,
   "metadata": {},
   "outputs": [
    {
     "data": {
      "text/plain": [
       "tensor([61])"
      ]
     },
     "execution_count": 19,
     "metadata": {},
     "output_type": "execute_result"
    }
   ],
   "source": [
    "ind = (y==1).nonzero()[0]\n",
    "ind"
   ]
  },
  {
   "cell_type": "code",
   "execution_count": 26,
   "metadata": {},
   "outputs": [
    {
     "name": "stderr",
     "output_type": "stream",
     "text": [
      "C:\\Anaconda3\\envs\\python3.6-torch\\lib\\site-packages\\ipykernel_launcher.py:3: UserWarning: Implicit dimension choice for softmax has been deprecated. Change the call to include dim=X as an argument.\n",
      "  This is separate from the ipykernel package so we can avoid doing imports until\n"
     ]
    },
    {
     "data": {
      "text/plain": [
       "tensor([[0.9976, 0.0024]], device='cuda:0')"
      ]
     },
     "execution_count": 26,
     "metadata": {},
     "output_type": "execute_result"
    }
   ],
   "source": [
    "with torch.no_grad():\n",
    "    res = model(x.to(device))[ind]\n",
    "F.softmax(res)"
   ]
  },
  {
   "cell_type": "code",
   "execution_count": null,
   "metadata": {},
   "outputs": [],
   "source": []
  }
 ],
 "metadata": {
  "kernelspec": {
   "display_name": "Torch3.6",
   "language": "python",
   "name": "torch3.6"
  },
  "language_info": {
   "codemirror_mode": {
    "name": "ipython",
    "version": 3
   },
   "file_extension": ".py",
   "mimetype": "text/x-python",
   "name": "python",
   "nbconvert_exporter": "python",
   "pygments_lexer": "ipython3",
   "version": "3.6.7"
  }
 },
 "nbformat": 4,
 "nbformat_minor": 4
}
