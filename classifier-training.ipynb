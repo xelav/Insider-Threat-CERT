{
 "cells": [
  {
   "cell_type": "code",
   "execution_count": 1,
   "metadata": {},
   "outputs": [],
   "source": [
    "import torch\n",
    "import torch.nn as nn\n",
    "import torch.nn.functional as F\n",
    "from torch import optim\n",
    "\n",
    "from pathlib import Path\n",
    "import pandas as pd\n",
    "import pickle\n",
    "import numpy as np\n",
    "import shutil\n",
    "# from tqdm import tqdm_notebook as tqdm\n",
    "\n",
    "import torch.utils.data\n",
    "from ignite.engine import Events, create_supervised_trainer, create_supervised_evaluator, Engine\n",
    "from ignite.metrics import Accuracy, Loss\n",
    "\n",
    "from src.models import InsiderClassifier, LSTM_Encoder\n",
    "from src.params import get_params\n",
    "from src.dataset import CertDataset, create_data_loaders\n",
    "from src.cnn_trainer import *\n",
    "\n",
    "%load_ext autoreload\n",
    "%autoreload 2"
   ]
  },
  {
   "cell_type": "code",
   "execution_count": 2,
   "metadata": {},
   "outputs": [],
   "source": [
    "# output_dir = Path(r'C:\\Users\\Mvideo\\Google Drive\\Datasets\\CERT_output')\n",
    "# answers_dir = Path(r\"C:/Users/Mvideo/Downloads/answers\")\n",
    "\n",
    "output_dir = Path(r'C:\\Users\\admin\\Google Drive\\Datasets\\CERT_output')\n",
    "answers_dir = Path(r\"C:\\Users\\admin\\Google Drive\\Datasets\\CERT\\answers\")\n",
    "main_answers_file = answers_dir / \"insiders.csv\"\n",
    "\n",
    "lstm_checkpoint = output_dir / 'checkpoints/lstm/final2-nll/final_model_3040.pth'\n",
    "assert(lstm_checkpoint.is_file())\n",
    "\n",
    "run_name = 'cnn/test3'\n",
    "log_dir = output_dir / 'logs' / run_name\n",
    "checkpoint_dir = output_dir / 'checkpoints' / run_name\n",
    "\n",
    "# assert(not log_dir.is_dir())\n",
    "# assert(not checkpoint_dir.is_dir())\n",
    "\n",
    "if log_dir.is_dir():\n",
    "    shutil.rmtree(log_dir)\n",
    "if checkpoint_dir.is_dir():\n",
    "    shutil.rmtree(checkpoint_dir)"
   ]
  },
  {
   "cell_type": "code",
   "execution_count": 3,
   "metadata": {},
   "outputs": [],
   "source": [
    "actions, targets = CertDataset.prepare_dataset(output_dir / 'aggregated.pkl', main_answers_file, min_length=50, max_length=200)"
   ]
  },
  {
   "cell_type": "code",
   "execution_count": 4,
   "metadata": {},
   "outputs": [],
   "source": [
    "cert_dataset = CertDataset(actions, targets)\n",
    "train_loader, val_loader = create_data_loaders(cert_dataset, validation_split=0.3, random_seed=0, batch_size=128)\n",
    "\n",
    "params = get_params()\n",
    "\n",
    "device = 'cuda'"
   ]
  },
  {
   "cell_type": "code",
   "execution_count": 5,
   "metadata": {},
   "outputs": [
    {
     "name": "stderr",
     "output_type": "stream",
     "text": [
      "C:\\Anaconda3\\envs\\python3.6-torch\\lib\\site-packages\\ignite\\contrib\\handlers\\tqdm_logger.py:106: TqdmExperimentalWarning: Using `tqdm.autonotebook.tqdm` in notebook mode. Use `tqdm.tqdm` instead to force console mode (e.g. in jupyter console)\n",
      "  from tqdm.autonotebook import tqdm\n"
     ]
    }
   ],
   "source": [
    "model = InsiderClassifier(params['model'], lstm_checkpoint)\n",
    "criterion = nn.BCELoss()\n",
    "optimizer = optim.Adam(model.parameters())\n",
    "\n",
    "train_engine = create_supervised_trainer(\n",
    "                                        model, optimizer, criterion, device=device,\n",
    "                                        prepare_batch=prepare_batch,\n",
    "                                        log_dir=(output_dir / 'logs' / 'cnn' / run_name).as_posix(),\n",
    "                                        checkpoint_dir=output_dir / 'checkpoints' / 'cnn' / run_name\n",
    "                                       )\n",
    "\n",
    "val_engine = create_supervised_evaluator(\n",
    "        model, device=device,\n",
    "        prepare_batch=prepare_batch,\n",
    "        metrics={},\n",
    "        criterion=criterion,\n",
    "        log_dir=log_dir.as_posix(),\n",
    ")\n",
    "\n",
    "@train_engine.on(Events.STARTED)\n",
    "def log_training_results(trainer):\n",
    "    print('Initial validation run:')\n",
    "    val_engine.train_epoch = 0\n",
    "    val_engine.run(val_loader)\n",
    "\n",
    "@train_engine.on(Events.EPOCH_COMPLETED)\n",
    "def log_training_results(trainer):\n",
    "    print('Validation run:')\n",
    "    val_engine.train_epoch = train_engine.state.epoch\n",
    "    val_engine.run(val_loader)\n"
   ]
  },
  {
   "cell_type": "code",
   "execution_count": 6,
   "metadata": {},
   "outputs": [
    {
     "name": "stdout",
     "output_type": "stream",
     "text": [
      "Initial validation run:\n"
     ]
    },
    {
     "data": {
      "application/vnd.jupyter.widget-view+json": {
       "model_id": "2c9d4bbc152b47e99cb24fc1d41b1c83",
       "version_major": 2,
       "version_minor": 0
      },
      "text/plain": [
       "HBox(children=(FloatProgress(value=0.0, max=260.0), HTML(value='')))"
      ]
     },
     "metadata": {},
     "output_type": "display_data"
    },
    {
     "name": "stdout",
     "output_type": "stream",
     "text": [
      "\n",
      "Validation Results - Avg loss: 0.775352, Accuracy: 0.003666\n"
     ]
    },
    {
     "data": {
      "application/vnd.jupyter.widget-view+json": {
       "model_id": "e76829aa828542bea66dac00bd45dc98",
       "version_major": 2,
       "version_minor": 0
      },
      "text/plain": [
       "HBox(children=(FloatProgress(value=0.0, max=607.0), HTML(value='')))"
      ]
     },
     "metadata": {},
     "output_type": "display_data"
    },
    {
     "name": "stdout",
     "output_type": "stream",
     "text": [
      "\n",
      "Validation run:\n"
     ]
    },
    {
     "data": {
      "application/vnd.jupyter.widget-view+json": {
       "model_id": "d72608bb99774287b2229c9ec89f6b7c",
       "version_major": 2,
       "version_minor": 0
      },
      "text/plain": [
       "HBox(children=(FloatProgress(value=0.0, max=260.0), HTML(value='')))"
      ]
     },
     "metadata": {},
     "output_type": "display_data"
    },
    {
     "name": "stdout",
     "output_type": "stream",
     "text": [
      "\n",
      "Validation Results - Avg loss: 0.101304, Accuracy: 0.996334\n"
     ]
    },
    {
     "data": {
      "application/vnd.jupyter.widget-view+json": {
       "model_id": "de89d067b3754425aa9ac455ab772db3",
       "version_major": 2,
       "version_minor": 0
      },
      "text/plain": [
       "HBox(children=(FloatProgress(value=0.0, max=607.0), HTML(value='')))"
      ]
     },
     "metadata": {},
     "output_type": "display_data"
    },
    {
     "name": "stdout",
     "output_type": "stream",
     "text": [
      "\n",
      "Validation run:\n"
     ]
    },
    {
     "data": {
      "application/vnd.jupyter.widget-view+json": {
       "model_id": "7882a20b35394b169a33905fbae8d2d3",
       "version_major": 2,
       "version_minor": 0
      },
      "text/plain": [
       "HBox(children=(FloatProgress(value=0.0, max=260.0), HTML(value='')))"
      ]
     },
     "metadata": {},
     "output_type": "display_data"
    },
    {
     "name": "stdout",
     "output_type": "stream",
     "text": [
      "\n",
      "Validation Results - Avg loss: 0.101304, Accuracy: 0.996334\n"
     ]
    },
    {
     "data": {
      "application/vnd.jupyter.widget-view+json": {
       "model_id": "0dc7c345e01a48b293081863a6d6fca9",
       "version_major": 2,
       "version_minor": 0
      },
      "text/plain": [
       "HBox(children=(FloatProgress(value=0.0, max=607.0), HTML(value='')))"
      ]
     },
     "metadata": {},
     "output_type": "display_data"
    },
    {
     "name": "stdout",
     "output_type": "stream",
     "text": [
      "\n",
      "Validation run:\n"
     ]
    },
    {
     "data": {
      "application/vnd.jupyter.widget-view+json": {
       "model_id": "4aa685ea06d3472cacfed670e34c98b8",
       "version_major": 2,
       "version_minor": 0
      },
      "text/plain": [
       "HBox(children=(FloatProgress(value=0.0, max=260.0), HTML(value='')))"
      ]
     },
     "metadata": {},
     "output_type": "display_data"
    },
    {
     "name": "stdout",
     "output_type": "stream",
     "text": [
      "\n",
      "Validation Results - Avg loss: 0.101304, Accuracy: 0.996334\n"
     ]
    },
    {
     "data": {
      "application/vnd.jupyter.widget-view+json": {
       "model_id": "641cd988205d4dd5b2f4c660067cd047",
       "version_major": 2,
       "version_minor": 0
      },
      "text/plain": [
       "HBox(children=(FloatProgress(value=0.0, max=607.0), HTML(value='')))"
      ]
     },
     "metadata": {},
     "output_type": "display_data"
    },
    {
     "name": "stdout",
     "output_type": "stream",
     "text": [
      "\n",
      "Validation run:\n"
     ]
    },
    {
     "data": {
      "application/vnd.jupyter.widget-view+json": {
       "model_id": "88efb777d25147f084d3248249ac436c",
       "version_major": 2,
       "version_minor": 0
      },
      "text/plain": [
       "HBox(children=(FloatProgress(value=0.0, max=260.0), HTML(value='')))"
      ]
     },
     "metadata": {},
     "output_type": "display_data"
    },
    {
     "name": "stdout",
     "output_type": "stream",
     "text": [
      "\n",
      "Validation Results - Avg loss: 0.101304, Accuracy: 0.996334\n"
     ]
    },
    {
     "data": {
      "application/vnd.jupyter.widget-view+json": {
       "model_id": "3275a2dfb8bc4e0b81c730bd968ce11b",
       "version_major": 2,
       "version_minor": 0
      },
      "text/plain": [
       "HBox(children=(FloatProgress(value=0.0, max=607.0), HTML(value='')))"
      ]
     },
     "metadata": {},
     "output_type": "display_data"
    },
    {
     "name": "stdout",
     "output_type": "stream",
     "text": [
      "\n",
      "Validation run:\n"
     ]
    },
    {
     "data": {
      "application/vnd.jupyter.widget-view+json": {
       "model_id": "415a9c650ddd4c1e943d651f8c39b7a9",
       "version_major": 2,
       "version_minor": 0
      },
      "text/plain": [
       "HBox(children=(FloatProgress(value=0.0, max=260.0), HTML(value='')))"
      ]
     },
     "metadata": {},
     "output_type": "display_data"
    },
    {
     "name": "stdout",
     "output_type": "stream",
     "text": [
      "\n",
      "Validation Results - Avg loss: 0.101304, Accuracy: 0.996334\n"
     ]
    },
    {
     "data": {
      "text/plain": [
       "State:\n",
       "\titeration: 3035\n",
       "\tepoch: 5\n",
       "\tepoch_length: 607\n",
       "\tmax_epochs: 5\n",
       "\toutput: <class 'dict'>\n",
       "\tbatch: <class 'dict'>\n",
       "\tmetrics: <class 'dict'>\n",
       "\tdataloader: <class 'torch.utils.data.dataloader.DataLoader'>\n",
       "\tseed: 12"
      ]
     },
     "execution_count": 6,
     "metadata": {},
     "output_type": "execute_result"
    }
   ],
   "source": [
    "train_engine.run(train_loader, max_epochs=5)"
   ]
  },
  {
   "cell_type": "markdown",
   "metadata": {},
   "source": [
    "# Prediction exploration"
   ]
  },
  {
   "cell_type": "code",
   "execution_count": 14,
   "metadata": {},
   "outputs": [],
   "source": [
    "it = iter(val_loader)\n",
    "for batch in it:\n",
    "    x, y = prepare_batch(batch)\n",
    "    if y.sum() > 0:\n",
    "        break"
   ]
  },
  {
   "cell_type": "code",
   "execution_count": 32,
   "metadata": {},
   "outputs": [],
   "source": [
    "ind = (y==1).nonzero()[0]"
   ]
  },
  {
   "cell_type": "code",
   "execution_count": 33,
   "metadata": {},
   "outputs": [
    {
     "data": {
      "text/plain": [
       "tensor([[0., 1.]], device='cuda:0', grad_fn=<IndexBackward>)"
      ]
     },
     "execution_count": 33,
     "metadata": {},
     "output_type": "execute_result"
    }
   ],
   "source": [
    "model(x.to(device))[ind]"
   ]
  }
 ],
 "metadata": {
  "kernelspec": {
   "display_name": "Torch3.6",
   "language": "python",
   "name": "torch3.6"
  },
  "language_info": {
   "codemirror_mode": {
    "name": "ipython",
    "version": 3
   },
   "file_extension": ".py",
   "mimetype": "text/x-python",
   "name": "python",
   "nbconvert_exporter": "python",
   "pygments_lexer": "ipython3",
   "version": "3.6.7"
  }
 },
 "nbformat": 4,
 "nbformat_minor": 4
}
