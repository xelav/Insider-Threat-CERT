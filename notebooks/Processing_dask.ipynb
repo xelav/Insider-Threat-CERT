{
 "cells": [
  {
   "cell_type": "code",
   "execution_count": 1,
   "metadata": {},
   "outputs": [
    {
     "name": "stderr",
     "output_type": "stream",
     "text": [
      "C:\\ProgramData\\Anaconda3\\lib\\site-packages\\tqdm\\std.py:699: FutureWarning: The Panel class is removed from pandas. Accessing it from the top-level namespace will also be removed in the next version\n",
      "  from pandas import Panel\n"
     ]
    }
   ],
   "source": [
    "import pandas as pd\n",
    "from pathlib import Path\n",
    "import re\n",
    "from tqdm import tqdm\n",
    "from sklearn.preprocessing import LabelEncoder\n",
    "import numpy as np\n",
    "import seaborn as sns\n",
    "import pickle\n",
    "import gc\n",
    "\n",
    "import dask\n",
    "import dask.dataframe as dd\n",
    "\n",
    "from scipy.sparse import csr_matrix as sparce_matrix\n",
    "\n",
    "from IPython.core.debugger import Pdb\n",
    "ipdb = Pdb()\n",
    "\n",
    "tqdm.pandas()\n",
    "\n",
    "from dask.diagnostics import ProgressBar\n",
    "ProgressBar().register()"
   ]
  },
  {
   "cell_type": "code",
   "execution_count": 2,
   "metadata": {},
   "outputs": [
    {
     "data": {
      "text/plain": [
       "<dask.config.set at 0x225ea2be1c0>"
      ]
     },
     "execution_count": 2,
     "metadata": {},
     "output_type": "execute_result"
    }
   ],
   "source": [
    "dataset_version = '4.2'\n",
    "\n",
    "preprocessed_dir = Path(f'C:/Datasets/CERT_output_v{dataset_version}/')\n",
    "assert(preprocessed_dir.is_dir())\n",
    "\n",
    "tmp_dir = Path('C:/Datasets/tmp')\n",
    "assert(tmp_dir.is_dir())\n",
    "dask.config.set(temporary_directory=tmp_dir.as_posix())"
   ]
  },
  {
   "cell_type": "code",
   "execution_count": 3,
   "metadata": {},
   "outputs": [],
   "source": [
    "# from dask.distributed import Client\n",
    "# client = Client()  # start distributed scheduler locally.  Launch dashboard\n",
    "# client"
   ]
  },
  {
   "cell_type": "markdown",
   "metadata": {},
   "source": [
    "## Initial processing\n",
    "\n",
    "Concatenate the data"
   ]
  },
  {
   "cell_type": "code",
   "execution_count": 7,
   "metadata": {},
   "outputs": [
    {
     "name": "stdout",
     "output_type": "stream",
     "text": [
      "logon\n",
      "http\n",
      "device\n",
      "email\n",
      "file\n"
     ]
    }
   ],
   "source": [
    "logon_df = dd.read_csv(preprocessed_dir/ 'logon_preprocessed.csv',\n",
    "                      usecols = ['date', 'user', 'is_usual_pc', 'is_work_time', 'subtype'])\n",
    "logon_df['type'] = 'logon'\n",
    "print('logon')\n",
    "\n",
    "http_df = dd.read_csv(preprocessed_dir/ 'http_preprocessed.csv',\n",
    "                      usecols = ['date', 'user', 'is_usual_pc', 'is_work_time', 'subtype'])\n",
    "http_df['type'] = 'http'\n",
    "http_df.subtype = http_df.subtype.map(int)\n",
    "print('http')\n",
    "\n",
    "device_df = dd.read_csv(preprocessed_dir/ 'device_preprocessed.csv',\n",
    "                      usecols = ['date', 'user', 'is_usual_pc', 'is_work_time', 'subtype'])\n",
    "device_df['type'] = 'device'\n",
    "print('device')\n",
    "\n",
    "email_df = dd.read_csv(preprocessed_dir/ 'email_preprocessed.csv',\n",
    "                      usecols = ['date', 'user', 'is_usual_pc', 'is_work_time', 'subtype'])\n",
    "email_df['type'] = 'email'\n",
    "email_df.subtype = email_df.subtype.map({True: 'external', False: 'internal'})\n",
    "print('email')\n",
    "\n",
    "file_df = dd.read_csv(preprocessed_dir/ 'file_preprocessed.csv',\n",
    "                      usecols = ['date', 'user', 'is_usual_pc', 'is_work_time', 'subtype'])\n",
    "file_df['type'] = 'file'\n",
    "print('file')"
   ]
  },
  {
   "cell_type": "code",
   "execution_count": 8,
   "metadata": {},
   "outputs": [
    {
     "name": "stdout",
     "output_type": "stream",
     "text": [
      "[########################################] | 100% Completed | 35.6s\n",
      "[########################################] | 100% Completed | 35.7s\n"
     ]
    }
   ],
   "source": [
    "logon_df, http_df, device_df, email_df, file_df = dask.persist(logon_df, http_df, device_df, email_df, file_df)"
   ]
  },
  {
   "cell_type": "code",
   "execution_count": 9,
   "metadata": {},
   "outputs": [],
   "source": [
    "df = dd.concat([logon_df, http_df, device_df, email_df, file_df], axis=0)"
   ]
  },
  {
   "cell_type": "code",
   "execution_count": 10,
   "metadata": {},
   "outputs": [
    {
     "data": {
      "text/plain": [
       "839"
      ]
     },
     "execution_count": 10,
     "metadata": {},
     "output_type": "execute_result"
    }
   ],
   "source": [
    "del logon_df\n",
    "del http_df\n",
    "del file_df\n",
    "del device_df\n",
    "del email_df\n",
    "\n",
    "gc.collect()"
   ]
  },
  {
   "cell_type": "code",
   "execution_count": 11,
   "metadata": {},
   "outputs": [
    {
     "name": "stdout",
     "output_type": "stream",
     "text": [
      "[########################################] | 100% Completed |  7.0s\n",
      "[########################################] | 100% Completed |  7.1s\n"
     ]
    }
   ],
   "source": [
    "df = df.persist()"
   ]
  },
  {
   "cell_type": "markdown",
   "metadata": {},
   "source": [
    "Turn categorical columns into their codes"
   ]
  },
  {
   "cell_type": "code",
   "execution_count": 12,
   "metadata": {},
   "outputs": [
    {
     "name": "stdout",
     "output_type": "stream",
     "text": [
      "[########################################] | 100% Completed |  6.6s\n",
      "[########################################] | 100% Completed |  6.6s\n"
     ]
    }
   ],
   "source": [
    "df = df.categorize(columns=['subtype', 'type', 'is_usual_pc', 'is_work_time', 'user'])"
   ]
  },
  {
   "cell_type": "code",
   "execution_count": 13,
   "metadata": {},
   "outputs": [
    {
     "name": "stdout",
     "output_type": "stream",
     "text": [
      "[########################################] | 100% Completed | 20.1s\n",
      "[########################################] | 100% Completed | 20.2s\n"
     ]
    }
   ],
   "source": [
    "df['type'] = df['type'].cat.codes\n",
    "df['subtype'] = df['subtype'].cat.codes\n",
    "df['is_usual_pc'] = df['is_usual_pc'].cat.codes\n",
    "df['is_work_time'] = df['is_work_time'].cat.codes\n",
    "df = df.persist()"
   ]
  },
  {
   "cell_type": "markdown",
   "metadata": {},
   "source": [
    "Construct single combined categorical column"
   ]
  },
  {
   "cell_type": "code",
   "execution_count": 14,
   "metadata": {},
   "outputs": [
    {
     "name": "stdout",
     "output_type": "stream",
     "text": [
      "[########################################] | 100% Completed |  0.2s\n",
      "[########################################] | 100% Completed |  0.3s\n"
     ]
    }
   ],
   "source": [
    "df['action_id'] = df.is_usual_pc * 32 + df.is_work_time * 16 + df.subtype\n",
    "df = df.persist()"
   ]
  },
  {
   "cell_type": "markdown",
   "metadata": {},
   "source": [
    "Get datetime columns"
   ]
  },
  {
   "cell_type": "code",
   "execution_count": 15,
   "metadata": {},
   "outputs": [
    {
     "name": "stdout",
     "output_type": "stream",
     "text": [
      "[########################################] | 100% Completed | 24.9s\n",
      "[########################################] | 100% Completed | 24.9s\n"
     ]
    }
   ],
   "source": [
    "df['date'] = dd.to_datetime(df.date, format='%Y/%m/%d %H:%M:%S')\n",
    "df['day'] = df.date.dt.floor('D')\n",
    "df = df.persist()"
   ]
  },
  {
   "cell_type": "code",
   "execution_count": 16,
   "metadata": {},
   "outputs": [
    {
     "name": "stdout",
     "output_type": "stream",
     "text": [
      "[########################################] | 100% Completed |  1.6s\n",
      "[########################################] | 100% Completed |  1.7s\n"
     ]
    }
   ],
   "source": [
    "df['day_minutes'] = df['date'].dt.hour * 60 + df['date'].dt.minute\n",
    "df = df.persist()"
   ]
  },
  {
   "cell_type": "code",
   "execution_count": 17,
   "metadata": {},
   "outputs": [
    {
     "name": "stdout",
     "output_type": "stream",
     "text": [
      "[########################################] | 100% Completed |  1.2s\n",
      "[########################################] | 100% Completed |  1.2s\n"
     ]
    }
   ],
   "source": [
    "df = df[['day', 'user', 'action_id', 'day_minutes']]\n",
    "df = df.persist()"
   ]
  },
  {
   "cell_type": "code",
   "execution_count": 18,
   "metadata": {},
   "outputs": [
    {
     "name": "stdout",
     "output_type": "stream",
     "text": [
      "[########################################] | 100% Completed |  0.4s\n",
      "[########################################] | 100% Completed |  0.4s\n"
     ]
    },
    {
     "data": {
      "text/plain": [
       "'595.1946811676025 MB'"
      ]
     },
     "execution_count": 18,
     "metadata": {},
     "output_type": "execute_result"
    }
   ],
   "source": [
    "memory_usage = df.memory_usage().sum().compute() / 1024**2\n",
    "f'{memory_usage} MB'"
   ]
  },
  {
   "cell_type": "code",
   "execution_count": 19,
   "metadata": {},
   "outputs": [
    {
     "name": "stdout",
     "output_type": "stream",
     "text": [
      "[########################################] | 100% Completed |  0.1s\n",
      "[########################################] | 100% Completed |  0.2s\n"
     ]
    },
    {
     "data": {
      "text/plain": [
       "32770222"
      ]
     },
     "execution_count": 19,
     "metadata": {},
     "output_type": "execute_result"
    }
   ],
   "source": [
    "df.shape[0].compute()"
   ]
  },
  {
   "cell_type": "code",
   "execution_count": 20,
   "metadata": {},
   "outputs": [
    {
     "name": "stdout",
     "output_type": "stream",
     "text": [
      "[########################################] | 100% Completed |  2.9s\n",
      "[########################################] | 100% Completed |  2.9s\n"
     ]
    }
   ],
   "source": [
    "df.to_parquet(tmp_dir / 'df.parquet')"
   ]
  },
  {
   "cell_type": "markdown",
   "metadata": {},
   "source": [
    "## Group by"
   ]
  },
  {
   "cell_type": "code",
   "execution_count": 47,
   "metadata": {},
   "outputs": [],
   "source": [
    "df = dd.read_parquet(tmp_dir / 'df.parquet')"
   ]
  },
  {
   "cell_type": "code",
   "execution_count": 48,
   "metadata": {},
   "outputs": [
    {
     "name": "stderr",
     "output_type": "stream",
     "text": [
      "<ipython-input-48-558408999d0b>:1: UserWarning: `meta` is not specified, inferred from partial data. Please provide `meta` if the result is unexpected.\n",
      "  Before: .apply(func)\n",
      "  After:  .apply(func, meta={'x': 'f8', 'y': 'f8'}) for dataframe result\n",
      "  or:     .apply(func, meta=('x', 'f8'))            for series result\n",
      "  action_id_lists = df.groupby('user')\\\n"
     ]
    }
   ],
   "source": [
    "action_id_lists = df.groupby('user')\\\n",
    "    .apply(pd.DataFrame.sort_values, ['day', 'day_minutes'])\\\n",
    "    .reset_index(drop=True)\\\n",
    "    .groupby(['user', 'day'])[['action_id', 'day_minutes']]\\\n",
    "    .apply(\n",
    "        lambda x: [list(x['action_id']), list(x['day_minutes'])],\n",
    "            meta=pd.Series(dtype=object),\n",
    "            )"
   ]
  },
  {
   "cell_type": "code",
   "execution_count": 49,
   "metadata": {
    "tags": []
   },
   "outputs": [
    {
     "name": "stdout",
     "output_type": "stream",
     "text": [
      "[########################################] | 100% Completed |  4min 29.8s\n"
     ]
    },
    {
     "name": "stderr",
     "output_type": "stream",
     "text": [
      "100%|████████████████████████████████████████████████████████████████████████| 330452/330452 [02:05<00:00, 2627.61it/s]\n"
     ]
    }
   ],
   "source": [
    "# This should NOT be ran in distributed fashion\n",
    "action_id_lists = action_id_lists.compute() # takes about 20-30 min\n",
    "# action_id_lists = action_id_lists.dropna().reset_index()\n",
    "# action_id_lists = action_id_lists.rename({0: 'action_id'}, axis=1)\n",
    "\n",
    "action_id_lists = action_id_lists.dropna()\n",
    "action_id_lists = action_id_lists.progress_apply(pd.Series)\n",
    "action_id_lists = action_id_lists.reset_index()\n",
    "action_id_lists.columns = ['user', 'day', 'action_id', 'day_minutes']"
   ]
  },
  {
   "cell_type": "code",
   "execution_count": 50,
   "metadata": {},
   "outputs": [
    {
     "data": {
      "text/html": [
       "<div>\n",
       "<style scoped>\n",
       "    .dataframe tbody tr th:only-of-type {\n",
       "        vertical-align: middle;\n",
       "    }\n",
       "\n",
       "    .dataframe tbody tr th {\n",
       "        vertical-align: top;\n",
       "    }\n",
       "\n",
       "    .dataframe thead th {\n",
       "        text-align: right;\n",
       "    }\n",
       "</style>\n",
       "<table border=\"1\" class=\"dataframe\">\n",
       "  <thead>\n",
       "    <tr style=\"text-align: right;\">\n",
       "      <th></th>\n",
       "      <th>user</th>\n",
       "      <th>day</th>\n",
       "      <th>action_id</th>\n",
       "      <th>day_minutes</th>\n",
       "    </tr>\n",
       "  </thead>\n",
       "  <tbody>\n",
       "    <tr>\n",
       "      <th>0</th>\n",
       "      <td>NGF0157</td>\n",
       "      <td>2010-01-04</td>\n",
       "      <td>[0, 2, 2, 2, 2, 3, 2, 2, 2, 2, 2, 2, 3, 2, 2, ...</td>\n",
       "      <td>[421, 432, 433, 434, 446, 450, 451, 467, 467, ...</td>\n",
       "    </tr>\n",
       "    <tr>\n",
       "      <th>1</th>\n",
       "      <td>NGF0157</td>\n",
       "      <td>2010-02-24</td>\n",
       "      <td>[0, 9, 2, 2, 2, 2, 2, 2, 2, 2, 2, 24, 18, 18, ...</td>\n",
       "      <td>[423, 440, 441, 443, 446, 448, 451, 452, 452, ...</td>\n",
       "    </tr>\n",
       "    <tr>\n",
       "      <th>2</th>\n",
       "      <td>NGF0157</td>\n",
       "      <td>2010-04-01</td>\n",
       "      <td>[0, 2, 2, 2, 3, 2, 2, 2, 2, 2, 2, 2, 2, 9, 2, ...</td>\n",
       "      <td>[416, 417, 419, 426, 431, 434, 437, 440, 440, ...</td>\n",
       "    </tr>\n",
       "    <tr>\n",
       "      <th>3</th>\n",
       "      <td>NGF0157</td>\n",
       "      <td>2010-06-10</td>\n",
       "      <td>[0, 9, 2, 2, 2, 2, 9, 9, 2, 9, 8, 8, 2, 9, 2, ...</td>\n",
       "      <td>[410, 411, 412, 412, 412, 412, 412, 412, 413, ...</td>\n",
       "    </tr>\n",
       "    <tr>\n",
       "      <th>4</th>\n",
       "      <td>NGF0157</td>\n",
       "      <td>2010-06-25</td>\n",
       "      <td>[1, 0, 2, 2, 2, 2, 2, 2, 2, 18, 18, 18, 18, 18...</td>\n",
       "      <td>[51, 417, 420, 422, 431, 436, 441, 476, 479, 4...</td>\n",
       "    </tr>\n",
       "    <tr>\n",
       "      <th>...</th>\n",
       "      <td>...</td>\n",
       "      <td>...</td>\n",
       "      <td>...</td>\n",
       "      <td>...</td>\n",
       "    </tr>\n",
       "    <tr>\n",
       "      <th>330447</th>\n",
       "      <td>RHY0079</td>\n",
       "      <td>2010-07-19</td>\n",
       "      <td>[16, 18, 18, 25, 25, 18, 24, 18, 18, 24, 18, 1...</td>\n",
       "      <td>[564, 565, 565, 565, 567, 569, 569, 570, 571, ...</td>\n",
       "    </tr>\n",
       "    <tr>\n",
       "      <th>330448</th>\n",
       "      <td>RHY0079</td>\n",
       "      <td>2010-09-22</td>\n",
       "      <td>[16, 18, 18, 18, 18, 18, 18, 18, 18, 18, 18, 1...</td>\n",
       "      <td>[546, 547, 549, 549, 551, 557, 561, 564, 568, ...</td>\n",
       "    </tr>\n",
       "    <tr>\n",
       "      <th>330449</th>\n",
       "      <td>RHY0079</td>\n",
       "      <td>2010-12-14</td>\n",
       "      <td>[16, 18, 24, 18, 18, 18, 18, 18, 24, 24, 18, 1...</td>\n",
       "      <td>[540, 545, 548, 552, 552, 565, 566, 567, 573, ...</td>\n",
       "    </tr>\n",
       "    <tr>\n",
       "      <th>330450</th>\n",
       "      <td>RHY0079</td>\n",
       "      <td>2011-01-21</td>\n",
       "      <td>[16, 18, 18, 18, 18, 18, 18, 18, 18, 18, 18, 1...</td>\n",
       "      <td>[557, 559, 560, 561, 561, 561, 561, 561, 561, ...</td>\n",
       "    </tr>\n",
       "    <tr>\n",
       "      <th>330451</th>\n",
       "      <td>RHY0079</td>\n",
       "      <td>2011-01-27</td>\n",
       "      <td>[16, 18, 18, 24, 18, 18, 18, 18, 18, 18, 18, 1...</td>\n",
       "      <td>[560, 565, 567, 567, 568, 570, 571, 572, 572, ...</td>\n",
       "    </tr>\n",
       "  </tbody>\n",
       "</table>\n",
       "<p>330452 rows × 4 columns</p>\n",
       "</div>"
      ],
      "text/plain": [
       "           user        day                                          action_id  \\\n",
       "0       NGF0157 2010-01-04  [0, 2, 2, 2, 2, 3, 2, 2, 2, 2, 2, 2, 3, 2, 2, ...   \n",
       "1       NGF0157 2010-02-24  [0, 9, 2, 2, 2, 2, 2, 2, 2, 2, 2, 24, 18, 18, ...   \n",
       "2       NGF0157 2010-04-01  [0, 2, 2, 2, 3, 2, 2, 2, 2, 2, 2, 2, 2, 9, 2, ...   \n",
       "3       NGF0157 2010-06-10  [0, 9, 2, 2, 2, 2, 9, 9, 2, 9, 8, 8, 2, 9, 2, ...   \n",
       "4       NGF0157 2010-06-25  [1, 0, 2, 2, 2, 2, 2, 2, 2, 18, 18, 18, 18, 18...   \n",
       "...         ...        ...                                                ...   \n",
       "330447  RHY0079 2010-07-19  [16, 18, 18, 25, 25, 18, 24, 18, 18, 24, 18, 1...   \n",
       "330448  RHY0079 2010-09-22  [16, 18, 18, 18, 18, 18, 18, 18, 18, 18, 18, 1...   \n",
       "330449  RHY0079 2010-12-14  [16, 18, 24, 18, 18, 18, 18, 18, 24, 24, 18, 1...   \n",
       "330450  RHY0079 2011-01-21  [16, 18, 18, 18, 18, 18, 18, 18, 18, 18, 18, 1...   \n",
       "330451  RHY0079 2011-01-27  [16, 18, 18, 24, 18, 18, 18, 18, 18, 18, 18, 1...   \n",
       "\n",
       "                                              day_minutes  \n",
       "0       [421, 432, 433, 434, 446, 450, 451, 467, 467, ...  \n",
       "1       [423, 440, 441, 443, 446, 448, 451, 452, 452, ...  \n",
       "2       [416, 417, 419, 426, 431, 434, 437, 440, 440, ...  \n",
       "3       [410, 411, 412, 412, 412, 412, 412, 412, 413, ...  \n",
       "4       [51, 417, 420, 422, 431, 436, 441, 476, 479, 4...  \n",
       "...                                                   ...  \n",
       "330447  [564, 565, 565, 565, 567, 569, 569, 570, 571, ...  \n",
       "330448  [546, 547, 549, 549, 551, 557, 561, 564, 568, ...  \n",
       "330449  [540, 545, 548, 552, 552, 565, 566, 567, 573, ...  \n",
       "330450  [557, 559, 560, 561, 561, 561, 561, 561, 561, ...  \n",
       "330451  [560, 565, 567, 567, 568, 570, 571, 572, 572, ...  \n",
       "\n",
       "[330452 rows x 4 columns]"
      ]
     },
     "execution_count": 50,
     "metadata": {},
     "output_type": "execute_result"
    }
   ],
   "source": [
    "action_id_lists"
   ]
  },
  {
   "cell_type": "code",
   "execution_count": 51,
   "metadata": {},
   "outputs": [],
   "source": [
    "action_id_lists.to_parquet(tmp_dir / 'df_aggregated.parquet')"
   ]
  },
  {
   "cell_type": "code",
   "execution_count": 52,
   "metadata": {},
   "outputs": [],
   "source": [
    "df = action_id_lists"
   ]
  },
  {
   "cell_type": "code",
   "execution_count": 53,
   "metadata": {},
   "outputs": [],
   "source": [
    "assert (df['action_id'].apply(len) == df['day_minutes'].apply(len)).all()"
   ]
  },
  {
   "cell_type": "code",
   "execution_count": 60,
   "metadata": {},
   "outputs": [
    {
     "name": "stderr",
     "output_type": "stream",
     "text": [
      "100%|███████████████████████████████████████████████████████████████████████| 330452/330452 [00:05<00:00, 59734.51it/s]\n"
     ]
    }
   ],
   "source": [
    "# check if day_minutes lists sorted in ascended order\n",
    "for ls in tqdm(df.day_minutes):\n",
    "    assert all(ls[i] <= ls[i+1] for i in range(len(ls)-1))"
   ]
  },
  {
   "cell_type": "markdown",
   "metadata": {},
   "source": [
    "## Answers"
   ]
  },
  {
   "cell_type": "code",
   "execution_count": 61,
   "metadata": {},
   "outputs": [],
   "source": [
    "answers_dir = Path(r\"C:\\Datasets\\CERT\\answers\")\n",
    "assert answers_dir.is_dir()\n",
    "\n",
    "insider_files = list(answers_dir.glob(f'**/r{dataset_version}*.csv'))\n",
    "\n",
    "answers_df_ls = []\n",
    "\n",
    "for filename in insider_files:\n",
    "    answers_df = pd.read_csv(filename, names=list(range(13)))\n",
    "    answers_df_ls.append(answers_df)\n",
    "    \n",
    "answers_df = pd.concat(answers_df_ls, axis=0, ignore_index=True)"
   ]
  },
  {
   "cell_type": "code",
   "execution_count": 62,
   "metadata": {},
   "outputs": [],
   "source": [
    "answers_csv = Path(\"C:/Datasets/CERT/answers/insiders.csv\")\n",
    "assert(answers_csv.is_file())\n",
    "\n",
    "main_df = pd.read_csv(answers_csv)\n",
    "main_df = main_df[main_df['dataset'].astype(str) == str(dataset_version)] \\\n",
    "    .drop(['dataset', 'details'], axis=1)\n",
    "\n",
    "main_df['start'] = pd.to_datetime(main_df['start'], format='%m/%d/%Y %H:%M:%S')\n",
    "main_df['end'] = pd.to_datetime(main_df['end'], format='%m/%d/%Y %H:%M:%S')"
   ]
  },
  {
   "cell_type": "code",
   "execution_count": 63,
   "metadata": {},
   "outputs": [],
   "source": [
    "meta_df = pd.DataFrame(columns=['user', 'day'])\n",
    "meta_df['user'] = meta_df['user'].astype('category')\n",
    "meta_df['day'] = meta_df['day'].astype('datetime64[ns]')"
   ]
  },
  {
   "cell_type": "code",
   "execution_count": 64,
   "metadata": {},
   "outputs": [],
   "source": [
    "main_df['user'] = main_df['user'].astype('category')\n",
    "df = dd.merge(df, main_df, on='user', how='left')\n",
    "\n",
    "df['malicious'] = (df.day >= df.start) & (df.day <= df.end)\n",
    "df = df.drop(['start', 'end', 'scenario'], axis=1)\n",
    "\n",
    "# df.to_parquet(tmp_dir / 'final_df.parquet')"
   ]
  },
  {
   "cell_type": "code",
   "execution_count": 66,
   "metadata": {},
   "outputs": [],
   "source": [
    "df.to_parquet(preprocessed_dir / f'final_{dataset_version}.parquet')"
   ]
  },
  {
   "cell_type": "code",
   "execution_count": 67,
   "metadata": {},
   "outputs": [
    {
     "data": {
      "text/plain": [
       "0.003915848595257405"
      ]
     },
     "execution_count": 67,
     "metadata": {},
     "output_type": "execute_result"
    }
   ],
   "source": [
    "df.malicious.mean()"
   ]
  },
  {
   "cell_type": "code",
   "execution_count": 68,
   "metadata": {},
   "outputs": [
    {
     "data": {
      "text/plain": [
       "330452"
      ]
     },
     "execution_count": 68,
     "metadata": {},
     "output_type": "execute_result"
    }
   ],
   "source": [
    "df.shape[0]"
   ]
  }
 ],
 "metadata": {
  "kernelspec": {
   "display_name": "Python 3",
   "language": "python",
   "name": "python3"
  },
  "language_info": {
   "codemirror_mode": {
    "name": "ipython",
    "version": 3
   },
   "file_extension": ".py",
   "mimetype": "text/x-python",
   "name": "python",
   "nbconvert_exporter": "python",
   "pygments_lexer": "ipython3",
   "version": "3.8.3"
  }
 },
 "nbformat": 4,
 "nbformat_minor": 4
}
