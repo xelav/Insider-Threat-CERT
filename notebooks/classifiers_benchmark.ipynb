{
  "nbformat": 4,
  "nbformat_minor": 0,
  "metadata": {
    "kernelspec": {
      "display_name": "Torch3.6",
      "language": "python",
      "name": "torch3.6"
    },
    "language_info": {
      "codemirror_mode": {
        "name": "ipython",
        "version": 3
      },
      "file_extension": ".py",
      "mimetype": "text/x-python",
      "name": "python",
      "nbconvert_exporter": "python",
      "pygments_lexer": "ipython3",
      "version": "3.6.7"
    },
    "colab": {
      "name": "Copy of classifiers-benchmark.ipynb",
      "provenance": [],
      "collapsed_sections": [
        "Tz_PVjvW1zOl",
        "mUktSKF1FVIp",
        "_wv4qEBFFOgR"
      ],
      "machine_shape": "hm"
    },
    "accelerator": "GPU"
  },
  "cells": [
    {
      "cell_type": "code",
      "metadata": {
        "id": "xwRWFVh716SZ",
        "colab_type": "code",
        "outputId": "8a318045-73b6-4a8e-ae21-8dc363370551",
        "colab": {
          "base_uri": "https://localhost:8080/",
          "height": 139
        }
      },
      "source": [
        "from google.colab import drive\n",
        "drive.mount('/content/drive')\n",
        "\n",
        "root_dir = '/content/drive/My Drive/'\n",
        "\n",
        "%cd \"{root_dir}\""
      ],
      "execution_count": 1,
      "outputs": [
        {
          "output_type": "stream",
          "text": [
            "Go to this URL in a browser: https://accounts.google.com/o/oauth2/auth?client_id=947318989803-6bn6qk8qdgf4n4g3pfee6491hc0brc4i.apps.googleusercontent.com&redirect_uri=urn%3aietf%3awg%3aoauth%3a2.0%3aoob&response_type=code&scope=email%20https%3a%2f%2fwww.googleapis.com%2fauth%2fdocs.test%20https%3a%2f%2fwww.googleapis.com%2fauth%2fdrive%20https%3a%2f%2fwww.googleapis.com%2fauth%2fdrive.photos.readonly%20https%3a%2f%2fwww.googleapis.com%2fauth%2fpeopleapi.readonly\n",
            "\n",
            "Enter your authorization code:\n",
            "··········\n",
            "Mounted at /content/drive\n",
            "/content/drive/My Drive\n"
          ],
          "name": "stdout"
        }
      ]
    },
    {
      "cell_type": "code",
      "metadata": {
        "id": "dXmOdz9G3iLa",
        "colab_type": "code",
        "outputId": "979a6e85-0865-42f3-d266-85c3520ee16a",
        "colab": {
          "base_uri": "https://localhost:8080/",
          "height": 136
        }
      },
      "source": [
        "!git clone https://github.com/xelav/Insider-Threat-CERT /root/repo\n",
        "\n",
        "import sys\n",
        "sys.path.append(\"/root/repo\")"
      ],
      "execution_count": 2,
      "outputs": [
        {
          "output_type": "stream",
          "text": [
            "Cloning into '/root/repo'...\n",
            "remote: Enumerating objects: 102, done.\u001b[K\n",
            "remote: Counting objects:   0% (1/102)\u001b[K\rremote: Counting objects:   1% (2/102)\u001b[K\rremote: Counting objects:   2% (3/102)\u001b[K\rremote: Counting objects:   3% (4/102)\u001b[K\rremote: Counting objects:   4% (5/102)\u001b[K\rremote: Counting objects:   5% (6/102)\u001b[K\rremote: Counting objects:   6% (7/102)\u001b[K\rremote: Counting objects:   7% (8/102)\u001b[K\rremote: Counting objects:   8% (9/102)\u001b[K\rremote: Counting objects:   9% (10/102)\u001b[K\rremote: Counting objects:  10% (11/102)\u001b[K\rremote: Counting objects:  11% (12/102)\u001b[K\rremote: Counting objects:  12% (13/102)\u001b[K\rremote: Counting objects:  13% (14/102)\u001b[K\rremote: Counting objects:  14% (15/102)\u001b[K\rremote: Counting objects:  15% (16/102)\u001b[K\rremote: Counting objects:  16% (17/102)\u001b[K\rremote: Counting objects:  17% (18/102)\u001b[K\rremote: Counting objects:  18% (19/102)\u001b[K\rremote: Counting objects:  19% (20/102)\u001b[K\rremote: Counting objects:  20% (21/102)\u001b[K\rremote: Counting objects:  21% (22/102)\u001b[K\rremote: Counting objects:  22% (23/102)\u001b[K\rremote: Counting objects:  23% (24/102)\u001b[K\rremote: Counting objects:  24% (25/102)\u001b[K\rremote: Counting objects:  25% (26/102)\u001b[K\rremote: Counting objects:  26% (27/102)\u001b[K\rremote: Counting objects:  27% (28/102)\u001b[K\rremote: Counting objects:  28% (29/102)\u001b[K\rremote: Counting objects:  29% (30/102)\u001b[K\rremote: Counting objects:  30% (31/102)\u001b[K\rremote: Counting objects:  31% (32/102)\u001b[K\rremote: Counting objects:  32% (33/102)\u001b[K\rremote: Counting objects:  33% (34/102)\u001b[K\rremote: Counting objects:  34% (35/102)\u001b[K\rremote: Counting objects:  35% (36/102)\u001b[K\rremote: Counting objects:  36% (37/102)\u001b[K\rremote: Counting objects:  37% (38/102)\u001b[K\rremote: Counting objects:  38% (39/102)\u001b[K\rremote: Counting objects:  39% (40/102)\u001b[K\rremote: Counting objects:  40% (41/102)\u001b[K\rremote: Counting objects:  41% (42/102)\u001b[K\rremote: Counting objects:  42% (43/102)\u001b[K\rremote: Counting objects:  43% (44/102)\u001b[K\rremote: Counting objects:  44% (45/102)\u001b[K\rremote: Counting objects:  45% (46/102)\u001b[K\rremote: Counting objects:  46% (47/102)\u001b[K\rremote: Counting objects:  47% (48/102)\u001b[K\rremote: Counting objects:  48% (49/102)\u001b[K\rremote: Counting objects:  49% (50/102)\u001b[K\rremote: Counting objects:  50% (51/102)\u001b[K\rremote: Counting objects:  51% (53/102)\u001b[K\rremote: Counting objects:  52% (54/102)\u001b[K\rremote: Counting objects:  53% (55/102)\u001b[K\rremote: Counting objects:  54% (56/102)\u001b[K\rremote: Counting objects:  55% (57/102)\u001b[K\rremote: Counting objects:  56% (58/102)\u001b[K\rremote: Counting objects:  57% (59/102)\u001b[K\rremote: Counting objects:  58% (60/102)\u001b[K\rremote: Counting objects:  59% (61/102)\u001b[K\rremote: Counting objects:  60% (62/102)\u001b[K\rremote: Counting objects:  61% (63/102)\u001b[K\rremote: Counting objects:  62% (64/102)\u001b[K\rremote: Counting objects:  63% (65/102)\u001b[K\rremote: Counting objects:  64% (66/102)\u001b[K\rremote: Counting objects:  65% (67/102)\u001b[K\rremote: Counting objects:  66% (68/102)\u001b[K\rremote: Counting objects:  67% (69/102)\u001b[K\rremote: Counting objects:  68% (70/102)\u001b[K\rremote: Counting objects:  69% (71/102)\u001b[K\rremote: Counting objects:  70% (72/102)\u001b[K\rremote: Counting objects:  71% (73/102)\u001b[K\rremote: Counting objects:  72% (74/102)\u001b[K\rremote: Counting objects:  73% (75/102)\u001b[K\rremote: Counting objects:  74% (76/102)\u001b[K\rremote: Counting objects:  75% (77/102)\u001b[K\rremote: Counting objects:  76% (78/102)\u001b[K\rremote: Counting objects:  77% (79/102)\u001b[K\rremote: Counting objects:  78% (80/102)\u001b[K\rremote: Counting objects:  79% (81/102)\u001b[K\rremote: Counting objects:  80% (82/102)\u001b[K\rremote: Counting objects:  81% (83/102)\u001b[K\rremote: Counting objects:  82% (84/102)\u001b[K\rremote: Counting objects:  83% (85/102)\u001b[K\rremote: Counting objects:  84% (86/102)\u001b[K\rremote: Counting objects:  85% (87/102)\u001b[K\rremote: Counting objects:  86% (88/102)\u001b[K\rremote: Counting objects:  87% (89/102)\u001b[K\rremote: Counting objects:  88% (90/102)\u001b[K\rremote: Counting objects:  89% (91/102)\u001b[K\rremote: Counting objects:  90% (92/102)\u001b[K\rremote: Counting objects:  91% (93/102)\u001b[K\rremote: Counting objects:  92% (94/102)\u001b[K\rremote: Counting objects:  93% (95/102)\u001b[K\rremote: Counting objects:  94% (96/102)\u001b[K\rremote: Counting objects:  95% (97/102)\u001b[K\rremote: Counting objects:  96% (98/102)\u001b[K\rremote: Counting objects:  97% (99/102)\u001b[K\rremote: Counting objects:  98% (100/102)\u001b[K\rremote: Counting objects:  99% (101/102)\u001b[K\rremote: Counting objects: 100% (102/102)\u001b[K\rremote: Counting objects: 100% (102/102), done.\u001b[K\n",
            "remote: Compressing objects:   1% (1/54)\u001b[K\rremote: Compressing objects:   3% (2/54)\u001b[K\rremote: Compressing objects:   5% (3/54)\u001b[K\rremote: Compressing objects:   7% (4/54)\u001b[K\rremote: Compressing objects:   9% (5/54)\u001b[K\rremote: Compressing objects:  11% (6/54)\u001b[K\rremote: Compressing objects:  12% (7/54)\u001b[K\rremote: Compressing objects:  14% (8/54)\u001b[K\rremote: Compressing objects:  16% (9/54)\u001b[K\rremote: Compressing objects:  18% (10/54)\u001b[K\rremote: Compressing objects:  20% (11/54)\u001b[K\rremote: Compressing objects:  22% (12/54)\u001b[K\rremote: Compressing objects:  24% (13/54)\u001b[K\rremote: Compressing objects:  25% (14/54)\u001b[K\rremote: Compressing objects:  27% (15/54)\u001b[K\rremote: Compressing objects:  29% (16/54)\u001b[K\rremote: Compressing objects:  31% (17/54)\u001b[K\rremote: Compressing objects:  33% (18/54)\u001b[K\rremote: Compressing objects:  35% (19/54)\u001b[K\rremote: Compressing objects:  37% (20/54)\u001b[K\rremote: Compressing objects:  38% (21/54)\u001b[K\rremote: Compressing objects:  40% (22/54)\u001b[K\rremote: Compressing objects:  42% (23/54)\u001b[K\rremote: Compressing objects:  44% (24/54)\u001b[K\rremote: Compressing objects:  46% (25/54)\u001b[K\rremote: Compressing objects:  48% (26/54)\u001b[K\rremote: Compressing objects:  50% (27/54)\u001b[K\rremote: Compressing objects:  51% (28/54)\u001b[K\rremote: Compressing objects:  53% (29/54)\u001b[K\rremote: Compressing objects:  55% (30/54)\u001b[K\rremote: Compressing objects:  57% (31/54)\u001b[K\rremote: Compressing objects:  59% (32/54)\u001b[K\rremote: Compressing objects:  61% (33/54)\u001b[K\rremote: Compressing objects:  62% (34/54)\u001b[K\rremote: Compressing objects:  64% (35/54)\u001b[K\rremote: Compressing objects:  66% (36/54)\u001b[K\rremote: Compressing objects:  68% (37/54)\u001b[K\rremote: Compressing objects:  70% (38/54)\u001b[K\rremote: Compressing objects:  72% (39/54)\u001b[K\rremote: Compressing objects:  74% (40/54)\u001b[K\rremote: Compressing objects:  75% (41/54)\u001b[K\rremote: Compressing objects:  77% (42/54)\u001b[K\rremote: Compressing objects:  79% (43/54)\u001b[K\rremote: Compressing objects:  81% (44/54)\u001b[K\rremote: Compressing objects:  83% (45/54)\u001b[K\rremote: Compressing objects:  85% (46/54)\u001b[K\rremote: Compressing objects:  87% (47/54)\u001b[K\rremote: Compressing objects:  88% (48/54)\u001b[K\rremote: Compressing objects:  90% (49/54)\u001b[K\rremote: Compressing objects:  92% (50/54)\u001b[K\rremote: Compressing objects:  94% (51/54)\u001b[K\rremote: Compressing objects:  96% (52/54)\u001b[K\rremote: Compressing objects:  98% (53/54)\u001b[K\rremote: Compressing objects: 100% (54/54)\u001b[K\rremote: Compressing objects: 100% (54/54), done.\u001b[K\n",
            "Receiving objects:   0% (1/102)   \rReceiving objects:   1% (2/102)   \rReceiving objects:   2% (3/102)   \rReceiving objects:   3% (4/102)   \rReceiving objects:   4% (5/102)   \rReceiving objects:   5% (6/102)   \rReceiving objects:   6% (7/102)   \rReceiving objects:   7% (8/102)   \rReceiving objects:   8% (9/102)   \rReceiving objects:   9% (10/102)   \rReceiving objects:  10% (11/102)   \rReceiving objects:  11% (12/102)   \rReceiving objects:  12% (13/102)   \rReceiving objects:  13% (14/102)   \rReceiving objects:  14% (15/102)   \rReceiving objects:  15% (16/102)   \rReceiving objects:  16% (17/102)   \rReceiving objects:  17% (18/102)   \rReceiving objects:  18% (19/102)   \rReceiving objects:  19% (20/102)   \rReceiving objects:  20% (21/102)   \rReceiving objects:  21% (22/102)   \rReceiving objects:  22% (23/102)   \rReceiving objects:  23% (24/102)   \rReceiving objects:  24% (25/102)   \rReceiving objects:  25% (26/102)   \rReceiving objects:  26% (27/102)   \rReceiving objects:  27% (28/102)   \rReceiving objects:  28% (29/102)   \rReceiving objects:  29% (30/102)   \rReceiving objects:  30% (31/102)   \rReceiving objects:  31% (32/102)   \rReceiving objects:  32% (33/102)   \rReceiving objects:  33% (34/102)   \rReceiving objects:  34% (35/102)   \rReceiving objects:  35% (36/102)   \rReceiving objects:  36% (37/102)   \rReceiving objects:  37% (38/102)   \rReceiving objects:  38% (39/102)   \rReceiving objects:  39% (40/102)   \rReceiving objects:  40% (41/102)   \rReceiving objects:  41% (42/102)   \rReceiving objects:  42% (43/102)   \rReceiving objects:  43% (44/102)   \rReceiving objects:  44% (45/102)   \rReceiving objects:  45% (46/102)   \rReceiving objects:  46% (47/102)   \rReceiving objects:  47% (48/102)   \rReceiving objects:  48% (49/102)   \rReceiving objects:  49% (50/102)   \rReceiving objects:  50% (51/102)   \rReceiving objects:  51% (53/102)   \rReceiving objects:  52% (54/102)   \rReceiving objects:  53% (55/102)   \rReceiving objects:  54% (56/102)   \rReceiving objects:  55% (57/102)   \rremote: Total 102 (delta 63), reused 81 (delta 46), pack-reused 0\u001b[K\n",
            "Receiving objects:  56% (58/102)   \rReceiving objects:  57% (59/102)   \rReceiving objects:  58% (60/102)   \rReceiving objects:  59% (61/102)   \rReceiving objects:  60% (62/102)   \rReceiving objects:  61% (63/102)   \rReceiving objects:  62% (64/102)   \rReceiving objects:  63% (65/102)   \rReceiving objects:  64% (66/102)   \rReceiving objects:  65% (67/102)   \rReceiving objects:  66% (68/102)   \rReceiving objects:  67% (69/102)   \rReceiving objects:  68% (70/102)   \rReceiving objects:  69% (71/102)   \rReceiving objects:  70% (72/102)   \rReceiving objects:  71% (73/102)   \rReceiving objects:  72% (74/102)   \rReceiving objects:  73% (75/102)   \rReceiving objects:  74% (76/102)   \rReceiving objects:  75% (77/102)   \rReceiving objects:  76% (78/102)   \rReceiving objects:  77% (79/102)   \rReceiving objects:  78% (80/102)   \rReceiving objects:  79% (81/102)   \rReceiving objects:  80% (82/102)   \rReceiving objects:  81% (83/102)   \rReceiving objects:  82% (84/102)   \rReceiving objects:  83% (85/102)   \rReceiving objects:  84% (86/102)   \rReceiving objects:  85% (87/102)   \rReceiving objects:  86% (88/102)   \rReceiving objects:  87% (89/102)   \rReceiving objects:  88% (90/102)   \rReceiving objects:  89% (91/102)   \rReceiving objects:  90% (92/102)   \rReceiving objects:  91% (93/102)   \rReceiving objects:  92% (94/102)   \rReceiving objects:  93% (95/102)   \rReceiving objects:  94% (96/102)   \rReceiving objects:  95% (97/102)   \rReceiving objects:  96% (98/102)   \rReceiving objects:  97% (99/102)   \rReceiving objects:  98% (100/102)   \rReceiving objects:  99% (101/102)   \rReceiving objects: 100% (102/102)   \rReceiving objects: 100% (102/102), 71.60 KiB | 2.98 MiB/s, done.\n",
            "Resolving deltas:   0% (0/63)   \rResolving deltas:   7% (5/63)   \rResolving deltas:   9% (6/63)   \rResolving deltas:  26% (17/63)   \rResolving deltas:  30% (19/63)   \rResolving deltas:  34% (22/63)   \rResolving deltas:  36% (23/63)   \rResolving deltas:  38% (24/63)   \rResolving deltas:  61% (39/63)   \rResolving deltas:  68% (43/63)   \rResolving deltas:  77% (49/63)   \rResolving deltas:  85% (54/63)   \rResolving deltas:  90% (57/63)   \rResolving deltas:  92% (58/63)   \rResolving deltas:  98% (62/63)   \rResolving deltas: 100% (63/63)   \rResolving deltas: 100% (63/63), done.\n"
          ],
          "name": "stdout"
        }
      ]
    },
    {
      "cell_type": "code",
      "metadata": {
        "id": "8E10GBo21zOR",
        "colab_type": "code",
        "colab": {}
      },
      "source": [
        "from pathlib import Path\n",
        "import pandas as pd\n",
        "import pickle\n",
        "import numpy as np\n",
        "import shutil\n",
        "from tqdm import tqdm\n",
        "import matplotlib.pyplot as plt\n",
        "\n",
        "import torch\n",
        "from torch.nn import functional as F\n",
        "\n",
        "from src.models import InsiderClassifier, LSTM_Encoder\n",
        "from src.params import get_params\n",
        "from src.dataset import CertDataset, create_data_loaders\n"
      ],
      "execution_count": 0,
      "outputs": []
    },
    {
      "cell_type": "code",
      "metadata": {
        "id": "B5rU3mlu1zOZ",
        "colab_type": "code",
        "colab": {}
      },
      "source": [
        "output_dir = Path(f'{root_dir}/Datasets/CERT_output')\n",
        "answers_dir = Path(f'{root_dir}/Datasets/CERT/answers')\n",
        "main_answers_file = answers_dir / \"insiders.csv\"\n",
        "\n",
        "lstm_checkpoint = output_dir / 'checkpoints/lstm/final2-nll/final_model_3040.pth'\n",
        "assert(lstm_checkpoint.is_file())"
      ],
      "execution_count": 0,
      "outputs": []
    },
    {
      "cell_type": "markdown",
      "metadata": {
        "id": "Tz_PVjvW1zOl",
        "colab_type": "text"
      },
      "source": [
        "# Подготовка LSTM-векторов"
      ]
    },
    {
      "cell_type": "code",
      "metadata": {
        "id": "f4s5p3GsE1M7",
        "colab_type": "code",
        "colab": {}
      },
      "source": [
        "actions, targets = CertDataset.prepare_dataset(output_dir / 'aggregated.pkl', main_answers_file, min_length=50, max_length=200)"
      ],
      "execution_count": 0,
      "outputs": []
    },
    {
      "cell_type": "code",
      "metadata": {
        "id": "dGN8sb_h1zOm",
        "colab_type": "code",
        "colab": {}
      },
      "source": [
        "device = 'cuda'\n",
        "batch = 256\n",
        "\n",
        "cert_dataset = CertDataset(actions, targets)\n",
        "train_loader, val_loader = create_data_loaders(cert_dataset, validation_split=0.3, random_seed=0, batch_size=batch)\n",
        "\n",
        "params = get_params()"
      ],
      "execution_count": 0,
      "outputs": []
    },
    {
      "cell_type": "code",
      "metadata": {
        "id": "z5g4KeU91zOs",
        "colab_type": "code",
        "outputId": "07056bc0-cd3a-4ec5-9a9a-061a2367f8ee",
        "colab": {
          "base_uri": "https://localhost:8080/",
          "height": 34
        }
      },
      "source": [
        "lstm_encoder = LSTM_Encoder(params['model']['lstm_encoder'])\n",
        "\n",
        "device = 'cuda'\n",
        "\n",
        "lstm_encoder.requires_grad = False\n",
        "lstm_encoder.eval()\n",
        "lstm_encoder.load_state_dict(\n",
        "    torch.load(lstm_checkpoint, map_location=torch.device(device)), strict=True\n",
        ")"
      ],
      "execution_count": 0,
      "outputs": [
        {
          "output_type": "execute_result",
          "data": {
            "text/plain": [
              "<All keys matched successfully>"
            ]
          },
          "metadata": {
            "tags": []
          },
          "execution_count": 8
        }
      ]
    },
    {
      "cell_type": "code",
      "metadata": {
        "id": "4-KTyn0N1zOz",
        "colab_type": "code",
        "colab": {}
      },
      "source": [
        "def prepare_batch(batch, device=None, non_blocking=None, num_classes=64, train=True):\n",
        "\n",
        "    actions = batch['actions']\n",
        "\n",
        "    actions = actions.to(device).to(torch.int64)\n",
        "    actions = F.one_hot(actions, num_classes=64).float()\n",
        "    \n",
        "    return actions, batch['targets']"
      ],
      "execution_count": 0,
      "outputs": []
    },
    {
      "cell_type": "code",
      "metadata": {
        "id": "dtJrb0Yj1zO4",
        "colab_type": "code",
        "colab": {}
      },
      "source": [
        "def prepare_encoded_dataset(loader, model_encoder):\n",
        "    \n",
        "    all_targets = None\n",
        "    vecs = None\n",
        "\n",
        "    for batch in tqdm(loader):\n",
        "        actions, targets = prepare_batch(batch)\n",
        "\n",
        "        result = model_encoder(actions)\n",
        "        result = result.detach().cpu().numpy()\n",
        "        targets = targets.detach().cpu().numpy()\n",
        "\n",
        "        if all_targets is not None:\n",
        "            all_targets = np.concatenate([all_targets, targets], axis=0)\n",
        "        else:\n",
        "            all_targets = targets\n",
        "\n",
        "        if vecs is not None:\n",
        "            vecs = np.concatenate([vecs, result], axis=0)\n",
        "        else:\n",
        "            vecs = result\n",
        "    \n",
        "    return vecs, all_targets"
      ],
      "execution_count": 0,
      "outputs": []
    },
    {
      "cell_type": "code",
      "metadata": {
        "id": "sehA18fo1zO9",
        "colab_type": "code",
        "outputId": "982f8266-692a-429d-feea-f5e2fcf0ca14",
        "colab": {
          "base_uri": "https://localhost:8080/",
          "height": 51
        }
      },
      "source": [
        "val_vecs, val_targets = prepare_encoded_dataset(val_loader, lstm_encoder)\n",
        "val_vecs.shape, val_targets.shape"
      ],
      "execution_count": 0,
      "outputs": [
        {
          "output_type": "stream",
          "text": [
            "100%|██████████| 130/130 [01:16<00:00,  1.70it/s]\n"
          ],
          "name": "stderr"
        },
        {
          "output_type": "execute_result",
          "data": {
            "text/plain": [
              "((33276, 200, 40), (33276,))"
            ]
          },
          "metadata": {
            "tags": []
          },
          "execution_count": 11
        }
      ]
    },
    {
      "cell_type": "code",
      "metadata": {
        "id": "bceubDx41zPB",
        "colab_type": "code",
        "outputId": "7f932d9d-2f04-459c-fd95-638730d1c539",
        "colab": {
          "base_uri": "https://localhost:8080/",
          "height": 51
        }
      },
      "source": [
        "train_vecs, train_targets = prepare_encoded_dataset(train_loader, lstm_encoder)\n",
        "train_vecs.shape, train_targets.shape"
      ],
      "execution_count": 0,
      "outputs": [
        {
          "output_type": "stream",
          "text": [
            "100%|██████████| 304/304 [04:05<00:00,  1.24it/s]\n"
          ],
          "name": "stderr"
        },
        {
          "output_type": "execute_result",
          "data": {
            "text/plain": [
              "((77644, 200, 40), (77644,))"
            ]
          },
          "metadata": {
            "tags": []
          },
          "execution_count": 12
        }
      ]
    },
    {
      "cell_type": "code",
      "metadata": {
        "id": "K3B3yuOR1zPF",
        "colab_type": "code",
        "outputId": "7e3f2b37-ee45-4432-f7a9-afe8582da0f0",
        "colab": {
          "base_uri": "https://localhost:8080/",
          "height": 34
        }
      },
      "source": [
        "train_vecs.shape, val_vecs.shape, train_targets.shape, val_targets.shape"
      ],
      "execution_count": 0,
      "outputs": [
        {
          "output_type": "execute_result",
          "data": {
            "text/plain": [
              "((77644, 200, 40), (33276, 200, 40), (77644,), (33276,))"
            ]
          },
          "metadata": {
            "tags": []
          },
          "execution_count": 13
        }
      ]
    },
    {
      "cell_type": "code",
      "metadata": {
        "id": "W56qF_RQ1zPI",
        "colab_type": "code",
        "colab": {}
      },
      "source": [
        "np.save(lstm_checkpoint.parent / 'train_vecs.npy', train_vecs)\n",
        "np.save(lstm_checkpoint.parent / 'val_vecs.npy', val_vecs)\n",
        "\n",
        "np.save(lstm_checkpoint.parent / 'train_targets.npy', train_targets)\n",
        "np.save(lstm_checkpoint.parent / 'val_targets.npy', val_targets)"
      ],
      "execution_count": 0,
      "outputs": []
    },
    {
      "cell_type": "markdown",
      "metadata": {
        "id": "86QQWlyA1zPV",
        "colab_type": "text"
      },
      "source": [
        "# Тестируем классификаторы"
      ]
    },
    {
      "cell_type": "code",
      "metadata": {
        "id": "vXMfwvIghn48",
        "colab_type": "code",
        "outputId": "356e8f5e-5678-4442-f4b9-ccdc3a8834b6",
        "colab": {
          "base_uri": "https://localhost:8080/",
          "height": 34
        }
      },
      "source": [
        "train_vecs = np.load(lstm_checkpoint.parent / 'train_vecs.npy')\n",
        "val_vecs = np.load(lstm_checkpoint.parent / 'val_vecs.npy')\n",
        "\n",
        "train_targets = np.load(lstm_checkpoint.parent / 'train_targets.npy')\n",
        "val_targets = np.load(lstm_checkpoint.parent / 'val_targets.npy')\n",
        "\n",
        "train_vecs = train_vecs.reshape(train_vecs.shape[0], -1)\n",
        "val_vecs = val_vecs.reshape(val_vecs.shape[0], -1)\n",
        "\n",
        "train_vecs.shape, val_vecs.shape, train_targets.shape, val_targets.shape"
      ],
      "execution_count": 8,
      "outputs": [
        {
          "output_type": "execute_result",
          "data": {
            "text/plain": [
              "((77644, 8000), (33276, 8000), (77644,), (33276,))"
            ]
          },
          "metadata": {
            "tags": []
          },
          "execution_count": 8
        }
      ]
    },
    {
      "cell_type": "code",
      "metadata": {
        "id": "lQ6wBQpB1zPW",
        "colab_type": "code",
        "colab": {}
      },
      "source": [
        "from sklearn.svm import SVC\n",
        "from sklearn.linear_model import SGDClassifier, LogisticRegression\n",
        "from sklearn.decomposition import PCA, NMF, TruncatedSVD\n",
        "from sklearn.metrics import roc_auc_score\n",
        "from sklearn.ensemble import RandomForestClassifier\n",
        "from sklearn.base import TransformerMixin\n",
        "from sklearn.pipeline import Pipeline"
      ],
      "execution_count": 0,
      "outputs": []
    },
    {
      "cell_type": "markdown",
      "metadata": {
        "id": "mUktSKF1FVIp",
        "colab_type": "text"
      },
      "source": [
        "## Logistic Regresssion"
      ]
    },
    {
      "cell_type": "code",
      "metadata": {
        "id": "zJ9-Uc-3FYZ2",
        "colab_type": "code",
        "colab": {}
      },
      "source": [
        "linear_model = SGDClassifier(verbose=1, loss='modified_huber', max_iter=100)"
      ],
      "execution_count": 0,
      "outputs": []
    },
    {
      "cell_type": "code",
      "metadata": {
        "id": "MFcgK2JMFgSh",
        "colab_type": "code",
        "colab": {}
      },
      "source": [
        "linear_model.fit(train_vecs, train_targets)"
      ],
      "execution_count": 0,
      "outputs": []
    },
    {
      "cell_type": "code",
      "metadata": {
        "id": "3w5T0eJHGgVe",
        "colab_type": "code",
        "outputId": "1f4dc5c1-debf-45fa-9681-7376714e71f7",
        "colab": {
          "base_uri": "https://localhost:8080/",
          "height": 34
        }
      },
      "source": [
        "linear_model.predict_proba(val_vecs).sum()"
      ],
      "execution_count": 0,
      "outputs": [
        {
          "output_type": "execute_result",
          "data": {
            "text/plain": [
              "33276.0"
            ]
          },
          "metadata": {
            "tags": []
          },
          "execution_count": 17
        }
      ]
    },
    {
      "cell_type": "code",
      "metadata": {
        "id": "2SpnupIrIQim",
        "colab_type": "code",
        "colab": {}
      },
      "source": [
        "probs = linear_model.predict_proba(val_vecs)[:,1]"
      ],
      "execution_count": 0,
      "outputs": []
    },
    {
      "cell_type": "code",
      "metadata": {
        "id": "YPMBDFUBIrhY",
        "colab_type": "code",
        "outputId": "942121cc-d764-45e5-e8b6-49c3585a0301",
        "colab": {
          "base_uri": "https://localhost:8080/",
          "height": 34
        }
      },
      "source": [
        "roc_auc_score(val_targets, probs)"
      ],
      "execution_count": 0,
      "outputs": [
        {
          "output_type": "execute_result",
          "data": {
            "text/plain": [
              "0.49960789045062437"
            ]
          },
          "metadata": {
            "tags": []
          },
          "execution_count": 27
        }
      ]
    },
    {
      "cell_type": "code",
      "metadata": {
        "id": "R4F2reDwJmvf",
        "colab_type": "code",
        "outputId": "8579b28e-8e63-43e0-9a91-99794ea558a9",
        "colab": {
          "base_uri": "https://localhost:8080/",
          "height": 272
        }
      },
      "source": [
        "linear_model = LogisticRegression(verbose=1, max_iter=500)\n",
        "linear_model.fit(train_vecs, train_targets)"
      ],
      "execution_count": 0,
      "outputs": [
        {
          "output_type": "stream",
          "text": [
            "[Parallel(n_jobs=1)]: Using backend SequentialBackend with 1 concurrent workers.\n",
            "/usr/local/lib/python3.6/dist-packages/sklearn/linear_model/_logistic.py:940: ConvergenceWarning: lbfgs failed to converge (status=1):\n",
            "STOP: TOTAL NO. of ITERATIONS REACHED LIMIT.\n",
            "\n",
            "Increase the number of iterations (max_iter) or scale the data as shown in:\n",
            "    https://scikit-learn.org/stable/modules/preprocessing.html\n",
            "Please also refer to the documentation for alternative solver options:\n",
            "    https://scikit-learn.org/stable/modules/linear_model.html#logistic-regression\n",
            "  extra_warning_msg=_LOGISTIC_SOLVER_CONVERGENCE_MSG)\n",
            "[Parallel(n_jobs=1)]: Done   1 out of   1 | elapsed:  4.1min finished\n"
          ],
          "name": "stderr"
        },
        {
          "output_type": "execute_result",
          "data": {
            "text/plain": [
              "LogisticRegression(C=1.0, class_weight=None, dual=False, fit_intercept=True,\n",
              "                   intercept_scaling=1, l1_ratio=None, max_iter=500,\n",
              "                   multi_class='auto', n_jobs=None, penalty='l2',\n",
              "                   random_state=None, solver='lbfgs', tol=0.0001, verbose=1,\n",
              "                   warm_start=False)"
            ]
          },
          "metadata": {
            "tags": []
          },
          "execution_count": 32
        }
      ]
    },
    {
      "cell_type": "code",
      "metadata": {
        "id": "JaxPj4cYLwdN",
        "colab_type": "code",
        "outputId": "def4dcfb-dc2d-4e49-a293-613393bd1c21",
        "colab": {
          "base_uri": "https://localhost:8080/",
          "height": 34
        }
      },
      "source": [
        "train_probs = linear_model.predict_proba(train_vecs)[:,1]\n",
        "f'train ROC AUC: {roc_auc_score(train_targets, train_probs)}'"
      ],
      "execution_count": 0,
      "outputs": [
        {
          "output_type": "execute_result",
          "data": {
            "text/plain": [
              "'train ROC AUC: 0.6871981942065118'"
            ]
          },
          "metadata": {
            "tags": []
          },
          "execution_count": 36
        }
      ]
    },
    {
      "cell_type": "code",
      "metadata": {
        "id": "KO3ixW-7KIQ4",
        "colab_type": "code",
        "outputId": "ea0f0218-334d-499e-db84-d6d399efafe8",
        "colab": {
          "base_uri": "https://localhost:8080/",
          "height": 34
        }
      },
      "source": [
        "probs = linear_model.predict_proba(val_vecs)[:,1]\n",
        "f'val ROC AUC: {roc_auc_score(val_targets, probs)}'"
      ],
      "execution_count": 0,
      "outputs": [
        {
          "output_type": "execute_result",
          "data": {
            "text/plain": [
              "'val ROC AUC: 0.35078624639906963'"
            ]
          },
          "metadata": {
            "tags": []
          },
          "execution_count": 39
        }
      ]
    },
    {
      "cell_type": "code",
      "metadata": {
        "id": "n54aj5gfMNgw",
        "colab_type": "code",
        "outputId": "c1c0ad50-7961-4eb4-fff6-762aaa300bd9",
        "colab": {
          "base_uri": "https://localhost:8080/",
          "height": 34
        }
      },
      "source": [
        "probs.mean()"
      ],
      "execution_count": 0,
      "outputs": [
        {
          "output_type": "execute_result",
          "data": {
            "text/plain": [
              "0.004161924859565712"
            ]
          },
          "metadata": {
            "tags": []
          },
          "execution_count": 44
        }
      ]
    },
    {
      "cell_type": "code",
      "metadata": {
        "id": "Rch_-BGsMS4n",
        "colab_type": "code",
        "outputId": "855d57fa-775b-4747-ee3d-4dee1ca0a461",
        "colab": {
          "base_uri": "https://localhost:8080/",
          "height": 34
        }
      },
      "source": [
        "train_probs.mean()"
      ],
      "execution_count": 0,
      "outputs": [
        {
          "output_type": "execute_result",
          "data": {
            "text/plain": [
              "0.0040941781466248325"
            ]
          },
          "metadata": {
            "tags": []
          },
          "execution_count": 43
        }
      ]
    },
    {
      "cell_type": "markdown",
      "metadata": {
        "id": "_wv4qEBFFOgR",
        "colab_type": "text"
      },
      "source": [
        "## SVM\n",
        "\n",
        "TODO: сделать уменьшение размерности или ансамблирование"
      ]
    },
    {
      "cell_type": "code",
      "metadata": {
        "id": "vr5R1dhH1zPZ",
        "colab_type": "code",
        "colab": {}
      },
      "source": [
        ""
      ],
      "execution_count": 0,
      "outputs": []
    },
    {
      "cell_type": "code",
      "metadata": {
        "id": "ZAEH4r4aiaib",
        "colab_type": "code",
        "colab": {}
      },
      "source": [
        "def checl_model(model, divide_dataset_size_by=1, shift=0, **model_kwargs):\n",
        "    model.fit(train_vecs[shift::divide_dataset_size_by], train_targets[shift::divide_dataset_size_by])\n",
        "    print('fitted!')\n",
        "    train_probs = model.predict_proba(train_vecs)[:,1]\n",
        "    print(f'train ROC AUC: {roc_auc_score(train_targets, train_probs)}')\n",
        "    probs = model.predict_proba(val_vecs)[:,1]\n",
        "    print(f'val ROC AUC: {roc_auc_score(val_targets, probs)}')"
      ],
      "execution_count": 0,
      "outputs": []
    },
    {
      "cell_type": "code",
      "metadata": {
        "id": "0NhHAaecjj9q",
        "colab_type": "code",
        "outputId": "02c05076-8d16-4166-84b7-5491da0de914",
        "colab": {
          "base_uri": "https://localhost:8080/",
          "height": 68
        }
      },
      "source": [
        "svm_model = SVC(kernel='linear', verbose=1, probability=True)\n",
        "checl_model(svm_model, divide_dataset_size_by=10)"
      ],
      "execution_count": 0,
      "outputs": [
        {
          "output_type": "stream",
          "text": [
            "[LibSVM]fitted!\n",
            "train ROC AUC: 0.5521633332393683\n",
            "val ROC AUC: 0.1491868053406013\n"
          ],
          "name": "stdout"
        }
      ]
    },
    {
      "cell_type": "code",
      "metadata": {
        "id": "-GAEA0HB1zPu",
        "colab_type": "code",
        "outputId": "3dbca434-3251-4579-823e-fba6974409e7",
        "colab": {
          "base_uri": "https://localhost:8080/",
          "height": 68
        }
      },
      "source": [
        "svm_model = SVC(kernel='poly', verbose=1, degree=3, probability=True)\n",
        "checl_model(svm_model, divide_dataset_size_by=10)"
      ],
      "execution_count": 0,
      "outputs": [
        {
          "output_type": "stream",
          "text": [
            "[LibSVM]fitted!\n",
            "train ROC AUC: 0.5476269424708271\n",
            "val ROC AUC: 0.19303978354366164\n"
          ],
          "name": "stdout"
        }
      ]
    },
    {
      "cell_type": "code",
      "metadata": {
        "id": "xygwR8LZj1K5",
        "colab_type": "code",
        "outputId": "2a6a5e4b-6c17-4446-9c20-94ea472cb745",
        "colab": {
          "base_uri": "https://localhost:8080/",
          "height": 68
        }
      },
      "source": [
        "svm_model = SVC(kernel='rbf', verbose=1, probability=True)\n",
        "checl_model(svm_model, divide_dataset_size_by=10)"
      ],
      "execution_count": 0,
      "outputs": [
        {
          "output_type": "stream",
          "text": [
            "[LibSVM]fitted!\n",
            "train ROC AUC: 0.5307831557563787\n",
            "val ROC AUC: 0.20794983568978154\n"
          ],
          "name": "stdout"
        }
      ]
    },
    {
      "cell_type": "code",
      "metadata": {
        "id": "Q5TtdEUnj1k4",
        "colab_type": "code",
        "outputId": "ead43c68-7934-45dd-ce5e-0491c6523862",
        "colab": {
          "base_uri": "https://localhost:8080/",
          "height": 68
        }
      },
      "source": [
        "svm_model = SVC(kernel='sigmoid', verbose=1, probability=True)\n",
        "checl_model(svm_model, divide_dataset_size_by=10)"
      ],
      "execution_count": 0,
      "outputs": [
        {
          "output_type": "stream",
          "text": [
            "[LibSVM]fitted!\n",
            "train ROC AUC: 0.5325750870193234\n",
            "val ROC AUC: 0.21466811115934875\n"
          ],
          "name": "stdout"
        }
      ]
    },
    {
      "cell_type": "markdown",
      "metadata": {
        "id": "c0mxXzKvmnJN",
        "colab_type": "text"
      },
      "source": [
        "# Decomposition\n",
        "\n",
        "## PCA"
      ]
    },
    {
      "cell_type": "code",
      "metadata": {
        "id": "4P7x9RYsmpiS",
        "colab_type": "code",
        "outputId": "7133c633-e0e7-4216-a015-45c1809d29a5",
        "colab": {
          "base_uri": "https://localhost:8080/",
          "height": 312
        }
      },
      "source": [
        "pca_model = PCA(n_components=100)\n",
        "\n",
        "pca_model.fit(train_vecs)\n",
        "\n",
        "plt.figure()\n",
        "plt.plot(np.cumsum(pca_model.explained_variance_ratio_))\n",
        "plt.xlabel('Number of Components')\n",
        "plt.ylabel('Variance (%)') #for each component\n",
        "plt.title('Pulsar Dataset Explained Variance')\n",
        "plt.show()\n",
        "print(f'{np.cumsum(pca_model.explained_variance_ratio_)[-1]:.6f}')"
      ],
      "execution_count": 0,
      "outputs": [
        {
          "output_type": "display_data",
          "data": {
            "image/png": "[encoded data removed]",
            "text/plain": [
              "<Figure size 432x288 with 1 Axes>"
            ]
          },
          "metadata": {
            "tags": []
          }
        },
        {
          "output_type": "stream",
          "text": [
            "0.993649\n"
          ],
          "name": "stdout"
        }
      ]
    },
    {
      "cell_type": "code",
      "metadata": {
        "id": "S15YEAmBv4Un",
        "colab_type": "code",
        "colab": {}
      },
      "source": [
        "train_vecs_pca = pca_model.transform(train_vecs)\n",
        "val_vecs_pca = pca_model.transform(val_vecs)"
      ],
      "execution_count": 0,
      "outputs": []
    },
    {
      "cell_type": "code",
      "metadata": {
        "id": "TkjlxjLBwBi0",
        "colab_type": "code",
        "colab": {}
      },
      "source": [
        "def check_model_pca(model, divide_dataset_size_by=1, shift=0, **model_kwargs):\n",
        "    model.fit(train_vecs_pca[shift::divide_dataset_size_by], train_targets[shift::divide_dataset_size_by])\n",
        "    print('fitted!')\n",
        "    train_probs = model.predict_proba(train_vecs_pca)[:,1]\n",
        "    print(f'train ROC AUC: {roc_auc_score(train_targets, train_probs)}')\n",
        "    probs = model.predict_proba(val_vecs_pca)[:,1]\n",
        "    print(f'val ROC AUC: {roc_auc_score(val_targets, probs)}')"
      ],
      "execution_count": 0,
      "outputs": []
    },
    {
      "cell_type": "code",
      "metadata": {
        "id": "PgoqAhMjwM_z",
        "colab_type": "code",
        "outputId": "158cfc29-ed7c-40a6-cc50-8d9a0743a257",
        "colab": {
          "base_uri": "https://localhost:8080/",
          "height": 68
        }
      },
      "source": [
        "svm_model = SVC(kernel='linear', verbose=1, probability=True)\n",
        "check_model_pca(svm_model, divide_dataset_size_by=2)"
      ],
      "execution_count": 0,
      "outputs": [
        {
          "output_type": "stream",
          "text": [
            "[LibSVM]fitted!\n",
            "train ROC AUC: 0.49972683502022364\n",
            "val ROC AUC: 0.6053563252264396\n"
          ],
          "name": "stdout"
        }
      ]
    },
    {
      "cell_type": "code",
      "metadata": {
        "colab_type": "code",
        "outputId": "fad64b5c-525b-45ce-a098-ba23dbf1c210",
        "id": "ewkFGacUwZIE",
        "colab": {
          "base_uri": "https://localhost:8080/",
          "height": 68
        }
      },
      "source": [
        "svm_model = SVC(kernel='poly', verbose=1, degree=3, probability=True)\n",
        "check_model_pca(svm_model, divide_dataset_size_by=2)"
      ],
      "execution_count": 0,
      "outputs": [
        {
          "output_type": "stream",
          "text": [
            "[LibSVM]fitted!\n",
            "train ROC AUC: 0.5922033386912453\n",
            "val ROC AUC: 0.16184259842543047\n"
          ],
          "name": "stdout"
        }
      ]
    },
    {
      "cell_type": "code",
      "metadata": {
        "colab_type": "code",
        "outputId": "030688eb-9d40-42ac-f910-7582b99fb0e6",
        "id": "L2fw0yPmwZIK",
        "colab": {
          "base_uri": "https://localhost:8080/",
          "height": 68
        }
      },
      "source": [
        "svm_model = SVC(kernel='rbf', verbose=1, probability=True)\n",
        "check_model_pca(svm_model, divide_dataset_size_by=2)"
      ],
      "execution_count": 0,
      "outputs": [
        {
          "output_type": "stream",
          "text": [
            "[LibSVM]fitted!\n",
            "train ROC AUC: 0.6149832011288534\n",
            "val ROC AUC: 0.1398157332349681\n"
          ],
          "name": "stdout"
        }
      ]
    },
    {
      "cell_type": "code",
      "metadata": {
        "colab_type": "code",
        "outputId": "55c5757a-95bc-4a54-a4bf-3032920665a4",
        "id": "Ec1kfAzuwZIP",
        "colab": {
          "base_uri": "https://localhost:8080/",
          "height": 34
        }
      },
      "source": [
        "svm_model = SVC(kernel='sigmoid', verbose=1, probability=True)\n",
        "check_model_pca(svm_model, divide_dataset_size_by=2)"
      ],
      "execution_count": 0,
      "outputs": [
        {
          "output_type": "stream",
          "text": [
            "[LibSVM]fitted!\n"
          ],
          "name": "stdout"
        }
      ]
    },
    {
      "cell_type": "markdown",
      "metadata": {
        "id": "iJHgQVyjwvRM",
        "colab_type": "text"
      },
      "source": [
        "## NMF"
      ]
    },
    {
      "cell_type": "code",
      "metadata": {
        "id": "amngOFBjxEHH",
        "colab_type": "code",
        "colab": {}
      },
      "source": [
        "class UniformScaler(TransformerMixin):\n",
        "    def __init__(self, min=-1, scale=2, *featurizers):\n",
        "        self.min = min\n",
        "        self.scale = scale\n",
        "\n",
        "    def fit(self, X, y=None):\n",
        "        return self\n",
        "\n",
        "    def transform(self, X):\n",
        "        return (X - self.min) / self.scale"
      ],
      "execution_count": 0,
      "outputs": []
    },
    {
      "cell_type": "code",
      "metadata": {
        "id": "dfmBXl-ew3gG",
        "colab_type": "code",
        "colab": {
          "base_uri": "https://localhost:8080/",
          "height": 1000
        },
        "outputId": "c24b49f6-48e7-49bd-a0af-c99e3963754f"
      },
      "source": [
        "nmf_model = Pipeline([\n",
        "          ('scaler', UniformScaler()),\n",
        "          ('nmf', NMF(n_components=100, verbose=True, random_state=0))\n",
        "          ])\n",
        "nmf_model.fit(train_vecs)"
      ],
      "execution_count": 12,
      "outputs": [
        {
          "output_type": "stream",
          "text": [
            "violation: 1.0\n",
            "violation: 0.8382909463691427\n",
            "violation: 0.5649806936584013\n",
            "violation: 0.4525790052839102\n",
            "violation: 0.3697104224267685\n",
            "violation: 0.3113116315141583\n",
            "violation: 0.2750563851941089\n",
            "violation: 0.24907146511275274\n",
            "violation: 0.2271127560809334\n",
            "violation: 0.20923203804719592\n",
            "violation: 0.19311482667870128\n",
            "violation: 0.1789894211130313\n",
            "violation: 0.16825502482777435\n",
            "violation: 0.1593849779575151\n",
            "violation: 0.15260139954036325\n",
            "violation: 0.14758799839204476\n",
            "violation: 0.14341645047353418\n",
            "violation: 0.1402363039942946\n",
            "violation: 0.13748113841350024\n",
            "violation: 0.13496799901951778\n",
            "violation: 0.13213708324033568\n",
            "violation: 0.129851950236154\n",
            "violation: 0.1283438586011762\n",
            "violation: 0.12671561331405418\n",
            "violation: 0.12488738223899315\n",
            "violation: 0.12291120042429603\n",
            "violation: 0.12086278615807952\n",
            "violation: 0.11882627621122312\n",
            "violation: 0.11706156685785835\n",
            "violation: 0.11565283216342631\n",
            "violation: 0.11430532757111624\n",
            "violation: 0.11320201834156103\n",
            "violation: 0.11225084674305824\n",
            "violation: 0.11106275872473813\n",
            "violation: 0.1096099369177301\n",
            "violation: 0.1081633683532203\n",
            "violation: 0.1071448559984942\n",
            "violation: 0.10614438700710874\n",
            "violation: 0.10512399246380608\n",
            "violation: 0.10422441589423792\n",
            "violation: 0.10363671833008305\n",
            "violation: 0.10307728684702949\n",
            "violation: 0.10269921083456866\n",
            "violation: 0.10215628756873289\n",
            "violation: 0.1014039294478848\n",
            "violation: 0.10063774947724427\n",
            "violation: 0.09995635086097071\n",
            "violation: 0.09944632475273502\n",
            "violation: 0.09915017254820893\n",
            "violation: 0.09884534852415786\n",
            "violation: 0.09865796611971968\n",
            "violation: 0.09820958565425285\n",
            "violation: 0.09746507839607495\n",
            "violation: 0.09657572586047986\n",
            "violation: 0.0955293552220851\n",
            "violation: 0.09442105580021937\n",
            "violation: 0.09330776222486327\n",
            "violation: 0.09206848324166857\n",
            "violation: 0.09078738673007708\n",
            "violation: 0.08927832983586916\n",
            "violation: 0.08760762406433976\n",
            "violation: 0.0862297157106524\n",
            "violation: 0.08498087078266153\n",
            "violation: 0.08340042551623639\n",
            "violation: 0.0819244557937393\n",
            "violation: 0.08047748427484137\n",
            "violation: 0.07936176865643639\n",
            "violation: 0.07821009210393622\n",
            "violation: 0.07720925776504237\n",
            "violation: 0.0761259976011384\n",
            "violation: 0.0751310674548304\n",
            "violation: 0.07428713784081534\n",
            "violation: 0.07352013715314831\n",
            "violation: 0.07277174401183338\n",
            "violation: 0.072118637944457\n",
            "violation: 0.07142783220787703\n",
            "violation: 0.07086718635452297\n",
            "violation: 0.07032915266735658\n",
            "violation: 0.06984704217299266\n",
            "violation: 0.06935796209530239\n",
            "violation: 0.06887797356756475\n",
            "violation: 0.06814446918169467\n",
            "violation: 0.06747836173728203\n",
            "violation: 0.06684877291475916\n",
            "violation: 0.06620697616574689\n",
            "violation: 0.06567774113649691\n",
            "violation: 0.06511262408761571\n",
            "violation: 0.06459701226241102\n",
            "violation: 0.06411627348183883\n",
            "violation: 0.06360337231686658\n",
            "violation: 0.06304639751514449\n",
            "violation: 0.06256485831977315\n",
            "violation: 0.062024766782280256\n",
            "violation: 0.061582232154865746\n",
            "violation: 0.061140064093698245\n",
            "violation: 0.06067930815355389\n",
            "violation: 0.06023839173401227\n",
            "violation: 0.0599299101717301\n",
            "violation: 0.059717627364445386\n",
            "violation: 0.059610306982179645\n",
            "violation: 0.05956992874927767\n",
            "violation: 0.05964033678132293\n",
            "violation: 0.05977369253326609\n",
            "violation: 0.0598359760417267\n",
            "violation: 0.05976589743153474\n",
            "violation: 0.05957067098538417\n",
            "violation: 0.059202268779852775\n",
            "violation: 0.058724625693465975\n",
            "violation: 0.05806009469586636\n",
            "violation: 0.057373073128518456\n",
            "violation: 0.05664705754337713\n",
            "violation: 0.05588775262288311\n",
            "violation: 0.055122994477152285\n",
            "violation: 0.054349993848403486\n",
            "violation: 0.05358524589794705\n",
            "violation: 0.052680485116090935\n",
            "violation: 0.05177165577957408\n",
            "violation: 0.050980638452510316\n",
            "violation: 0.05030869831442641\n",
            "violation: 0.04969897180299791\n",
            "violation: 0.049101023972867676\n",
            "violation: 0.04861929387573306\n",
            "violation: 0.04816775925672305\n",
            "violation: 0.04773137021497655\n",
            "violation: 0.04738652851777883\n",
            "violation: 0.04711382625730676\n",
            "violation: 0.04693852397768743\n",
            "violation: 0.046891078608828844\n",
            "violation: 0.04671021385214\n",
            "violation: 0.04650368903154979\n",
            "violation: 0.046349040952464254\n",
            "violation: 0.04630245197879861\n",
            "violation: 0.04619469324669113\n",
            "violation: 0.046052896167443895\n",
            "violation: 0.045960611143936195\n",
            "violation: 0.04591548630979961\n",
            "violation: 0.04594752453712573\n",
            "violation: 0.04602399435945889\n",
            "violation: 0.04607240810526822\n",
            "violation: 0.046108191677992176\n",
            "violation: 0.046134035316501\n",
            "violation: 0.04621769256499085\n",
            "violation: 0.0462776731227007\n",
            "violation: 0.04627906862375943\n",
            "violation: 0.04628294801076318\n",
            "violation: 0.04631450769981746\n",
            "violation: 0.046307361160259866\n",
            "violation: 0.04626854147729364\n",
            "violation: 0.04623170039416993\n",
            "violation: 0.04614273528795869\n",
            "violation: 0.0460099825738528\n",
            "violation: 0.04590896494756168\n",
            "violation: 0.045771171907106126\n",
            "violation: 0.0455758589813553\n",
            "violation: 0.04536570243617231\n",
            "violation: 0.04514477927433726\n",
            "violation: 0.04494911367687006\n",
            "violation: 0.04476235847886458\n",
            "violation: 0.044578282925389304\n",
            "violation: 0.044410867975350404\n",
            "violation: 0.04422924302736941\n",
            "violation: 0.044066893405562774\n",
            "violation: 0.04389743129949388\n",
            "violation: 0.04380123916355013\n",
            "violation: 0.043588508268401584\n",
            "violation: 0.04345529353875729\n",
            "violation: 0.04334430085297982\n",
            "violation: 0.0432573304179698\n",
            "violation: 0.04316617902828542\n",
            "violation: 0.04307662538299714\n",
            "violation: 0.04295170295615632\n",
            "violation: 0.04281718194470187\n",
            "violation: 0.04266352393480147\n",
            "violation: 0.04248900596938887\n",
            "violation: 0.04227021470633227\n",
            "violation: 0.04207194783728884\n",
            "violation: 0.04186865850752479\n",
            "violation: 0.04167874315868341\n",
            "violation: 0.04143958911849201\n",
            "violation: 0.04120119655368359\n",
            "violation: 0.04099609541021109\n",
            "violation: 0.040776439716386434\n",
            "violation: 0.040524022848534465\n",
            "violation: 0.04029845449545858\n",
            "violation: 0.040061046273106124\n",
            "violation: 0.0398365043012934\n",
            "violation: 0.039612157186824114\n",
            "violation: 0.039436683863234116\n",
            "violation: 0.03925167385968157\n",
            "violation: 0.039059947102576716\n",
            "violation: 0.0388582238587389\n",
            "violation: 0.03867162890613792\n",
            "violation: 0.03849420631389302\n",
            "violation: 0.03831784596761656\n",
            "violation: 0.03813227774557967\n",
            "violation: 0.03793289666006898\n",
            "violation: 0.03772272943783268\n",
            "violation: 0.03750241076586513\n",
            "violation: 0.037249089809783024\n",
            "violation: 0.03697940500952426\n"
          ],
          "name": "stdout"
        },
        {
          "output_type": "execute_result",
          "data": {
            "text/plain": [
              "Pipeline(memory=None,\n",
              "         steps=[('scaler', <__main__.UniformScaler object at 0x7f6f7e875ba8>),\n",
              "                ('nmf',\n",
              "                 NMF(alpha=0.0, beta_loss='frobenius', init=None, l1_ratio=0.0,\n",
              "                     max_iter=200, n_components=100, random_state=0,\n",
              "                     shuffle=False, solver='cd', tol=0.0001, verbose=True))],\n",
              "         verbose=False)"
            ]
          },
          "metadata": {
            "tags": []
          },
          "execution_count": 12
        }
      ]
    },
    {
      "cell_type": "code",
      "metadata": {
        "id": "EmXssK7vxjmI",
        "colab_type": "code",
        "colab": {
          "base_uri": "https://localhost:8080/",
          "height": 1000
        },
        "outputId": "2c19695c-929f-43d6-f735-bd30aa908daf"
      },
      "source": [
        "train_vecs_nmf = nmf_model.transform(train_vecs)\n",
        "val_vecs_nmf = nmf_model.transform(val_vecs)"
      ],
      "execution_count": 13,
      "outputs": [
        {
          "output_type": "stream",
          "text": [
            "violation: 1.0\n",
            "violation: 0.30343627215938956\n",
            "violation: 0.17178894379049892\n",
            "violation: 0.10214074381656779\n",
            "violation: 0.06195701145990725\n",
            "violation: 0.04116803722522405\n",
            "violation: 0.030231207461587483\n",
            "violation: 0.024733785601915352\n",
            "violation: 0.02137321749597492\n",
            "violation: 0.01879315517175212\n",
            "violation: 0.01680355903210598\n",
            "violation: 0.015255857875299874\n",
            "violation: 0.014060544732674035\n",
            "violation: 0.013025599655594203\n",
            "violation: 0.01209438263303898\n",
            "violation: 0.011363628122586934\n",
            "violation: 0.010763451785602226\n",
            "violation: 0.010197202514286885\n",
            "violation: 0.009698656104703959\n",
            "violation: 0.009264368516340198\n",
            "violation: 0.008865010992278209\n",
            "violation: 0.00850006238496861\n",
            "violation: 0.008153913180901872\n",
            "violation: 0.00792976935380277\n",
            "violation: 0.0076761870067500945\n",
            "violation: 0.0073946585819714096\n",
            "violation: 0.007129391522760106\n",
            "violation: 0.006889737429317827\n",
            "violation: 0.006634382313240215\n",
            "violation: 0.006402982426033481\n",
            "violation: 0.0061849813282790845\n",
            "violation: 0.0060148939059863045\n",
            "violation: 0.005808739990634326\n",
            "violation: 0.0056205957894893\n",
            "violation: 0.005448390262507878\n",
            "violation: 0.005287016822125088\n",
            "violation: 0.005137042132602369\n",
            "violation: 0.004994098470759891\n",
            "violation: 0.004860792504938838\n",
            "violation: 0.004734353382304096\n",
            "violation: 0.004613850440228471\n",
            "violation: 0.004495679609568915\n",
            "violation: 0.004383711756975964\n",
            "violation: 0.004276211312463007\n",
            "violation: 0.004170024395748631\n",
            "violation: 0.004082325919202743\n",
            "violation: 0.003983359910721301\n",
            "violation: 0.0038858390624803667\n",
            "violation: 0.0037930683461390043\n",
            "violation: 0.00370880397944347\n",
            "violation: 0.003621826615314431\n",
            "violation: 0.0035334466982623854\n",
            "violation: 0.0034498641524652804\n",
            "violation: 0.0033618670029979237\n",
            "violation: 0.003291088451062081\n",
            "violation: 0.0032019992181258287\n",
            "violation: 0.003130197602834955\n",
            "violation: 0.0030640579083209144\n",
            "violation: 0.0029992491514492293\n",
            "violation: 0.0029347211279188066\n",
            "violation: 0.0028734456777166745\n",
            "violation: 0.002821560139338906\n",
            "violation: 0.0027617415116342058\n",
            "violation: 0.0026944090924210223\n",
            "violation: 0.002641388484013679\n",
            "violation: 0.0025922871778540826\n",
            "violation: 0.002533634586969597\n",
            "violation: 0.002480144801399735\n",
            "violation: 0.002435892057963029\n",
            "violation: 0.002393105075204434\n",
            "violation: 0.0023544126538813277\n",
            "violation: 0.002316026972529214\n",
            "violation: 0.0022800362430835134\n",
            "violation: 0.0022437887253037264\n",
            "violation: 0.0022091191484254896\n",
            "violation: 0.002177255672828373\n",
            "violation: 0.0021505699675981467\n",
            "violation: 0.0021103078820399563\n",
            "violation: 0.0020774281383340453\n",
            "violation: 0.002041562463560669\n",
            "violation: 0.0020088934470773295\n",
            "violation: 0.001977764592710172\n",
            "violation: 0.0019486629870822591\n",
            "violation: 0.001919970234625256\n",
            "violation: 0.0018931154573999691\n",
            "violation: 0.0018664789781428917\n",
            "violation: 0.001841509315456868\n",
            "violation: 0.0018171367821532263\n",
            "violation: 0.001792905370652789\n",
            "violation: 0.0017691536757929614\n",
            "violation: 0.0017459592177704582\n",
            "violation: 0.0017230553628496197\n",
            "violation: 0.0017016390465446189\n",
            "violation: 0.0016799620230820284\n",
            "violation: 0.0016589395433127788\n",
            "violation: 0.0016379866292201666\n",
            "violation: 0.001617328051475676\n",
            "violation: 0.0015970320982761543\n",
            "violation: 0.0015787334075006547\n",
            "violation: 0.0015596203387555402\n",
            "violation: 0.001541923391913368\n",
            "violation: 0.0015239068559696986\n",
            "violation: 0.0015059692477360628\n",
            "violation: 0.0014887653797256986\n",
            "violation: 0.0014721575959601146\n",
            "violation: 0.0014551680716775332\n",
            "violation: 0.0014394009409771484\n",
            "violation: 0.0014232531570310969\n",
            "violation: 0.0014072674184907482\n",
            "violation: 0.0013916048165963854\n",
            "violation: 0.0013765940514958975\n",
            "violation: 0.0013623715768265783\n",
            "violation: 0.001348077619850048\n",
            "violation: 0.0013343675927429124\n",
            "violation: 0.0013205959630912978\n",
            "violation: 0.0013072037025066827\n",
            "violation: 0.0012949266597391308\n",
            "violation: 0.001282594599601468\n",
            "violation: 0.0012703026829663884\n",
            "violation: 0.0012585247589266418\n",
            "violation: 0.001247222964341505\n",
            "violation: 0.0012358319459111413\n",
            "violation: 0.0012248617137691465\n",
            "violation: 0.0012138568494125654\n",
            "violation: 0.0012034606637546842\n",
            "violation: 0.0011929633105895521\n",
            "violation: 0.001182853607263353\n",
            "violation: 0.0011728657574904303\n",
            "violation: 0.0011632017160977993\n",
            "violation: 0.001153514652960133\n",
            "violation: 0.0011442245727309745\n",
            "violation: 0.0011346591178584549\n",
            "violation: 0.0011252339293116578\n",
            "violation: 0.0011160072967026156\n",
            "violation: 0.0011069726226755707\n",
            "violation: 0.0010977002158039592\n",
            "violation: 0.0010891413260527047\n",
            "violation: 0.001080984757413991\n",
            "violation: 0.0010718516144326182\n",
            "violation: 0.001063365937347149\n",
            "violation: 0.0010550675498485324\n",
            "violation: 0.001046767173803773\n",
            "violation: 0.0010389606723943757\n",
            "violation: 0.001031243644788354\n",
            "violation: 0.0010235207391026285\n",
            "violation: 0.0010158532823864258\n",
            "violation: 0.0010085435974831383\n",
            "violation: 0.0010009901547673216\n",
            "violation: 0.0009936840700168288\n",
            "violation: 0.0009870406968493384\n",
            "violation: 0.0009801918582962009\n",
            "violation: 0.000973668784412481\n",
            "violation: 0.0009668161923073268\n",
            "violation: 0.0009604782647792044\n",
            "violation: 0.000954322344319001\n",
            "violation: 0.0009482522821683894\n",
            "violation: 0.0009420018754718744\n",
            "violation: 0.0009360771991468994\n",
            "violation: 0.0009307460615917145\n",
            "violation: 0.0009254569900033905\n",
            "violation: 0.0009196052408321023\n",
            "violation: 0.0009144755332356488\n",
            "violation: 0.0009090416861523052\n",
            "violation: 0.000903950546633355\n",
            "violation: 0.0008986564336479857\n",
            "violation: 0.0008936318163223536\n",
            "violation: 0.0008887660085241464\n",
            "violation: 0.0008841053608129286\n",
            "violation: 0.0008791702593676574\n",
            "violation: 0.0008744751968828224\n",
            "violation: 0.0008696252821549838\n",
            "violation: 0.0008642383542421358\n",
            "violation: 0.0008594295096204187\n",
            "violation: 0.0008548557188326986\n",
            "violation: 0.0008502972732790167\n",
            "violation: 0.0008454075703103037\n",
            "violation: 0.0008407456170922572\n",
            "violation: 0.0008361744970507992\n",
            "violation: 0.0008316820406499678\n",
            "violation: 0.0008273155726474462\n",
            "violation: 0.0008227361559082521\n",
            "violation: 0.000818005441867016\n",
            "violation: 0.0008132785939917233\n",
            "violation: 0.0008088791614261491\n",
            "violation: 0.0008045193244579253\n",
            "violation: 0.0008000354970663413\n",
            "violation: 0.0007961211671032426\n",
            "violation: 0.00079180210235883\n",
            "violation: 0.0007875319300459473\n",
            "violation: 0.0007835107298229135\n",
            "violation: 0.00077963171821282\n",
            "violation: 0.0007758540410152179\n",
            "violation: 0.0007710281398102618\n",
            "violation: 0.0007674014591152095\n",
            "violation: 0.0007636669897310613\n",
            "violation: 0.0007596973646751683\n",
            "violation: 0.0007558974724940368\n",
            "violation: 0.0007525642896720235\n",
            "violation: 0.0007484055508518245\n",
            "violation: 0.0007448184270993254\n",
            "violation: 1.0\n",
            "violation: 0.30373876963007784\n",
            "violation: 0.17214358318966103\n",
            "violation: 0.10235950241403251\n",
            "violation: 0.062105606447186705\n",
            "violation: 0.04125071999416431\n",
            "violation: 0.03032208838888556\n",
            "violation: 0.024779035320598584\n",
            "violation: 0.021409999455147016\n",
            "violation: 0.018840053479334058\n",
            "violation: 0.0168528383853305\n",
            "violation: 0.015284602407657789\n",
            "violation: 0.014099752820592821\n",
            "violation: 0.013071015103112753\n",
            "violation: 0.01214463386443699\n",
            "violation: 0.011403433194379706\n",
            "violation: 0.010816541329351982\n",
            "violation: 0.010249493017508408\n",
            "violation: 0.009751770457084726\n",
            "violation: 0.009315371678381215\n",
            "violation: 0.008912713281707672\n",
            "violation: 0.008550047406252977\n",
            "violation: 0.008208251902298227\n",
            "violation: 0.007985062930694993\n",
            "violation: 0.007726199122523863\n",
            "violation: 0.007442947526391925\n",
            "violation: 0.007175100900488404\n",
            "violation: 0.00693225373808935\n",
            "violation: 0.006677264703115778\n",
            "violation: 0.006439837757053865\n",
            "violation: 0.006218350907500159\n",
            "violation: 0.00604848240048185\n",
            "violation: 0.005843781717047009\n",
            "violation: 0.005656292675065613\n",
            "violation: 0.005484882450213926\n",
            "violation: 0.005325314803681221\n",
            "violation: 0.0051725463315173345\n",
            "violation: 0.0050285668514587645\n",
            "violation: 0.004889581476417705\n",
            "violation: 0.0047603349666568\n",
            "violation: 0.004640097143565818\n",
            "violation: 0.004520138800566886\n",
            "violation: 0.004408718132655001\n",
            "violation: 0.004300410733549464\n",
            "violation: 0.004194466423067817\n",
            "violation: 0.004106774547952163\n",
            "violation: 0.004006170049343195\n",
            "violation: 0.003906374847559412\n",
            "violation: 0.0038149565421966344\n",
            "violation: 0.0037287893243462393\n",
            "violation: 0.0036402478368481863\n",
            "violation: 0.0035494174398085754\n",
            "violation: 0.0034628592469115706\n",
            "violation: 0.0033749578177495023\n",
            "violation: 0.0033022033862960074\n",
            "violation: 0.0032147051501445175\n",
            "violation: 0.0031422335974531676\n",
            "violation: 0.0030760638456195926\n",
            "violation: 0.0030102775551504196\n",
            "violation: 0.0029465640639237903\n",
            "violation: 0.0028848528517368436\n",
            "violation: 0.002834437959499814\n",
            "violation: 0.0027758348276963273\n",
            "violation: 0.0027057036128888155\n",
            "violation: 0.0026531610870745973\n",
            "violation: 0.0026042299159325104\n",
            "violation: 0.0025496207498533763\n",
            "violation: 0.0024953083827327182\n",
            "violation: 0.0024493094726635574\n",
            "violation: 0.002406476638237247\n",
            "violation: 0.0023657406230239756\n",
            "violation: 0.0023268622292809743\n",
            "violation: 0.002290370973254107\n",
            "violation: 0.0022536491088344713\n",
            "violation: 0.002218800928821331\n",
            "violation: 0.0021874138540212574\n",
            "violation: 0.002157920862473632\n",
            "violation: 0.0021189279288280935\n",
            "violation: 0.0020849545831638835\n",
            "violation: 0.002050510847759387\n",
            "violation: 0.0020185555277196913\n",
            "violation: 0.001986555037695544\n",
            "violation: 0.001956707592033603\n",
            "violation: 0.0019283913561544525\n",
            "violation: 0.0019012223612632838\n",
            "violation: 0.0018736575938783583\n",
            "violation: 0.0018482558849456374\n",
            "violation: 0.0018234635754002101\n",
            "violation: 0.0017992699141127489\n",
            "violation: 0.0017755976492203538\n",
            "violation: 0.0017516687456577572\n",
            "violation: 0.0017281615310732012\n",
            "violation: 0.0017063748711495007\n",
            "violation: 0.0016847255981718287\n",
            "violation: 0.0016626428114226658\n",
            "violation: 0.0016408765004325607\n",
            "violation: 0.0016198022896868954\n",
            "violation: 0.0016000678481050512\n",
            "violation: 0.0015816151956707708\n",
            "violation: 0.001562331720662717\n",
            "violation: 0.0015446008857430847\n",
            "violation: 0.0015260795310777057\n",
            "violation: 0.0015084210470930092\n",
            "violation: 0.0014912547127483035\n",
            "violation: 0.0014743487409944495\n",
            "violation: 0.0014580198093703612\n",
            "violation: 0.0014416610577630132\n",
            "violation: 0.0014254382510849614\n",
            "violation: 0.001409571470926677\n",
            "violation: 0.0013940027376399032\n",
            "violation: 0.001379106442808632\n",
            "violation: 0.0013644839619153467\n",
            "violation: 0.0013505754371309763\n",
            "violation: 0.0013363740861951974\n",
            "violation: 0.0013228712748985265\n",
            "violation: 0.0013091422403018953\n",
            "violation: 0.0012968389373996928\n",
            "violation: 0.0012844788675581704\n",
            "violation: 0.0012721925606319357\n",
            "violation: 0.0012596668211077204\n",
            "violation: 0.0012484538483249154\n",
            "violation: 0.0012368808092088222\n",
            "violation: 0.0012261784732900173\n",
            "violation: 0.001215095476521303\n",
            "violation: 0.001204699278942812\n",
            "violation: 0.0011940983501684305\n",
            "violation: 0.0011837641485461078\n",
            "violation: 0.0011737343220781606\n",
            "violation: 0.001163777407154834\n",
            "violation: 0.0011542202735399195\n",
            "violation: 0.0011445218862178783\n",
            "violation: 0.001135270710801036\n",
            "violation: 0.0011256978348506393\n",
            "violation: 0.0011161893809510154\n",
            "violation: 0.0011073431623135669\n",
            "violation: 0.0010981322029466347\n",
            "violation: 0.0010890209088218732\n",
            "violation: 0.0010807371347479307\n",
            "violation: 0.0010712888660498916\n",
            "violation: 0.001062734750946294\n",
            "violation: 0.0010542770973510965\n",
            "violation: 0.0010458713163484419\n",
            "violation: 0.0010383203275195773\n",
            "violation: 0.0010303383495476478\n",
            "violation: 0.0010223428982583866\n",
            "violation: 0.001014954517058736\n",
            "violation: 0.0010078112860256313\n",
            "violation: 0.001000100127421033\n",
            "violation: 0.0009928404928529633\n",
            "violation: 0.000986539272527427\n",
            "violation: 0.0009795771188972104\n",
            "violation: 0.0009729896706523419\n",
            "violation: 0.0009662412261770719\n",
            "violation: 0.0009599170135473176\n",
            "violation: 0.0009539625389794327\n",
            "violation: 0.0009477090262415855\n",
            "violation: 0.0009416004192018967\n",
            "violation: 0.0009356016794671932\n",
            "violation: 0.0009297659178236127\n",
            "violation: 0.0009244842864061294\n",
            "violation: 0.0009187384369462841\n",
            "violation: 0.000913487452745641\n",
            "violation: 0.0009079361284876701\n",
            "violation: 0.0009028939558209294\n",
            "violation: 0.000897666695690554\n",
            "violation: 0.0008931257449591885\n",
            "violation: 0.0008879351499288878\n",
            "violation: 0.0008835947650700745\n",
            "violation: 0.0008785913655665673\n",
            "violation: 0.0008734086531961708\n",
            "violation: 0.0008685302438923619\n",
            "violation: 0.0008630509848198928\n",
            "violation: 0.0008583865499753834\n",
            "violation: 0.0008541272471022701\n",
            "violation: 0.0008494687984867904\n",
            "violation: 0.0008444213676925119\n",
            "violation: 0.0008397601420442765\n",
            "violation: 0.0008353535540882394\n",
            "violation: 0.0008306369422350062\n",
            "violation: 0.000826190159361283\n",
            "violation: 0.0008216163506668202\n",
            "violation: 0.0008171108035519435\n",
            "violation: 0.0008123590798625434\n",
            "violation: 0.0008081598337261892\n",
            "violation: 0.0008038226599197975\n",
            "violation: 0.000799494702959521\n",
            "violation: 0.000795681491020943\n",
            "violation: 0.0007914762423719884\n",
            "violation: 0.0007871555628455402\n",
            "violation: 0.0007832654824863424\n",
            "violation: 0.0007791786250233477\n",
            "violation: 0.0007755173514575288\n",
            "violation: 0.0007705631306695953\n",
            "violation: 0.0007670871951412684\n",
            "violation: 0.0007630778631808873\n",
            "violation: 0.0007593168056170901\n",
            "violation: 0.0007553153193919753\n",
            "violation: 0.0007519444595477624\n",
            "violation: 0.0007479062939248777\n",
            "violation: 0.0007444677925507882\n"
          ],
          "name": "stdout"
        }
      ]
    },
    {
      "cell_type": "code",
      "metadata": {
        "id": "8bkNtMYrxwEm",
        "colab_type": "code",
        "colab": {}
      },
      "source": [
        "def check_model_nmf(model, divide_dataset_size_by=1, shift=0, **model_kwargs):\n",
        "    model.fit(train_vecs_nmf[shift::divide_dataset_size_by], train_targets[shift::divide_dataset_size_by])\n",
        "    print('fitted!')\n",
        "    train_probs = model.predict_proba(train_vecs_nmf)[:,1]\n",
        "    print(f'train ROC AUC: {roc_auc_score(train_targets, train_probs)}')\n",
        "    probs = model.predict_proba(val_vecs_nmf)[:,1]\n",
        "    print(f'val ROC AUC: {roc_auc_score(val_targets, probs)}')"
      ],
      "execution_count": 0,
      "outputs": []
    },
    {
      "cell_type": "code",
      "metadata": {
        "colab_type": "code",
        "outputId": "46a83447-c374-4cea-b309-4ff0f6d06070",
        "id": "SywzYpfjyDpI",
        "colab": {
          "base_uri": "https://localhost:8080/",
          "height": 68
        }
      },
      "source": [
        "svm_model = SVC(kernel='linear', verbose=1, probability=True)\n",
        "check_model_nmf(svm_model, divide_dataset_size_by=4)"
      ],
      "execution_count": 15,
      "outputs": [
        {
          "output_type": "stream",
          "text": [
            "[LibSVM]fitted!\n",
            "train ROC AUC: 0.4864348865620821\n",
            "val ROC AUC: 0.8367560920374566\n"
          ],
          "name": "stdout"
        }
      ]
    },
    {
      "cell_type": "code",
      "metadata": {
        "colab_type": "code",
        "id": "ThmyuszYyDqu",
        "colab": {
          "base_uri": "https://localhost:8080/",
          "height": 68
        },
        "outputId": "60c4f993-f373-489a-b1dc-cd01007e6192"
      },
      "source": [
        "svm_model = SVC(kernel='poly', verbose=1, degree=3, probability=True)\n",
        "check_model_nmf(svm_model, divide_dataset_size_by=4)"
      ],
      "execution_count": 16,
      "outputs": [
        {
          "output_type": "stream",
          "text": [
            "[LibSVM]fitted!\n",
            "train ROC AUC: 0.5387392897686049\n",
            "val ROC AUC: 0.15989787351030513\n"
          ],
          "name": "stdout"
        }
      ]
    },
    {
      "cell_type": "code",
      "metadata": {
        "colab_type": "code",
        "id": "OfOs-AmlyDq1",
        "colab": {
          "base_uri": "https://localhost:8080/",
          "height": 68
        },
        "outputId": "8bb4b96f-f526-4838-9a01-660ec6f9b911"
      },
      "source": [
        "svm_model = SVC(kernel='rbf', verbose=1, probability=True)\n",
        "check_model_nmf(svm_model, divide_dataset_size_by=4)"
      ],
      "execution_count": 17,
      "outputs": [
        {
          "output_type": "stream",
          "text": [
            "[LibSVM]fitted!\n",
            "train ROC AUC: 0.5390398691549538\n",
            "val ROC AUC: 0.16737984784369414\n"
          ],
          "name": "stdout"
        }
      ]
    },
    {
      "cell_type": "code",
      "metadata": {
        "colab_type": "code",
        "id": "51RdTzYcyDq-",
        "colab": {
          "base_uri": "https://localhost:8080/",
          "height": 68
        },
        "outputId": "6a77ab1e-b868-4f0e-c436-638a80ddfff3"
      },
      "source": [
        "svm_model = SVC(kernel='sigmoid', verbose=1, probability=True)\n",
        "check_model_nmf(svm_model, divide_dataset_size_by=4)"
      ],
      "execution_count": 18,
      "outputs": [
        {
          "output_type": "stream",
          "text": [
            "[LibSVM]fitted!\n",
            "train ROC AUC: 0.4996680898632825\n",
            "val ROC AUC: 0.34292304071313506\n"
          ],
          "name": "stdout"
        }
      ]
    },
    {
      "cell_type": "markdown",
      "metadata": {
        "id": "0qKexrfyyROi",
        "colab_type": "text"
      },
      "source": [
        "# Random Forest"
      ]
    },
    {
      "cell_type": "code",
      "metadata": {
        "id": "FGAS_FnXyS8S",
        "colab_type": "code",
        "colab": {
          "base_uri": "https://localhost:8080/",
          "height": 170
        },
        "outputId": "17d5c86f-9a35-4f40-a540-fb6c3615835f"
      },
      "source": [
        "rfc_model = RandomForestClassifier(verbose=1)\n",
        "check_model_nmf(rfc_model)"
      ],
      "execution_count": 19,
      "outputs": [
        {
          "output_type": "stream",
          "text": [
            "[Parallel(n_jobs=1)]: Using backend SequentialBackend with 1 concurrent workers.\n",
            "[Parallel(n_jobs=1)]: Done 100 out of 100 | elapsed:   57.7s finished\n",
            "[Parallel(n_jobs=1)]: Using backend SequentialBackend with 1 concurrent workers.\n"
          ],
          "name": "stderr"
        },
        {
          "output_type": "stream",
          "text": [
            "fitted!\n"
          ],
          "name": "stdout"
        },
        {
          "output_type": "stream",
          "text": [
            "[Parallel(n_jobs=1)]: Done 100 out of 100 | elapsed:    1.0s finished\n",
            "[Parallel(n_jobs=1)]: Using backend SequentialBackend with 1 concurrent workers.\n"
          ],
          "name": "stderr"
        },
        {
          "output_type": "stream",
          "text": [
            "train ROC AUC: 0.9922301166919509\n",
            "val ROC AUC: 0.6131631620742545\n"
          ],
          "name": "stdout"
        },
        {
          "output_type": "stream",
          "text": [
            "[Parallel(n_jobs=1)]: Done 100 out of 100 | elapsed:    0.4s finished\n"
          ],
          "name": "stderr"
        }
      ]
    },
    {
      "cell_type": "code",
      "metadata": {
        "id": "4OuSCd8KxRk2",
        "colab_type": "code",
        "colab": {
          "base_uri": "https://localhost:8080/",
          "height": 221
        },
        "outputId": "006889b6-48c7-4b76-e640-e2e73111b5e1"
      },
      "source": [
        "!pip install scikit-optimize"
      ],
      "execution_count": 20,
      "outputs": [
        {
          "output_type": "stream",
          "text": [
            "Collecting scikit-optimize\n",
            "\u001b[?25l  Downloading https://files.pythonhosted.org/packages/5c/87/310b52debfbc0cb79764e5770fa3f5c18f6f0754809ea9e2fc185e1b67d3/scikit_optimize-0.7.4-py2.py3-none-any.whl (80kB)\n",
            "\r\u001b[K     |████                            | 10kB 32.2MB/s eta 0:00:01\r\u001b[K     |████████▏                       | 20kB 2.1MB/s eta 0:00:01\r\u001b[K     |████████████▎                   | 30kB 3.1MB/s eta 0:00:01\r\u001b[K     |████████████████▎               | 40kB 2.1MB/s eta 0:00:01\r\u001b[K     |████████████████████▍           | 51kB 2.6MB/s eta 0:00:01\r\u001b[K     |████████████████████████▌       | 61kB 3.1MB/s eta 0:00:01\r\u001b[K     |████████████████████████████▌   | 71kB 3.6MB/s eta 0:00:01\r\u001b[K     |████████████████████████████████| 81kB 3.3MB/s \n",
            "\u001b[?25hRequirement already satisfied: joblib>=0.11 in /usr/local/lib/python3.6/dist-packages (from scikit-optimize) (0.14.1)\n",
            "Collecting pyaml>=16.9\n",
            "  Downloading https://files.pythonhosted.org/packages/0c/c0/6ac03535d1c858ec5fe9ae5a4ad13bc5679b0ad70618f0571af861763c9c/pyaml-20.3.1-py2.py3-none-any.whl\n",
            "Requirement already satisfied: scikit-learn>=0.19.1 in /usr/local/lib/python3.6/dist-packages (from scikit-optimize) (0.22.2.post1)\n",
            "Requirement already satisfied: numpy>=1.11.0 in /usr/local/lib/python3.6/dist-packages (from scikit-optimize) (1.18.2)\n",
            "Requirement already satisfied: scipy>=0.18.0 in /usr/local/lib/python3.6/dist-packages (from scikit-optimize) (1.4.1)\n",
            "Requirement already satisfied: PyYAML in /usr/local/lib/python3.6/dist-packages (from pyaml>=16.9->scikit-optimize) (3.13)\n",
            "Installing collected packages: pyaml, scikit-optimize\n",
            "Successfully installed pyaml-20.3.1 scikit-optimize-0.7.4\n"
          ],
          "name": "stdout"
        }
      ]
    },
    {
      "cell_type": "code",
      "metadata": {
        "id": "KEvgNLrgxaZJ",
        "colab_type": "code",
        "colab": {}
      },
      "source": [
        "from skopt.space import Real, Integer, Categorical\n",
        "from skopt.utils import use_named_args\n",
        "\n",
        "space  = [Integer(1, 10, name='max_depth'),\n",
        "          Integer(3, 100, name='max_features'),\n",
        "          Integer(2, 100, name='min_samples_split'),\n",
        "          Integer(1, 100, name='min_samples_leaf'),\n",
        "          Categorical(['balanced', 'balanced_subsample', None], name='class_weight'),\n",
        "          Categorical([True, False], name='bootstrap')\n",
        "          ]\n",
        "\n",
        "@use_named_args(space)\n",
        "def objective(divide_dataset_size_by=1, shift=0, **params):\n",
        "    rfc_model = RandomForestClassifier(criterion='gini', **params)\n",
        "\n",
        "    rfc_model.fit(train_vecs_nmf[shift::divide_dataset_size_by], train_targets[shift::divide_dataset_size_by])\n",
        "    probs = model.predict_proba(val_vecs_nmf)[:,1]\n",
        "    metric = roc_auc_score(val_targets, probs)\n",
        "    print(f'val ROC AUC: {metric:.6f}')\n",
        "    print(params)\n",
        "    return 1-metric\n"
      ],
      "execution_count": 0,
      "outputs": []
    },
    {
      "cell_type": "code",
      "metadata": {
        "id": "KyihdarM03z_",
        "colab_type": "code",
        "colab": {
          "base_uri": "https://localhost:8080/",
          "height": 357
        },
        "outputId": "ccd04f95-2f38-494c-d9f9-2eb54072c9af"
      },
      "source": [
        "from skopt import gp_minimize\n",
        "res_gp = gp_minimize(objective, space, n_calls=100, random_state=0)\n",
        "\n",
        "\"Best score=%.4f\" % res_gp.fun"
      ],
      "execution_count": 22,
      "outputs": [
        {
          "output_type": "error",
          "ename": "NameError",
          "evalue": "ignored",
          "traceback": [
            "\u001b[0;31m---------------------------------------------------------------------------\u001b[0m",
            "\u001b[0;31mNameError\u001b[0m                                 Traceback (most recent call last)",
            "\u001b[0;32m<ipython-input-22-efe66eb6d21b>\u001b[0m in \u001b[0;36m<module>\u001b[0;34m()\u001b[0m\n\u001b[1;32m      1\u001b[0m \u001b[0;32mfrom\u001b[0m \u001b[0mskopt\u001b[0m \u001b[0;32mimport\u001b[0m \u001b[0mgp_minimize\u001b[0m\u001b[0;34m\u001b[0m\u001b[0;34m\u001b[0m\u001b[0m\n\u001b[0;32m----> 2\u001b[0;31m \u001b[0mres_gp\u001b[0m \u001b[0;34m=\u001b[0m \u001b[0mgp_minimize\u001b[0m\u001b[0;34m(\u001b[0m\u001b[0mobjective\u001b[0m\u001b[0;34m,\u001b[0m \u001b[0mspace\u001b[0m\u001b[0;34m,\u001b[0m \u001b[0mn_calls\u001b[0m\u001b[0;34m=\u001b[0m\u001b[0;36m100\u001b[0m\u001b[0;34m,\u001b[0m \u001b[0mrandom_state\u001b[0m\u001b[0;34m=\u001b[0m\u001b[0;36m0\u001b[0m\u001b[0;34m)\u001b[0m\u001b[0;34m\u001b[0m\u001b[0;34m\u001b[0m\u001b[0m\n\u001b[0m\u001b[1;32m      3\u001b[0m \u001b[0;34m\u001b[0m\u001b[0m\n\u001b[1;32m      4\u001b[0m \u001b[0;34m\"Best score=%.4f\"\u001b[0m \u001b[0;34m%\u001b[0m \u001b[0mres_gp\u001b[0m\u001b[0;34m.\u001b[0m\u001b[0mfun\u001b[0m\u001b[0;34m\u001b[0m\u001b[0;34m\u001b[0m\u001b[0m\n",
            "\u001b[0;32m/usr/local/lib/python3.6/dist-packages/skopt/optimizer/gp.py\u001b[0m in \u001b[0;36mgp_minimize\u001b[0;34m(func, dimensions, base_estimator, n_calls, n_random_starts, acq_func, acq_optimizer, x0, y0, random_state, verbose, callback, n_points, n_restarts_optimizer, xi, kappa, noise, n_jobs, model_queue_size)\u001b[0m\n\u001b[1;32m    269\u001b[0m         \u001b[0mn_restarts_optimizer\u001b[0m\u001b[0;34m=\u001b[0m\u001b[0mn_restarts_optimizer\u001b[0m\u001b[0;34m,\u001b[0m\u001b[0;34m\u001b[0m\u001b[0;34m\u001b[0m\u001b[0m\n\u001b[1;32m    270\u001b[0m         \u001b[0mx0\u001b[0m\u001b[0;34m=\u001b[0m\u001b[0mx0\u001b[0m\u001b[0;34m,\u001b[0m \u001b[0my0\u001b[0m\u001b[0;34m=\u001b[0m\u001b[0my0\u001b[0m\u001b[0;34m,\u001b[0m \u001b[0mrandom_state\u001b[0m\u001b[0;34m=\u001b[0m\u001b[0mrng\u001b[0m\u001b[0;34m,\u001b[0m \u001b[0mverbose\u001b[0m\u001b[0;34m=\u001b[0m\u001b[0mverbose\u001b[0m\u001b[0;34m,\u001b[0m\u001b[0;34m\u001b[0m\u001b[0;34m\u001b[0m\u001b[0m\n\u001b[0;32m--> 271\u001b[0;31m         callback=callback, n_jobs=n_jobs, model_queue_size=model_queue_size)\n\u001b[0m",
            "\u001b[0;32m/usr/local/lib/python3.6/dist-packages/skopt/optimizer/base.py\u001b[0m in \u001b[0;36mbase_minimize\u001b[0;34m(func, dimensions, base_estimator, n_calls, n_random_starts, acq_func, acq_optimizer, x0, y0, random_state, verbose, callback, n_points, n_restarts_optimizer, xi, kappa, n_jobs, model_queue_size)\u001b[0m\n\u001b[1;32m    270\u001b[0m     \u001b[0;32mfor\u001b[0m \u001b[0mn\u001b[0m \u001b[0;32min\u001b[0m \u001b[0mrange\u001b[0m\u001b[0;34m(\u001b[0m\u001b[0mn_calls\u001b[0m\u001b[0;34m)\u001b[0m\u001b[0;34m:\u001b[0m\u001b[0;34m\u001b[0m\u001b[0;34m\u001b[0m\u001b[0m\n\u001b[1;32m    271\u001b[0m         \u001b[0mnext_x\u001b[0m \u001b[0;34m=\u001b[0m \u001b[0moptimizer\u001b[0m\u001b[0;34m.\u001b[0m\u001b[0mask\u001b[0m\u001b[0;34m(\u001b[0m\u001b[0;34m)\u001b[0m\u001b[0;34m\u001b[0m\u001b[0;34m\u001b[0m\u001b[0m\n\u001b[0;32m--> 272\u001b[0;31m         \u001b[0mnext_y\u001b[0m \u001b[0;34m=\u001b[0m \u001b[0mfunc\u001b[0m\u001b[0;34m(\u001b[0m\u001b[0mnext_x\u001b[0m\u001b[0;34m)\u001b[0m\u001b[0;34m\u001b[0m\u001b[0;34m\u001b[0m\u001b[0m\n\u001b[0m\u001b[1;32m    273\u001b[0m         \u001b[0mresult\u001b[0m \u001b[0;34m=\u001b[0m \u001b[0moptimizer\u001b[0m\u001b[0;34m.\u001b[0m\u001b[0mtell\u001b[0m\u001b[0;34m(\u001b[0m\u001b[0mnext_x\u001b[0m\u001b[0;34m,\u001b[0m \u001b[0mnext_y\u001b[0m\u001b[0;34m)\u001b[0m\u001b[0;34m\u001b[0m\u001b[0;34m\u001b[0m\u001b[0m\n\u001b[1;32m    274\u001b[0m         \u001b[0mresult\u001b[0m\u001b[0;34m.\u001b[0m\u001b[0mspecs\u001b[0m \u001b[0;34m=\u001b[0m \u001b[0mspecs\u001b[0m\u001b[0;34m\u001b[0m\u001b[0;34m\u001b[0m\u001b[0m\n",
            "\u001b[0;32m/usr/local/lib/python3.6/dist-packages/skopt/utils.py\u001b[0m in \u001b[0;36mwrapper\u001b[0;34m(x)\u001b[0m\n\u001b[1;32m    762\u001b[0m \u001b[0;34m\u001b[0m\u001b[0m\n\u001b[1;32m    763\u001b[0m             \u001b[0;31m# Call the wrapped objective function with the named arguments.\u001b[0m\u001b[0;34m\u001b[0m\u001b[0;34m\u001b[0m\u001b[0;34m\u001b[0m\u001b[0m\n\u001b[0;32m--> 764\u001b[0;31m             \u001b[0mobjective_value\u001b[0m \u001b[0;34m=\u001b[0m \u001b[0mfunc\u001b[0m\u001b[0;34m(\u001b[0m\u001b[0;34m**\u001b[0m\u001b[0marg_dict\u001b[0m\u001b[0;34m)\u001b[0m\u001b[0;34m\u001b[0m\u001b[0;34m\u001b[0m\u001b[0m\n\u001b[0m\u001b[1;32m    765\u001b[0m \u001b[0;34m\u001b[0m\u001b[0m\n\u001b[1;32m    766\u001b[0m             \u001b[0;32mreturn\u001b[0m \u001b[0mobjective_value\u001b[0m\u001b[0;34m\u001b[0m\u001b[0;34m\u001b[0m\u001b[0m\n",
            "\u001b[0;32m<ipython-input-21-1e80c539608c>\u001b[0m in \u001b[0;36mobjective\u001b[0;34m(divide_dataset_size_by, shift, **params)\u001b[0m\n\u001b[1;32m     15\u001b[0m \u001b[0;34m\u001b[0m\u001b[0m\n\u001b[1;32m     16\u001b[0m     \u001b[0mrfc_model\u001b[0m\u001b[0;34m.\u001b[0m\u001b[0mfit\u001b[0m\u001b[0;34m(\u001b[0m\u001b[0mtrain_vecs_nmf\u001b[0m\u001b[0;34m[\u001b[0m\u001b[0mshift\u001b[0m\u001b[0;34m:\u001b[0m\u001b[0;34m:\u001b[0m\u001b[0mdivide_dataset_size_by\u001b[0m\u001b[0;34m]\u001b[0m\u001b[0;34m,\u001b[0m \u001b[0mtrain_targets\u001b[0m\u001b[0;34m[\u001b[0m\u001b[0mshift\u001b[0m\u001b[0;34m:\u001b[0m\u001b[0;34m:\u001b[0m\u001b[0mdivide_dataset_size_by\u001b[0m\u001b[0;34m]\u001b[0m\u001b[0;34m)\u001b[0m\u001b[0;34m\u001b[0m\u001b[0;34m\u001b[0m\u001b[0m\n\u001b[0;32m---> 17\u001b[0;31m     \u001b[0mprobs\u001b[0m \u001b[0;34m=\u001b[0m \u001b[0mmodel\u001b[0m\u001b[0;34m.\u001b[0m\u001b[0mpredict_proba\u001b[0m\u001b[0;34m(\u001b[0m\u001b[0mval_vecs_nmf\u001b[0m\u001b[0;34m)\u001b[0m\u001b[0;34m[\u001b[0m\u001b[0;34m:\u001b[0m\u001b[0;34m,\u001b[0m\u001b[0;36m1\u001b[0m\u001b[0;34m]\u001b[0m\u001b[0;34m\u001b[0m\u001b[0;34m\u001b[0m\u001b[0m\n\u001b[0m\u001b[1;32m     18\u001b[0m     \u001b[0mmetric\u001b[0m \u001b[0;34m=\u001b[0m \u001b[0mroc_auc_score\u001b[0m\u001b[0;34m(\u001b[0m\u001b[0mval_targets\u001b[0m\u001b[0;34m,\u001b[0m \u001b[0mprobs\u001b[0m\u001b[0;34m)\u001b[0m\u001b[0;34m\u001b[0m\u001b[0;34m\u001b[0m\u001b[0m\n\u001b[1;32m     19\u001b[0m     \u001b[0mprint\u001b[0m\u001b[0;34m(\u001b[0m\u001b[0;34mf'val ROC AUC: {metric:.6f}'\u001b[0m\u001b[0;34m)\u001b[0m\u001b[0;34m\u001b[0m\u001b[0;34m\u001b[0m\u001b[0m\n",
            "\u001b[0;31mNameError\u001b[0m: name 'model' is not defined"
          ]
        }
      ]
    }
  ]
}