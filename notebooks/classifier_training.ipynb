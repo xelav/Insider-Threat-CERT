{
  "nbformat": 4,
  "nbformat_minor": 0,
  "metadata": {
    "kernelspec": {
      "display_name": "Torch3.6",
      "language": "python",
      "name": "torch3.6"
    },
    "language_info": {
      "codemirror_mode": {
        "name": "ipython",
        "version": 3
      },
      "file_extension": ".py",
      "mimetype": "text/x-python",
      "name": "python",
      "nbconvert_exporter": "python",
      "pygments_lexer": "ipython3",
      "version": "3.6.7"
    },
    "colab": {
      "name": "classifier-training.ipynb",
      "provenance": [],
      "collapsed_sections": [],
      "toc_visible": true
    },
    "accelerator": "GPU"
  },
  "cells": [
    {
      "cell_type": "code",
      "metadata": {
        "id": "k8gWjuyAuQ5X",
        "colab_type": "code",
        "outputId": "85e11447-2894-4e8a-b998-21b537ddba64",
        "colab": {
          "base_uri": "https://localhost:8080/",
          "height": 139
        }
      },
      "source": [
        "from google.colab import drive, files\n",
        "drive.mount('/content/drive')\n",
        "\n",
        "root_dir = '/content/drive/My Drive/'\n",
        "\n",
        "%cd \"{root_dir}\""
      ],
      "execution_count": 1,
      "outputs": [
        {
          "output_type": "stream",
          "text": [
            "Go to this URL in a browser: https://accounts.google.com/o/oauth2/auth?client_id=947318989803-6bn6qk8qdgf4n4g3pfee6491hc0brc4i.apps.googleusercontent.com&redirect_uri=urn%3aietf%3awg%3aoauth%3a2.0%3aoob&response_type=code&scope=email%20https%3a%2f%2fwww.googleapis.com%2fauth%2fdocs.test%20https%3a%2f%2fwww.googleapis.com%2fauth%2fdrive%20https%3a%2f%2fwww.googleapis.com%2fauth%2fdrive.photos.readonly%20https%3a%2f%2fwww.googleapis.com%2fauth%2fpeopleapi.readonly\n",
            "\n",
            "Enter your authorization code:\n",
            "··········\n",
            "Mounted at /content/drive\n",
            "/content/drive/My Drive\n"
          ],
          "name": "stdout"
        }
      ]
    },
    {
      "cell_type": "code",
      "metadata": {
        "id": "yxMEkqZBuSze",
        "colab_type": "code",
        "outputId": "32ce47a4-8d5d-44a3-ebe5-22453d0348b6",
        "colab": {
          "base_uri": "https://localhost:8080/",
          "height": 136
        }
      },
      "source": [
        "!git clone https://github.com/xelav/Insider-Threat-CERT /content/repo\n",
        "\n",
        "import sys\n",
        "sys.path.append(\"/content/repo\")"
      ],
      "execution_count": 2,
      "outputs": [
        {
          "output_type": "stream",
          "text": [
            "Cloning into '/content/repo'...\n",
            "remote: Enumerating objects: 181, done.\u001b[K\n",
            "remote: Counting objects: 100% (181/181), done.\u001b[K\n",
            "remote: Compressing objects: 100% (101/101), done.\u001b[K\n",
            "remote: Total 181 (delta 118), reused 133 (delta 78), pack-reused 0\u001b[K\n",
            "Receiving objects: 100% (181/181), 1.37 MiB | 1.19 MiB/s, done.\n",
            "Resolving deltas: 100% (118/118), done.\n"
          ],
          "name": "stdout"
        }
      ]
    },
    {
      "cell_type": "code",
      "metadata": {
        "id": "hW5shXhcEkZN",
        "colab_type": "code",
        "colab": {
          "base_uri": "https://localhost:8080/",
          "height": 255
        },
        "outputId": "8a78c36b-4d5a-4823-8c3d-99252f74480a"
      },
      "source": [
        "%cd \"/root/repo\"\n",
        "!git pull\n",
        "%cd \"{root_dir}\""
      ],
      "execution_count": 20,
      "outputs": [
        {
          "output_type": "stream",
          "text": [
            "/root/repo\n",
            "remote: Enumerating objects: 26, done.\u001b[K\n",
            "remote: Counting objects: 100% (26/26), done.\u001b[K\n",
            "remote: Compressing objects: 100% (4/4), done.\u001b[K\n",
            "remote: Total 18 (delta 14), reused 18 (delta 14), pack-reused 0\u001b[K\n",
            "Unpacking objects: 100% (18/18), done.\n",
            "From https://github.com/xelav/Insider-Threat-CERT\n",
            "   393cde3..45362c8  master     -> origin/master\n",
            "Updating 393cde3..45362c8\n",
            "error: Your local changes to the following files would be overwritten by merge:\n",
            "\tsrc/cnn_trainer.py\n",
            "Please commit your changes or stash them before you merge.\n",
            "Aborting\n",
            "/content/drive/My Drive\n"
          ],
          "name": "stdout"
        }
      ]
    },
    {
      "cell_type": "code",
      "metadata": {
        "id": "t_sqdyi7uian",
        "colab_type": "code",
        "outputId": "abb11151-5bca-45dd-c332-78d0a506f518",
        "colab": {
          "base_uri": "https://localhost:8080/",
          "height": 428
        }
      },
      "source": [
        "!pip install pytorch-ignite\n",
        "%pip install wandb -q\n",
        "\n",
        "import wandb\n",
        "wandb.login()"
      ],
      "execution_count": 3,
      "outputs": [
        {
          "output_type": "stream",
          "text": [
            "Collecting pytorch-ignite\n",
            "\u001b[?25l  Downloading https://files.pythonhosted.org/packages/35/55/41e8a995876fd2ade29bdba0c3efefa38e7d605cb353c70f3173c04928b5/pytorch_ignite-0.3.0-py2.py3-none-any.whl (103kB)\n",
            "\r\u001b[K     |███▏                            | 10kB 30.6MB/s eta 0:00:01\r\u001b[K     |██████▎                         | 20kB 27.8MB/s eta 0:00:01\r\u001b[K     |█████████▌                      | 30kB 32.6MB/s eta 0:00:01\r\u001b[K     |████████████▋                   | 40kB 36.2MB/s eta 0:00:01\r\u001b[K     |███████████████▉                | 51kB 25.7MB/s eta 0:00:01\r\u001b[K     |███████████████████             | 61kB 28.5MB/s eta 0:00:01\r\u001b[K     |██████████████████████▏         | 71kB 7.7MB/s eta 0:00:01\r\u001b[K     |█████████████████████████▎      | 81kB 8.5MB/s eta 0:00:01\r\u001b[K     |████████████████████████████▍   | 92kB 9.4MB/s eta 0:00:01\r\u001b[K     |███████████████████████████████▋| 102kB 9.9MB/s eta 0:00:01\r\u001b[K     |████████████████████████████████| 112kB 9.9MB/s \n",
            "\u001b[?25hRequirement already satisfied: torch in /usr/local/lib/python3.6/dist-packages (from pytorch-ignite) (1.4.0)\n",
            "Installing collected packages: pytorch-ignite\n",
            "Successfully installed pytorch-ignite-0.3.0\n",
            "\u001b[K     |████████████████████████████████| 1.4MB 24.7MB/s \n",
            "\u001b[K     |████████████████████████████████| 102kB 14.3MB/s \n",
            "\u001b[K     |████████████████████████████████| 112kB 61.3MB/s \n",
            "\u001b[K     |████████████████████████████████| 460kB 62.7MB/s \n",
            "\u001b[K     |████████████████████████████████| 102kB 14.7MB/s \n",
            "\u001b[K     |████████████████████████████████| 71kB 10.5MB/s \n",
            "\u001b[K     |████████████████████████████████| 71kB 10.7MB/s \n",
            "\u001b[?25h  Building wheel for watchdog (setup.py) ... \u001b[?25l\u001b[?25hdone\n",
            "  Building wheel for gql (setup.py) ... \u001b[?25l\u001b[?25hdone\n",
            "  Building wheel for subprocess32 (setup.py) ... \u001b[?25l\u001b[?25hdone\n",
            "  Building wheel for pathtools (setup.py) ... \u001b[?25l\u001b[?25hdone\n",
            "  Building wheel for graphql-core (setup.py) ... \u001b[?25l\u001b[?25hdone\n"
          ],
          "name": "stdout"
        },
        {
          "output_type": "display_data",
          "data": {
            "application/javascript": [
              "\n",
              "        window._wandbApiKey = new Promise((resolve, reject) => {\n",
              "            function loadScript(url) {\n",
              "            return new Promise(function(resolve, reject) {\n",
              "                let newScript = document.createElement(\"script\");\n",
              "                newScript.onerror = reject;\n",
              "                newScript.onload = resolve;\n",
              "                document.body.appendChild(newScript);\n",
              "                newScript.src = url;\n",
              "            });\n",
              "            }\n",
              "            loadScript(\"https://cdn.jsdelivr.net/npm/postmate/build/postmate.min.js\").then(() => {\n",
              "            const iframe = document.createElement('iframe')\n",
              "            iframe.style.cssText = \"width:0;height:0;border:none\"\n",
              "            document.body.appendChild(iframe)\n",
              "            const handshake = new Postmate({\n",
              "                container: iframe,\n",
              "                url: 'https://app.wandb.ai/authorize'\n",
              "            });\n",
              "            const timeout = setTimeout(() => reject(\"Couldn't auto authenticate\"), 5000)\n",
              "            handshake.then(function(child) {\n",
              "                child.on('authorize', data => {\n",
              "                    clearTimeout(timeout)\n",
              "                    resolve(data)\n",
              "                });\n",
              "            });\n",
              "            })\n",
              "        });\n",
              "    "
            ],
            "text/plain": [
              "<IPython.core.display.Javascript object>"
            ]
          },
          "metadata": {
            "tags": []
          }
        },
        {
          "output_type": "stream",
          "text": [
            "\u001b[34m\u001b[1mwandb\u001b[0m: \u001b[32m\u001b[41mERROR\u001b[0m Not authenticated.  Copy a key from https://app.wandb.ai/authorize\n"
          ],
          "name": "stderr"
        },
        {
          "output_type": "stream",
          "text": [
            "API Key: ··········\n"
          ],
          "name": "stdout"
        },
        {
          "output_type": "stream",
          "text": [
            "\u001b[34m\u001b[1mwandb\u001b[0m: Appending key for api.wandb.ai to your netrc file: /root/.netrc\n"
          ],
          "name": "stderr"
        },
        {
          "output_type": "execute_result",
          "data": {
            "text/plain": [
              "True"
            ]
          },
          "metadata": {
            "tags": []
          },
          "execution_count": 3
        }
      ]
    },
    {
      "cell_type": "code",
      "metadata": {
        "id": "Py9zKnHft6wO",
        "colab_type": "code",
        "outputId": "d73f144c-5077-453c-ae15-4a968e10d7c8",
        "colab": {
          "base_uri": "https://localhost:8080/",
          "height": 51
        }
      },
      "source": [
        "%load_ext autoreload\n",
        "%autoreload 2\n",
        "\n",
        "import torch\n",
        "import torch.nn as nn\n",
        "import torch.nn.functional as F\n",
        "from torch import optim\n",
        "\n",
        "from pathlib import Path\n",
        "import pandas as pd\n",
        "import pickle\n",
        "import numpy as np\n",
        "import shutil\n",
        "# from tqdm import tqdm_notebook as tqdm\n",
        "\n",
        "import torch.utils.data\n",
        "from ignite.engine import Events, create_supervised_trainer, create_supervised_evaluator, Engine\n",
        "from ignite.metrics import Accuracy, Loss\n",
        "\n",
        "from src.models import InsiderClassifier, LSTM_Encoder\n",
        "from src.params import get_params\n",
        "from src.dataset import CertDataset, create_data_loaders\n",
        "from src.cnn_trainer import *"
      ],
      "execution_count": 23,
      "outputs": [
        {
          "output_type": "stream",
          "text": [
            "The autoreload extension is already loaded. To reload it, use:\n",
            "  %reload_ext autoreload\n"
          ],
          "name": "stdout"
        }
      ]
    },
    {
      "cell_type": "code",
      "metadata": {
        "id": "Y8bxpndyt6wk",
        "colab_type": "code",
        "colab": {}
      },
      "source": [
        "output_dir = Path(f'{root_dir}/Datasets/CERT_output')\n",
        "answers_dir = Path(f\"{root_dir}/Datasets/CERT/answers\")\n",
        "main_answers_file = answers_dir / \"insiders.csv\"\n",
        "\n",
        "# lstm_checkpoint = output_dir / 'checkpoints/lstm/final2-nll/final_model_3040.pth'\n",
        "lstm_checkpoint = output_dir / 'checkpoints/lstm/base-veryfinal2/best_model_498_non_pad_accuracy=0.7740616312925708.pth'\n",
        "assert(lstm_checkpoint.is_file())\n",
        "\n",
        "run_name = 'cnn/relu-wadb-test2'\n",
        "log_dir = output_dir / 'logs' / run_name\n",
        "checkpoint_dir = output_dir / 'checkpoints' / run_name\n",
        "\n",
        "assert(not log_dir.is_dir())\n",
        "assert(not checkpoint_dir.is_dir())\n",
        "\n",
        "# if log_dir.is_dir():\n",
        "#     shutil.rmtree(log_dir)\n",
        "# if checkpoint_dir.is_dir():\n",
        "#     shutil.rmtree(checkpoint_dir)"
      ],
      "execution_count": 0,
      "outputs": []
    },
    {
      "cell_type": "code",
      "metadata": {
        "id": "0kmp6MRMhI8I",
        "colab_type": "code",
        "colab": {}
      },
      "source": [
        "params = get_params()\n",
        "params['model']['lstm_encoder']['embedding_size'] = None\n",
        "\n",
        "train_params = params['train']['cnn_classifier']\n",
        "\n",
        "device = 'cuda'"
      ],
      "execution_count": 0,
      "outputs": []
    },
    {
      "cell_type": "code",
      "metadata": {
        "id": "3WAHxaeIt6wu",
        "colab_type": "code",
        "colab": {}
      },
      "source": [
        "actions, targets = CertDataset.prepare_dataset(\n",
        "    output_dir / 'aggregated.pkl',\n",
        "    main_answers_file,\n",
        "    min_length=params['min_seq_length'],\n",
        "    max_length=params['seq_length'])\n",
        "\n",
        "cert_dataset = CertDataset(actions, targets)\n",
        "train_loader, val_loader = create_data_loaders(\n",
        "    cert_dataset,\n",
        "    validation_split=0.3,\n",
        "    random_seed=0,\n",
        "    batch_size=train_params['batch_size'])"
      ],
      "execution_count": 0,
      "outputs": []
    },
    {
      "cell_type": "code",
      "metadata": {
        "id": "ON_egvDHt6xC",
        "colab_type": "code",
        "colab": {}
      },
      "source": [
        "def calculate_weights(targets, weight_beta=0.1):\n",
        "\n",
        "    anomalous_num = targets.sum()\n",
        "    overall_num = targets.shape[0]\n",
        "    non_anomalous_num = overall_num - anomalous_num\n",
        "\n",
        "    anomalous_weight = 1 + (non_anomalous_num - anomalous_num) / (weight_beta * non_anomalous_num)\n",
        "\n",
        "    weight = torch.tensor([1, anomalous_weight]).float()\n",
        "\n",
        "    return weight\n",
        "\n",
        "class_weights = calculate_weights(targets, train_params['weighting_beta']).to(device)"
      ],
      "execution_count": 0,
      "outputs": []
    },
    {
      "cell_type": "code",
      "metadata": {
        "id": "Xho5K5-6t6xX",
        "colab_type": "code",
        "colab": {}
      },
      "source": [
        "model = InsiderClassifier(params['model'], lstm_checkpoint)\n",
        "\n",
        "criterion = nn.CrossEntropyLoss(weight=class_weights)\n",
        "optimizer = optim.Adam(model.parameters())\n",
        "\n",
        "train_engine = create_supervised_trainer(\n",
        "                                        model, optimizer, criterion, device=device,\n",
        "                                        prepare_batch=prepare_batch,\n",
        "                                        log_dir=(output_dir / 'logs' / 'cnn' / run_name).as_posix(),\n",
        "                                        checkpoint_dir=output_dir / 'checkpoints' / 'cnn' / run_name\n",
        "                                       )\n",
        "\n",
        "val_engine = create_supervised_evaluator(\n",
        "        model, device=device,\n",
        "        prepare_batch=prepare_batch,\n",
        "        metrics={},\n",
        "        criterion=criterion,\n",
        "        log_dir=log_dir.as_posix(),\n",
        ")\n",
        "\n",
        "@train_engine.on(Events.STARTED)\n",
        "def initial_validation(trainer):\n",
        "    print('Initial validation run:')\n",
        "    val_engine.train_epoch = 0\n",
        "    val_engine.run(val_loader)\n",
        "\n",
        "    wandb.run.summary[\"best_val_roc_auc\"] = val_engine.state.metrics['roc_auc']\n",
        "    wandb.run.summary[\"best_val_loss\"] = val_engine.state.metrics['loss']\n",
        "\n",
        "\n",
        "@train_engine.on(Events.EPOCH_COMPLETED)\n",
        "def log_training_results(trainer):\n",
        "    val_engine.train_epoch = train_engine.state.epoch\n",
        "    val_engine.run(val_loader)\n",
        "\n",
        "    if val_engine.state.metrics['roc_auc'] > wandb.run.summary[\"best_val_roc_auc\"]:\n",
        "        wandb.run.summary[\"best_val_roc_auc\"] = val_engine.state.metrics['roc_auc']\n",
        "        wandb.run.summary[\"best_val_loss\"] = val_engine.state.metrics['loss']\n",
        "        wandb.run.summary[\"best_train_roc_auc\"] = train_engine.state.metrics['roc_auc']\n",
        "        wandb.run.summary[\"best_train_loss\"] = train_engine.state.metrics['loss']\n"
      ],
      "execution_count": 0,
      "outputs": []
    },
    {
      "cell_type": "code",
      "metadata": {
        "id": "aXCSI3QvCXl3",
        "colab_type": "code",
        "colab": {
          "base_uri": "https://localhost:8080/",
          "height": 85
        },
        "outputId": "4eec88bb-8af2-4a92-cfb8-072853efa9e4"
      },
      "source": [
        "wandb.init(project=\"cert-cnn\", config=params)\n",
        "wandb.watch(model)"
      ],
      "execution_count": 36,
      "outputs": [
        {
          "output_type": "display_data",
          "data": {
            "text/html": [
              "\n",
              "                Logging results to <a href=\"https://wandb.com\" target=\"_blank\">Weights & Biases</a> <a href=\"https://docs.wandb.com/integrations/jupyter.html\" target=\"_blank\">(Documentation)</a>.<br/>\n",
              "                Project page: <a href=\"https://app.wandb.ai/xelav/cert-cnn\" target=\"_blank\">https://app.wandb.ai/xelav/cert-cnn</a><br/>\n",
              "                Run page: <a href=\"https://app.wandb.ai/xelav/cert-cnn/runs/h2rsl3tt\" target=\"_blank\">https://app.wandb.ai/xelav/cert-cnn/runs/h2rsl3tt</a><br/>\n",
              "            "
            ],
            "text/plain": [
              "<IPython.core.display.HTML object>"
            ]
          },
          "metadata": {
            "tags": []
          }
        },
        {
          "output_type": "execute_result",
          "data": {
            "text/plain": [
              "[<wandb.wandb_torch.TorchGraph at 0x7ffa421f4470>]"
            ]
          },
          "metadata": {
            "tags": []
          },
          "execution_count": 36
        }
      ]
    },
    {
      "cell_type": "code",
      "metadata": {
        "id": "OV8gyeh_t6xh",
        "colab_type": "code",
        "outputId": "f46f5da5-6eaa-4a7d-c954-73b190daec57",
        "colab": {
          "base_uri": "https://localhost:8080/",
          "height": 221
        }
      },
      "source": [
        "torch.manual_seed(train_params['manual_seed'])\n",
        "train_engine.run(train_loader, max_epochs=train_params['num_epochs'])"
      ],
      "execution_count": 0,
      "outputs": [
        {
          "output_type": "stream",
          "text": [
            "Initial validation run:\n",
            "Validation Results - Avg loss: 0.730658, ROC AUC: 0.566782\n",
            "Train Results - Avg loss: 0.040293, ROC AUC: 0.517635\n",
            "Validation Results - Avg loss: 0.024023, ROC AUC: 0.749399\n",
            "Train Results - Avg loss: 0.026686, ROC AUC: 0.569166\n",
            "Validation Results - Avg loss: 0.023824, ROC AUC: 0.798583\n",
            "Train Results - Avg loss: 0.024869, ROC AUC: 0.785421\n",
            "Validation Results - Avg loss: 0.021582, ROC AUC: 0.889102\n",
            "Train Results - Avg loss: 0.021866, ROC AUC: 0.885737\n",
            "Validation Results - Avg loss: 0.019760, ROC AUC: 0.895779\n",
            "Train Results - Avg loss: 0.020231, ROC AUC: 0.914306\n",
            "Validation Results - Avg loss: 0.018998, ROC AUC: 0.903483\n"
          ],
          "name": "stdout"
        }
      ]
    },
    {
      "cell_type": "code",
      "metadata": {
        "id": "e0tfqd6-u26-",
        "colab_type": "code",
        "colab": {}
      },
      "source": [
        "%load_ext tensorboard\n",
        "%tensorboard --logdir \"{log_dir}\""
      ],
      "execution_count": 0,
      "outputs": []
    },
    {
      "cell_type": "code",
      "metadata": {
        "id": "aiWOd23-R6Bb",
        "colab_type": "code",
        "outputId": "b208aef9-e51b-4770-bbac-4b97c411e9c5",
        "colab": {
          "base_uri": "https://localhost:8080/",
          "height": 85
        }
      },
      "source": [
        "%cd \"{output_dir}\"\n",
        "!ls"
      ],
      "execution_count": 0,
      "outputs": [
        {
          "output_type": "stream",
          "text": [
            "/content/drive/My Drive/Datasets/CERT_output\n",
            "aggregated.pkl\t     device_preprocessed.csv  logon_preprocessed.csv\n",
            "checkpoint_1000.pth  email_preprocessed.csv   logs\n",
            "checkpoints\t     file_preprocessed.csv\n"
          ],
          "name": "stdout"
        }
      ]
    },
    {
      "cell_type": "code",
      "metadata": {
        "id": "tAAubew0bnQw",
        "colab_type": "code",
        "outputId": "8a42f444-8af1-4af3-c798-c49bda92883c",
        "colab": {
          "base_uri": "https://localhost:8080/",
          "height": 102
        }
      },
      "source": [
        "# log_zip =  output_dir / 'logs' / (run_name + '_logs.zip')\n",
        "log_zip = log_dir.stem + '_logs.zip'\n",
        "%cd \"{output_dir / 'logs'}\"\n",
        "!zip -r \"$log_zip\" \"$run_name\"\n",
        "files.download(log_zip)"
      ],
      "execution_count": 0,
      "outputs": [
        {
          "output_type": "stream",
          "text": [
            "/content/drive/My Drive/Datasets/CERT_output/logs\n",
            "  adding: cnn/relu-batchnorm/ (stored 0%)\n",
            "  adding: cnn/relu-batchnorm/validation/ (stored 0%)\n",
            "  adding: cnn/relu-batchnorm/validation/events.out.tfevents.1586931120.450bbb643380.121.3 (deflated 19%)\n",
            "  adding: cnn/relu-batchnorm/validation/events.out.tfevents.1586931242.450bbb643380.121.5 (deflated 70%)\n"
          ],
          "name": "stdout"
        }
      ]
    },
    {
      "cell_type": "markdown",
      "metadata": {
        "id": "kBi9lBTUt6xr",
        "colab_type": "text"
      },
      "source": [
        "# Prediction exploration"
      ]
    },
    {
      "cell_type": "code",
      "metadata": {
        "id": "z8iMgkoXt6xt",
        "colab_type": "code",
        "outputId": "1fe03fa0-a2b3-47ed-9647-94e537acbab0",
        "colab": {}
      },
      "source": [
        "model.eval()"
      ],
      "execution_count": 0,
      "outputs": [
        {
          "output_type": "execute_result",
          "data": {
            "text/plain": [
              "InsiderClassifier(\n",
              "  (lstm_encoder): LSTM_Encoder(\n",
              "    (lstm_encoder): LSTM(64, 40, num_layers=3, batch_first=True, dropout=0.5)\n",
              "    (dropout): Dropout(p=0.5)\n",
              "    (decoder): Linear(in_features=40, out_features=64, bias=True)\n",
              "    (log_softmax): LogSoftmax()\n",
              "  )\n",
              "  (sigmoid): Sigmoid()\n",
              "  (cnn_classifier): CNN_Classifier(\n",
              "    (conv1): Conv2d(1, 32, kernel_size=(5, 5), stride=(1, 1), padding=(2, 2))\n",
              "    (maxpool1): MaxPool2d(kernel_size=2, stride=2, padding=0, dilation=1, ceil_mode=False)\n",
              "    (conv2): Conv2d(32, 64, kernel_size=(5, 5), stride=(1, 1), padding=(2, 2))\n",
              "    (maxpool2): MaxPool2d(kernel_size=2, stride=2, padding=0, dilation=1, ceil_mode=False)\n",
              "    (linear): Linear(in_features=32000, out_features=2, bias=True)\n",
              "    (softmax): LogSoftmax()\n",
              "  )\n",
              ")"
            ]
          },
          "metadata": {
            "tags": []
          },
          "execution_count": 40
        }
      ]
    },
    {
      "cell_type": "code",
      "metadata": {
        "id": "PeRE_H-xt6x3",
        "colab_type": "code",
        "colab": {}
      },
      "source": [
        "it = iter(val_loader)\n",
        "for batch in it:\n",
        "    x, y = prepare_batch(batch)\n",
        "    if y.sum() > 0:\n",
        "        break"
      ],
      "execution_count": 0,
      "outputs": []
    },
    {
      "cell_type": "code",
      "metadata": {
        "id": "ybV4TTC8t6yB",
        "colab_type": "code",
        "outputId": "029f5339-a2b4-4a5f-abd3-9d6a9ad2cda8",
        "colab": {}
      },
      "source": [
        "ind = (y==1).nonzero()[0]\n",
        "ind"
      ],
      "execution_count": 0,
      "outputs": [
        {
          "output_type": "execute_result",
          "data": {
            "text/plain": [
              "tensor([46])"
            ]
          },
          "metadata": {
            "tags": []
          },
          "execution_count": 42
        }
      ]
    },
    {
      "cell_type": "code",
      "metadata": {
        "id": "hG67FGGyt6yM",
        "colab_type": "code",
        "outputId": "afbef7e1-c275-4836-fac2-3db2d8b4e9ef",
        "colab": {}
      },
      "source": [
        "with torch.no_grad():\n",
        "    res = model(x.to(device))[ind]\n",
        "F.softmax(res)"
      ],
      "execution_count": 0,
      "outputs": [
        {
          "output_type": "stream",
          "text": [
            "C:\\Anaconda3\\envs\\python3.6-torch\\lib\\site-packages\\ipykernel_launcher.py:3: UserWarning: Implicit dimension choice for softmax has been deprecated. Change the call to include dim=X as an argument.\n",
            "  This is separate from the ipykernel package so we can avoid doing imports until\n"
          ],
          "name": "stderr"
        },
        {
          "output_type": "execute_result",
          "data": {
            "text/plain": [
              "tensor([[0.8219, 0.1781]], device='cuda:0')"
            ]
          },
          "metadata": {
            "tags": []
          },
          "execution_count": 43
        }
      ]
    },
    {
      "cell_type": "code",
      "metadata": {
        "id": "YSIJgDiWt6yW",
        "colab_type": "code",
        "colab": {}
      },
      "source": [
        ""
      ],
      "execution_count": 0,
      "outputs": []
    }
  ]
}